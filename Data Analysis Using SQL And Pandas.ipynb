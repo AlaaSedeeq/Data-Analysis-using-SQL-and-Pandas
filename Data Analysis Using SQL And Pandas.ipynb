{
 "cells": [
  {
   "cell_type": "markdown",
   "metadata": {
    "papermill": {
     "duration": 0.044129,
     "end_time": "2022-06-09T17:46:54.627669",
     "exception": false,
     "start_time": "2022-06-09T17:46:54.583540",
     "status": "completed"
    },
    "tags": []
   },
   "source": [
    "------------------------------------------\n",
    "------------------------------------------\n",
    "# <p style=\"background-color:#CCE3F2; font-family:newtimeroman; font-size:175%; text-align:center; border-radius: 15px 50px;\">Data Analysis using SQL and Pandas</p>\n",
    "\n",
    "------------------------------------------\n",
    "------------------------------------------"
   ]
  },
  {
   "cell_type": "markdown",
   "metadata": {
    "papermill": {
     "duration": 0.04462,
     "end_time": "2022-06-09T17:46:54.717365",
     "exception": false,
     "start_time": "2022-06-09T17:46:54.672745",
     "status": "completed"
    },
    "tags": []
   },
   "source": [
    "<p style=\"background-color:skyblue; font-family:newtimeroman; font-size:200%; text-align:center; border-radius: 10px 100px;\"><b>Introduction</b></p>\n",
    "<b>\n",
    "<li>In this notebook i will do some data cleaning and data analysis using SQL and Pandas.</li>\n",
    "<br>\n",
    "<li>This data from <a href=\"https://www.coursera.org/learn/data-wrangling-analysis-abtesting\">Data Wrangling, Analysis and AB Testing with SQL</a> Coursera course from University of California, and i will join all the data together in one database using python library <b><a href=\"https://docs.python.org/3/library/sqlite3.html\">sqlite3</a></b>,then i will try to do some data analysis and data visualization using <b>plotly</b> library (more intractive) and answer some questions.</li>\n",
    "<br>\n",
    "<p style=\"background-color:skyblue; font-family:newtimeroman; font-size:200%; text-align:center; border-radius: 10px 100px;\">Outline:</p>\n",
    "<ul>\n",
    "   <li><a href=\"#Importing the needed libraries\">Importing the needed libraries</a></li>\n",
    "   <li><a href=\"#Importing the data and join them in a database\">Importing the data and join them in a database and explore our tables</a></li>\n",
    "   <li><a href=\"#EDA\">EDA</a></li>\n",
    "   <li>\n",
    "      <a href=\"#Answering some quistions:\">Answering some quistions:</a>\n",
    "      <ul>\n",
    "         <li><a href=\"#q1\">How many users do we have?</a></li>\n",
    "         <li><a href=\"#q2\">What is the number of users who have ordered an item?</a></li>\n",
    "         <li><a href=\"#q3\">What is the number of events for each event name?</a></li>\n",
    "         <li><a href=\"#q4\">What is the number of events for each Platform?</a></li>\n",
    "         <li><a href=\"#q5\">What is the number of items for sale in each category?</a></li>\n",
    "         <li><a href=\"#q6\">What is the number of view user profile?</a></li>\n",
    "         <li><a href=\"#q7\">How many email address for each email domains?</a></li>\n",
    "         <li><a href=\"#q8\">Show the users who have viewed items?</a></li>\n",
    "         <li><a href=\"#q9\">Create a tables for each event name (view_item, view_user_profile, test_assignment events)</a></li>\n",
    "         <li><a href=\"#q10\">What percent of users have viewed items for each product category?</a></li>\n",
    "         <li><a href=\"#q11\">How many items have been purchased and how many items do we have?</a></li>\n",
    "         <li><a href=\"#q12\">How many items have been purchased for each category?</a></li>\n",
    "         <li><a href=\"#q13\">How many orders are placed each day?</a></li>\n",
    "         <li><a href=\"#q14\">What is the most recently viewed item for each user?</a></li>\n",
    "         <li><a href=\"#q15\">How long ago was their most recent view?</a></li>\n",
    "         <li><a href=\"#q16\">How many users have reordered an item?</a></li>\n",
    "         <li><a href=\"#q17\">How many users have reordered the same item?</a></li>\n",
    "         <li><a href=\"#q18\">How many orders per items?</a></li>\n",
    "         <li><a href=\"#q19\">How many orders per category?</a></li>\n",
    "         <li><a href=\"#q20\">What is the avgerage times each category has ordered?</a></li>\n",
    "         <li><a href=\"#q21\">What is the average time between orders?</a></li>\n",
    "      </ul>\n",
    "</ul>\n",
    "<li><a href=\"#filter\">create a filter function  to apply a filter on our data using pandas</a></li>\n",
    "<br>"
   ]
  },
  {
   "cell_type": "markdown",
   "metadata": {
    "papermill": {
     "duration": 0.042542,
     "end_time": "2022-06-09T17:46:54.802049",
     "exception": false,
     "start_time": "2022-06-09T17:46:54.759507",
     "status": "completed"
    },
    "tags": []
   },
   "source": [
    "<a id='Importing the needed libraries'></a>\n",
    "<h2>Importing the needed libraries"
   ]
  },
  {
   "cell_type": "code",
   "execution_count": 8,
   "metadata": {
    "execution": {
     "iopub.execute_input": "2022-06-09T17:46:54.893445Z",
     "iopub.status.busy": "2022-06-09T17:46:54.892805Z",
     "iopub.status.idle": "2022-06-09T17:46:58.339322Z",
     "shell.execute_reply": "2022-06-09T17:46:58.338710Z"
    },
    "papermill": {
     "duration": 3.492848,
     "end_time": "2022-06-09T17:46:58.339550",
     "exception": false,
     "start_time": "2022-06-09T17:46:54.846702",
     "status": "completed"
    },
    "tags": []
   },
   "outputs": [],
   "source": [
    "#basic libraries\n",
    "import os\n",
    "import re\n",
    "import csv\n",
    "import sqlite3\n",
    "import pandas as pd\n",
    "import pandasql as ps\n",
    "import numpy as np\n",
    "\n",
    "#visualization libraaries\n",
    "import matplotlib.pyplot as plt\n",
    "import seaborn as sns\n",
    "\n",
    "# To connect java script to your notebook\n",
    "original_path = 'data'"
   ]
  },
  {
   "cell_type": "markdown",
   "metadata": {
    "papermill": {
     "duration": 0.043446,
     "end_time": "2022-06-09T17:46:58.427567",
     "exception": false,
     "start_time": "2022-06-09T17:46:58.384121",
     "status": "completed"
    },
    "tags": []
   },
   "source": [
    "<a id='Importing the data and join them in a database'></a>\n",
    "<h2>Importing the data and join them in a database</h2>"
   ]
  },
  {
   "cell_type": "code",
   "execution_count": 9,
   "metadata": {
    "execution": {
     "iopub.execute_input": "2022-06-09T17:46:58.522122Z",
     "iopub.status.busy": "2022-06-09T17:46:58.521494Z",
     "iopub.status.idle": "2022-06-09T17:46:58.524168Z",
     "shell.execute_reply": "2022-06-09T17:46:58.524684Z"
    },
    "papermill": {
     "duration": 0.052755,
     "end_time": "2022-06-09T17:46:58.524889",
     "exception": false,
     "start_time": "2022-06-09T17:46:58.472134",
     "status": "completed"
    },
    "tags": []
   },
   "outputs": [],
   "source": [
    "files = ['dsv1069_users.csv','dsv1069_orders.csv','dsv1069_events.csv',\n",
    "         'dsv1069_items.csv','dsc1069_date_rollup.csv']"
   ]
  },
  {
   "cell_type": "code",
   "execution_count": 10,
   "metadata": {
    "execution": {
     "iopub.execute_input": "2022-06-09T17:46:58.629268Z",
     "iopub.status.busy": "2022-06-09T17:46:58.628222Z",
     "iopub.status.idle": "2022-06-09T17:47:05.391344Z",
     "shell.execute_reply": "2022-06-09T17:47:05.390648Z"
    },
    "papermill": {
     "duration": 6.823694,
     "end_time": "2022-06-09T17:47:05.391505",
     "exception": false,
     "start_time": "2022-06-09T17:46:58.567811",
     "status": "completed"
    },
    "tags": []
   },
   "outputs": [
    {
     "name": "stderr",
     "output_type": "stream",
     "text": [
      "C:\\Users\\ALAASE~1\\AppData\\Local\\Temp/ipykernel_12764/639851152.py:6: DtypeWarning: Columns (6) have mixed types. Specify dtype option on import or set low_memory=False.\n",
      "  df = pd.read_csv(os.path.join(original_path,file))\n"
     ]
    }
   ],
   "source": [
    "conn = sqlite3.connect('data.db')\n",
    "c = conn.cursor()\n",
    "\n",
    "for file in files:\n",
    "    tb_name = ''.join(re.findall('([A-Za-z]+)',file)[1:-1])\n",
    "    df = pd.read_csv(os.path.join(original_path,file))\n",
    "    df.to_sql(tb_name, conn, if_exists='append', index=False)"
   ]
  },
  {
   "cell_type": "markdown",
   "metadata": {
    "papermill": {
     "duration": 0.043282,
     "end_time": "2022-06-09T17:47:05.478064",
     "exception": false,
     "start_time": "2022-06-09T17:47:05.434782",
     "status": "completed"
    },
    "tags": []
   },
   "source": [
    "## Lets Explore our tables "
   ]
  },
  {
   "cell_type": "code",
   "execution_count": 11,
   "metadata": {
    "execution": {
     "iopub.execute_input": "2022-06-09T17:47:05.571172Z",
     "iopub.status.busy": "2022-06-09T17:47:05.570513Z",
     "iopub.status.idle": "2022-06-09T17:47:05.573182Z",
     "shell.execute_reply": "2022-06-09T17:47:05.573615Z"
    },
    "papermill": {
     "duration": 0.052253,
     "end_time": "2022-06-09T17:47:05.573795",
     "exception": false,
     "start_time": "2022-06-09T17:47:05.521542",
     "status": "completed"
    },
    "tags": []
   },
   "outputs": [],
   "source": [
    "# lets define these functions to be able to write sql query easily !!\n",
    "\n",
    "def sq(q):\n",
    "    with conn:\n",
    "        return pd.read_sql_query(q, conn)\n",
    "\n",
    "# the same function but rename the columns to be more readable\n",
    "def sq1(q):\n",
    "    with conn:\n",
    "        return pd.read_sql_query(q, conn).rename(columns=lambda x : x.title().replace('_',' '))"
   ]
  },
  {
   "cell_type": "code",
   "execution_count": 12,
   "metadata": {
    "execution": {
     "iopub.execute_input": "2022-06-09T17:47:05.667953Z",
     "iopub.status.busy": "2022-06-09T17:47:05.664111Z",
     "iopub.status.idle": "2022-06-09T17:47:05.684870Z",
     "shell.execute_reply": "2022-06-09T17:47:05.684275Z"
    },
    "papermill": {
     "duration": 0.068298,
     "end_time": "2022-06-09T17:47:05.685036",
     "exception": false,
     "start_time": "2022-06-09T17:47:05.616738",
     "status": "completed"
    },
    "tags": []
   },
   "outputs": [
    {
     "data": {
      "text/html": [
       "<div>\n",
       "<style scoped>\n",
       "    .dataframe tbody tr th:only-of-type {\n",
       "        vertical-align: middle;\n",
       "    }\n",
       "\n",
       "    .dataframe tbody tr th {\n",
       "        vertical-align: top;\n",
       "    }\n",
       "\n",
       "    .dataframe thead th {\n",
       "        text-align: right;\n",
       "    }\n",
       "</style>\n",
       "<table border=\"1\" class=\"dataframe\">\n",
       "  <thead>\n",
       "    <tr style=\"text-align: right;\">\n",
       "      <th></th>\n",
       "      <th>name</th>\n",
       "      <th>type</th>\n",
       "    </tr>\n",
       "  </thead>\n",
       "  <tbody>\n",
       "    <tr>\n",
       "      <th>0</th>\n",
       "      <td>users</td>\n",
       "      <td>table</td>\n",
       "    </tr>\n",
       "    <tr>\n",
       "      <th>1</th>\n",
       "      <td>orders</td>\n",
       "      <td>table</td>\n",
       "    </tr>\n",
       "    <tr>\n",
       "      <th>2</th>\n",
       "      <td>events</td>\n",
       "      <td>table</td>\n",
       "    </tr>\n",
       "    <tr>\n",
       "      <th>3</th>\n",
       "      <td>items</td>\n",
       "      <td>table</td>\n",
       "    </tr>\n",
       "    <tr>\n",
       "      <th>4</th>\n",
       "      <td>daterollup</td>\n",
       "      <td>table</td>\n",
       "    </tr>\n",
       "  </tbody>\n",
       "</table>\n",
       "</div>"
      ],
      "text/plain": [
       "         name   type\n",
       "0       users  table\n",
       "1      orders  table\n",
       "2      events  table\n",
       "3       items  table\n",
       "4  daterollup  table"
      ]
     },
     "execution_count": 12,
     "metadata": {},
     "output_type": "execute_result"
    }
   ],
   "source": [
    "tables = sq('''\n",
    "SELECT \n",
    "  Name,\n",
    "  type\n",
    "FROM \n",
    "  sqlite_master \n",
    "WHERE \n",
    "  type='table' \n",
    "''')\n",
    "\n",
    "tables"
   ]
  },
  {
   "cell_type": "markdown",
   "metadata": {
    "papermill": {
     "duration": 0.043668,
     "end_time": "2022-06-09T17:47:05.772701",
     "exception": false,
     "start_time": "2022-06-09T17:47:05.729033",
     "status": "completed"
    },
    "tags": []
   },
   "source": [
    "### EVents table"
   ]
  },
  {
   "cell_type": "code",
   "execution_count": 13,
   "metadata": {
    "execution": {
     "iopub.execute_input": "2022-06-09T17:47:05.868736Z",
     "iopub.status.busy": "2022-06-09T17:47:05.868116Z",
     "iopub.status.idle": "2022-06-09T17:47:08.462127Z",
     "shell.execute_reply": "2022-06-09T17:47:08.461460Z"
    },
    "papermill": {
     "duration": 2.643847,
     "end_time": "2022-06-09T17:47:08.462272",
     "exception": false,
     "start_time": "2022-06-09T17:47:05.818425",
     "status": "completed"
    },
    "tags": []
   },
   "outputs": [
    {
     "data": {
      "text/html": [
       "<div>\n",
       "<style scoped>\n",
       "    .dataframe tbody tr th:only-of-type {\n",
       "        vertical-align: middle;\n",
       "    }\n",
       "\n",
       "    .dataframe tbody tr th {\n",
       "        vertical-align: top;\n",
       "    }\n",
       "\n",
       "    .dataframe thead th {\n",
       "        text-align: right;\n",
       "    }\n",
       "</style>\n",
       "<table border=\"1\" class=\"dataframe\">\n",
       "  <thead>\n",
       "    <tr style=\"text-align: right;\">\n",
       "      <th></th>\n",
       "      <th>event_id</th>\n",
       "      <th>event_time</th>\n",
       "      <th>user_id</th>\n",
       "      <th>event_name</th>\n",
       "      <th>platform</th>\n",
       "      <th>parameter_name</th>\n",
       "      <th>parameter_value</th>\n",
       "    </tr>\n",
       "  </thead>\n",
       "  <tbody>\n",
       "    <tr>\n",
       "      <th>0</th>\n",
       "      <td>b9de71c5c3cc4cd7a97e50b832106e5a</td>\n",
       "      <td>2017-06-26 11:23:39</td>\n",
       "      <td>178481.0</td>\n",
       "      <td>view_item</td>\n",
       "      <td>android</td>\n",
       "      <td>item_id</td>\n",
       "      <td>3526</td>\n",
       "    </tr>\n",
       "    <tr>\n",
       "      <th>1</th>\n",
       "      <td>23267713c9ea44419331731f50b6a8db</td>\n",
       "      <td>2017-06-27 10:46:39</td>\n",
       "      <td>178481.0</td>\n",
       "      <td>view_item</td>\n",
       "      <td>android</td>\n",
       "      <td>item_id</td>\n",
       "      <td>1514</td>\n",
       "    </tr>\n",
       "    <tr>\n",
       "      <th>2</th>\n",
       "      <td>1b7822fa7b854e01970218ae8f721fe0</td>\n",
       "      <td>2017-06-27 11:15:39</td>\n",
       "      <td>178481.0</td>\n",
       "      <td>view_item</td>\n",
       "      <td>android</td>\n",
       "      <td>item_id</td>\n",
       "      <td>3712</td>\n",
       "    </tr>\n",
       "    <tr>\n",
       "      <th>3</th>\n",
       "      <td>2a7a188a626841ac94befcc419f06af4</td>\n",
       "      <td>2016-10-05 20:43:10</td>\n",
       "      <td>154133.0</td>\n",
       "      <td>view_item</td>\n",
       "      <td>android</td>\n",
       "      <td>item_id</td>\n",
       "      <td>3586</td>\n",
       "    </tr>\n",
       "    <tr>\n",
       "      <th>4</th>\n",
       "      <td>631d657264cc4616a4528f759509b25d</td>\n",
       "      <td>2016-10-04 03:29:10</td>\n",
       "      <td>154133.0</td>\n",
       "      <td>view_item</td>\n",
       "      <td>android</td>\n",
       "      <td>item_id</td>\n",
       "      <td>1061</td>\n",
       "    </tr>\n",
       "  </tbody>\n",
       "</table>\n",
       "</div>"
      ],
      "text/plain": [
       "                           event_id           event_time   user_id event_name  \\\n",
       "0  b9de71c5c3cc4cd7a97e50b832106e5a  2017-06-26 11:23:39  178481.0  view_item   \n",
       "1  23267713c9ea44419331731f50b6a8db  2017-06-27 10:46:39  178481.0  view_item   \n",
       "2  1b7822fa7b854e01970218ae8f721fe0  2017-06-27 11:15:39  178481.0  view_item   \n",
       "3  2a7a188a626841ac94befcc419f06af4  2016-10-05 20:43:10  154133.0  view_item   \n",
       "4  631d657264cc4616a4528f759509b25d  2016-10-04 03:29:10  154133.0  view_item   \n",
       "\n",
       "  platform parameter_name parameter_value  \n",
       "0  android        item_id            3526  \n",
       "1  android        item_id            1514  \n",
       "2  android        item_id            3712  \n",
       "3  android        item_id            3586  \n",
       "4  android        item_id            1061  "
      ]
     },
     "execution_count": 13,
     "metadata": {},
     "output_type": "execute_result"
    }
   ],
   "source": [
    "events = sq('''\n",
    "SELECT * \n",
    "FROM events\n",
    "''')\n",
    "\n",
    "events.head()"
   ]
  },
  {
   "cell_type": "markdown",
   "metadata": {
    "papermill": {
     "duration": 0.044826,
     "end_time": "2022-06-09T17:47:08.551694",
     "exception": false,
     "start_time": "2022-06-09T17:47:08.506868",
     "status": "completed"
    },
    "tags": []
   },
   "source": [
    "### users table"
   ]
  },
  {
   "cell_type": "code",
   "execution_count": 14,
   "metadata": {
    "execution": {
     "iopub.execute_input": "2022-06-09T17:47:08.647221Z",
     "iopub.status.busy": "2022-06-09T17:47:08.646564Z",
     "iopub.status.idle": "2022-06-09T17:47:08.974124Z",
     "shell.execute_reply": "2022-06-09T17:47:08.974611Z"
    },
    "papermill": {
     "duration": 0.376632,
     "end_time": "2022-06-09T17:47:08.974785",
     "exception": false,
     "start_time": "2022-06-09T17:47:08.598153",
     "status": "completed"
    },
    "tags": []
   },
   "outputs": [
    {
     "data": {
      "text/html": [
       "<div>\n",
       "<style scoped>\n",
       "    .dataframe tbody tr th:only-of-type {\n",
       "        vertical-align: middle;\n",
       "    }\n",
       "\n",
       "    .dataframe tbody tr th {\n",
       "        vertical-align: top;\n",
       "    }\n",
       "\n",
       "    .dataframe thead th {\n",
       "        text-align: right;\n",
       "    }\n",
       "</style>\n",
       "<table border=\"1\" class=\"dataframe\">\n",
       "  <thead>\n",
       "    <tr style=\"text-align: right;\">\n",
       "      <th></th>\n",
       "      <th>created_at</th>\n",
       "      <th>deleted_at</th>\n",
       "      <th>email_address</th>\n",
       "      <th>first_name</th>\n",
       "      <th>id</th>\n",
       "      <th>last_name</th>\n",
       "      <th>merged_at</th>\n",
       "      <th>parent_user_id</th>\n",
       "    </tr>\n",
       "  </thead>\n",
       "  <tbody>\n",
       "    <tr>\n",
       "      <th>0</th>\n",
       "      <td>2014-12-20 07:07:45</td>\n",
       "      <td>None</td>\n",
       "      <td>ArataHopper@earthlink.info</td>\n",
       "      <td>Arata</td>\n",
       "      <td>51590.0</td>\n",
       "      <td>Hopper</td>\n",
       "      <td>None</td>\n",
       "      <td>NaN</td>\n",
       "    </tr>\n",
       "    <tr>\n",
       "      <th>1</th>\n",
       "      <td>2016-10-14 05:39:20</td>\n",
       "      <td>None</td>\n",
       "      <td>Riya_Gruber1974@mail.net</td>\n",
       "      <td>Riya</td>\n",
       "      <td>158891.0</td>\n",
       "      <td>Gruber</td>\n",
       "      <td>None</td>\n",
       "      <td>NaN</td>\n",
       "    </tr>\n",
       "    <tr>\n",
       "      <th>2</th>\n",
       "      <td>2017-01-21 10:20:09</td>\n",
       "      <td>None</td>\n",
       "      <td>Peter_Sousa@yahoo.info</td>\n",
       "      <td>Peter</td>\n",
       "      <td>179949.0</td>\n",
       "      <td>Sousa</td>\n",
       "      <td>None</td>\n",
       "      <td>NaN</td>\n",
       "    </tr>\n",
       "    <tr>\n",
       "      <th>3</th>\n",
       "      <td>2015-10-30 21:31:30</td>\n",
       "      <td>None</td>\n",
       "      <td>D_Kowalski1962@gmail.com</td>\n",
       "      <td>D</td>\n",
       "      <td>98000.0</td>\n",
       "      <td>Kowalski</td>\n",
       "      <td>None</td>\n",
       "      <td>NaN</td>\n",
       "    </tr>\n",
       "    <tr>\n",
       "      <th>4</th>\n",
       "      <td>2015-10-24 16:27:27</td>\n",
       "      <td>None</td>\n",
       "      <td>SNovak1966@mail.com</td>\n",
       "      <td>S</td>\n",
       "      <td>93994.0</td>\n",
       "      <td>Novak</td>\n",
       "      <td>None</td>\n",
       "      <td>NaN</td>\n",
       "    </tr>\n",
       "  </tbody>\n",
       "</table>\n",
       "</div>"
      ],
      "text/plain": [
       "            created_at deleted_at               email_address first_name  \\\n",
       "0  2014-12-20 07:07:45       None  ArataHopper@earthlink.info      Arata   \n",
       "1  2016-10-14 05:39:20       None    Riya_Gruber1974@mail.net       Riya   \n",
       "2  2017-01-21 10:20:09       None      Peter_Sousa@yahoo.info      Peter   \n",
       "3  2015-10-30 21:31:30       None    D_Kowalski1962@gmail.com          D   \n",
       "4  2015-10-24 16:27:27       None         SNovak1966@mail.com          S   \n",
       "\n",
       "         id last_name merged_at  parent_user_id  \n",
       "0   51590.0    Hopper      None             NaN  \n",
       "1  158891.0    Gruber      None             NaN  \n",
       "2  179949.0     Sousa      None             NaN  \n",
       "3   98000.0  Kowalski      None             NaN  \n",
       "4   93994.0     Novak      None             NaN  "
      ]
     },
     "execution_count": 14,
     "metadata": {},
     "output_type": "execute_result"
    }
   ],
   "source": [
    "users = sq('''\n",
    "SELECT * \n",
    "FROM users\n",
    "''')\n",
    "\n",
    "users.head()"
   ]
  },
  {
   "cell_type": "markdown",
   "metadata": {
    "papermill": {
     "duration": 0.044845,
     "end_time": "2022-06-09T17:47:09.064340",
     "exception": false,
     "start_time": "2022-06-09T17:47:09.019495",
     "status": "completed"
    },
    "tags": []
   },
   "source": [
    "### orders table"
   ]
  },
  {
   "cell_type": "code",
   "execution_count": 15,
   "metadata": {
    "execution": {
     "iopub.execute_input": "2022-06-09T17:47:09.159671Z",
     "iopub.status.busy": "2022-06-09T17:47:09.159062Z",
     "iopub.status.idle": "2022-06-09T17:47:09.332092Z",
     "shell.execute_reply": "2022-06-09T17:47:09.331440Z"
    },
    "papermill": {
     "duration": 0.222528,
     "end_time": "2022-06-09T17:47:09.332242",
     "exception": false,
     "start_time": "2022-06-09T17:47:09.109714",
     "status": "completed"
    },
    "tags": []
   },
   "outputs": [
    {
     "data": {
      "text/html": [
       "<div>\n",
       "<style scoped>\n",
       "    .dataframe tbody tr th:only-of-type {\n",
       "        vertical-align: middle;\n",
       "    }\n",
       "\n",
       "    .dataframe tbody tr th {\n",
       "        vertical-align: top;\n",
       "    }\n",
       "\n",
       "    .dataframe thead th {\n",
       "        text-align: right;\n",
       "    }\n",
       "</style>\n",
       "<table border=\"1\" class=\"dataframe\">\n",
       "  <thead>\n",
       "    <tr style=\"text-align: right;\">\n",
       "      <th></th>\n",
       "      <th>invoice_id</th>\n",
       "      <th>line_item_id</th>\n",
       "      <th>user_id</th>\n",
       "      <th>item_id</th>\n",
       "      <th>item_name</th>\n",
       "      <th>item_category</th>\n",
       "      <th>price</th>\n",
       "      <th>created_at</th>\n",
       "      <th>paid_at</th>\n",
       "    </tr>\n",
       "  </thead>\n",
       "  <tbody>\n",
       "    <tr>\n",
       "      <th>0</th>\n",
       "      <td>192320.0</td>\n",
       "      <td>83118.0</td>\n",
       "      <td>178481.0</td>\n",
       "      <td>3526.0</td>\n",
       "      <td>digital apparatus</td>\n",
       "      <td>apparatus</td>\n",
       "      <td>330.0</td>\n",
       "      <td>2017-06-28 21:14:25</td>\n",
       "      <td>2017-06-27 21:19:39</td>\n",
       "    </tr>\n",
       "    <tr>\n",
       "      <th>1</th>\n",
       "      <td>192320.0</td>\n",
       "      <td>207309.0</td>\n",
       "      <td>178481.0</td>\n",
       "      <td>1514.0</td>\n",
       "      <td>miniature apparatus cleaner</td>\n",
       "      <td>apparatus</td>\n",
       "      <td>99.0</td>\n",
       "      <td>2017-06-28 21:14:25</td>\n",
       "      <td>2017-06-27 21:19:39</td>\n",
       "    </tr>\n",
       "    <tr>\n",
       "      <th>2</th>\n",
       "      <td>192320.0</td>\n",
       "      <td>392027.0</td>\n",
       "      <td>178481.0</td>\n",
       "      <td>3712.0</td>\n",
       "      <td>miniature apparatus cleaner</td>\n",
       "      <td>apparatus</td>\n",
       "      <td>99.0</td>\n",
       "      <td>2017-06-28 21:14:25</td>\n",
       "      <td>2017-06-27 21:19:39</td>\n",
       "    </tr>\n",
       "    <tr>\n",
       "      <th>3</th>\n",
       "      <td>80902.0</td>\n",
       "      <td>243831.0</td>\n",
       "      <td>154133.0</td>\n",
       "      <td>3586.0</td>\n",
       "      <td>reflective instrument</td>\n",
       "      <td>instrument</td>\n",
       "      <td>57.2</td>\n",
       "      <td>2016-10-09 06:57:30</td>\n",
       "      <td>2016-10-07 10:08:10</td>\n",
       "    </tr>\n",
       "    <tr>\n",
       "      <th>4</th>\n",
       "      <td>80902.0</td>\n",
       "      <td>399806.0</td>\n",
       "      <td>154133.0</td>\n",
       "      <td>1061.0</td>\n",
       "      <td>extra-strength instrument charger</td>\n",
       "      <td>instrument</td>\n",
       "      <td>17.6</td>\n",
       "      <td>2016-10-09 06:57:30</td>\n",
       "      <td>2016-10-07 10:08:10</td>\n",
       "    </tr>\n",
       "  </tbody>\n",
       "</table>\n",
       "</div>"
      ],
      "text/plain": [
       "   invoice_id  line_item_id   user_id  item_id  \\\n",
       "0    192320.0       83118.0  178481.0   3526.0   \n",
       "1    192320.0      207309.0  178481.0   1514.0   \n",
       "2    192320.0      392027.0  178481.0   3712.0   \n",
       "3     80902.0      243831.0  154133.0   3586.0   \n",
       "4     80902.0      399806.0  154133.0   1061.0   \n",
       "\n",
       "                           item_name item_category  price  \\\n",
       "0                  digital apparatus     apparatus  330.0   \n",
       "1        miniature apparatus cleaner     apparatus   99.0   \n",
       "2        miniature apparatus cleaner     apparatus   99.0   \n",
       "3              reflective instrument    instrument   57.2   \n",
       "4  extra-strength instrument charger    instrument   17.6   \n",
       "\n",
       "            created_at              paid_at  \n",
       "0  2017-06-28 21:14:25  2017-06-27 21:19:39  \n",
       "1  2017-06-28 21:14:25  2017-06-27 21:19:39  \n",
       "2  2017-06-28 21:14:25  2017-06-27 21:19:39  \n",
       "3  2016-10-09 06:57:30  2016-10-07 10:08:10  \n",
       "4  2016-10-09 06:57:30  2016-10-07 10:08:10  "
      ]
     },
     "execution_count": 15,
     "metadata": {},
     "output_type": "execute_result"
    }
   ],
   "source": [
    "orders = sq('''\n",
    "SELECT * \n",
    "FROM orders\n",
    "''')\n",
    "\n",
    "orders.head()"
   ]
  },
  {
   "cell_type": "markdown",
   "metadata": {
    "papermill": {
     "duration": 0.044608,
     "end_time": "2022-06-09T17:47:09.422687",
     "exception": false,
     "start_time": "2022-06-09T17:47:09.378079",
     "status": "completed"
    },
    "tags": []
   },
   "source": [
    "### items table"
   ]
  },
  {
   "cell_type": "code",
   "execution_count": 16,
   "metadata": {
    "execution": {
     "iopub.execute_input": "2022-06-09T17:47:09.519570Z",
     "iopub.status.busy": "2022-06-09T17:47:09.518918Z",
     "iopub.status.idle": "2022-06-09T17:47:09.540042Z",
     "shell.execute_reply": "2022-06-09T17:47:09.539461Z"
    },
    "papermill": {
     "duration": 0.072034,
     "end_time": "2022-06-09T17:47:09.540190",
     "exception": false,
     "start_time": "2022-06-09T17:47:09.468156",
     "status": "completed"
    },
    "tags": []
   },
   "outputs": [
    {
     "data": {
      "text/html": [
       "<div>\n",
       "<style scoped>\n",
       "    .dataframe tbody tr th:only-of-type {\n",
       "        vertical-align: middle;\n",
       "    }\n",
       "\n",
       "    .dataframe tbody tr th {\n",
       "        vertical-align: top;\n",
       "    }\n",
       "\n",
       "    .dataframe thead th {\n",
       "        text-align: right;\n",
       "    }\n",
       "</style>\n",
       "<table border=\"1\" class=\"dataframe\">\n",
       "  <thead>\n",
       "    <tr style=\"text-align: right;\">\n",
       "      <th></th>\n",
       "      <th>adjective</th>\n",
       "      <th>category</th>\n",
       "      <th>created_at</th>\n",
       "      <th>id</th>\n",
       "      <th>modifier</th>\n",
       "      <th>name</th>\n",
       "      <th>price</th>\n",
       "    </tr>\n",
       "  </thead>\n",
       "  <tbody>\n",
       "    <tr>\n",
       "      <th>0</th>\n",
       "      <td>fuzzy</td>\n",
       "      <td>contraption</td>\n",
       "      <td>2014-01-15 21:36:09</td>\n",
       "      <td>2512.0</td>\n",
       "      <td>carrying_case</td>\n",
       "      <td>fuzzy contraption carrying_case</td>\n",
       "      <td>150.0</td>\n",
       "    </tr>\n",
       "    <tr>\n",
       "      <th>1</th>\n",
       "      <td>None</td>\n",
       "      <td>instrument</td>\n",
       "      <td>2013-05-14 05:20:50</td>\n",
       "      <td>482.0</td>\n",
       "      <td>refill</td>\n",
       "      <td>instrument refill</td>\n",
       "      <td>35.2</td>\n",
       "    </tr>\n",
       "    <tr>\n",
       "      <th>2</th>\n",
       "      <td>industrial-strength</td>\n",
       "      <td>module</td>\n",
       "      <td>2014-02-04 19:28:32</td>\n",
       "      <td>2446.0</td>\n",
       "      <td>None</td>\n",
       "      <td>industrial-strength module</td>\n",
       "      <td>300.0</td>\n",
       "    </tr>\n",
       "    <tr>\n",
       "      <th>3</th>\n",
       "      <td>digital</td>\n",
       "      <td>tool</td>\n",
       "      <td>2013-02-25 12:23:18</td>\n",
       "      <td>1312.0</td>\n",
       "      <td>carrying_case</td>\n",
       "      <td>digital tool carrying_case</td>\n",
       "      <td>16.5</td>\n",
       "    </tr>\n",
       "    <tr>\n",
       "      <th>4</th>\n",
       "      <td>miniature</td>\n",
       "      <td>device</td>\n",
       "      <td>2013-08-05 17:20:45</td>\n",
       "      <td>3556.0</td>\n",
       "      <td>cleaner</td>\n",
       "      <td>miniature device cleaner</td>\n",
       "      <td>16.5</td>\n",
       "    </tr>\n",
       "  </tbody>\n",
       "</table>\n",
       "</div>"
      ],
      "text/plain": [
       "             adjective     category           created_at      id  \\\n",
       "0                fuzzy  contraption  2014-01-15 21:36:09  2512.0   \n",
       "1                 None   instrument  2013-05-14 05:20:50   482.0   \n",
       "2  industrial-strength       module  2014-02-04 19:28:32  2446.0   \n",
       "3              digital         tool  2013-02-25 12:23:18  1312.0   \n",
       "4            miniature       device  2013-08-05 17:20:45  3556.0   \n",
       "\n",
       "        modifier                             name  price  \n",
       "0  carrying_case  fuzzy contraption carrying_case  150.0  \n",
       "1         refill                instrument refill   35.2  \n",
       "2           None       industrial-strength module  300.0  \n",
       "3  carrying_case       digital tool carrying_case   16.5  \n",
       "4        cleaner         miniature device cleaner   16.5  "
      ]
     },
     "execution_count": 16,
     "metadata": {},
     "output_type": "execute_result"
    }
   ],
   "source": [
    "items = sq('''\n",
    "SELECT * \n",
    "FROM items\n",
    "''')\n",
    "\n",
    "items.head()"
   ]
  },
  {
   "cell_type": "markdown",
   "metadata": {
    "papermill": {
     "duration": 0.059256,
     "end_time": "2022-06-09T17:47:09.651235",
     "exception": false,
     "start_time": "2022-06-09T17:47:09.591979",
     "status": "completed"
    },
    "tags": []
   },
   "source": [
    "<a id='NULL'></a>\n",
    "<h3>Lets Check the null values in each column</h3>"
   ]
  },
  {
   "cell_type": "code",
   "execution_count": 17,
   "metadata": {
    "execution": {
     "iopub.execute_input": "2022-06-09T17:47:09.756406Z",
     "iopub.status.busy": "2022-06-09T17:47:09.755425Z",
     "iopub.status.idle": "2022-06-09T17:47:09.993418Z",
     "shell.execute_reply": "2022-06-09T17:47:09.994124Z"
    },
    "papermill": {
     "duration": 0.289176,
     "end_time": "2022-06-09T17:47:09.994327",
     "exception": false,
     "start_time": "2022-06-09T17:47:09.705151",
     "status": "completed"
    },
    "tags": []
   },
   "outputs": [
    {
     "data": {
      "text/html": [
       "<div>\n",
       "<style scoped>\n",
       "    .dataframe tbody tr th:only-of-type {\n",
       "        vertical-align: middle;\n",
       "    }\n",
       "\n",
       "    .dataframe tbody tr th {\n",
       "        vertical-align: top;\n",
       "    }\n",
       "\n",
       "    .dataframe thead th {\n",
       "        text-align: right;\n",
       "    }\n",
       "</style>\n",
       "<table border=\"1\" class=\"dataframe\">\n",
       "  <thead>\n",
       "    <tr style=\"text-align: right;\">\n",
       "      <th></th>\n",
       "      <th>event_id_null</th>\n",
       "      <th>event_time_null</th>\n",
       "      <th>event_name</th>\n",
       "      <th>platform_null</th>\n",
       "      <th>parameter_name_null</th>\n",
       "      <th>parameter_value_null</th>\n",
       "    </tr>\n",
       "  </thead>\n",
       "  <tbody>\n",
       "    <tr>\n",
       "      <th>0</th>\n",
       "      <td>0</td>\n",
       "      <td>0</td>\n",
       "      <td>0</td>\n",
       "      <td>0</td>\n",
       "      <td>0</td>\n",
       "      <td>0</td>\n",
       "    </tr>\n",
       "  </tbody>\n",
       "</table>\n",
       "</div>"
      ],
      "text/plain": [
       "   event_id_null  event_time_null  event_name  platform_null  \\\n",
       "0              0                0           0              0   \n",
       "\n",
       "   parameter_name_null  parameter_value_null  \n",
       "0                    0                     0  "
      ]
     },
     "execution_count": 17,
     "metadata": {},
     "output_type": "execute_result"
    }
   ],
   "source": [
    "#for events table\n",
    "sq('''\n",
    "SELECT COUNT(*)-COUNT(event_id) As event_id_null, \n",
    "       COUNT(*)-COUNT(event_time) As event_time_null,\n",
    "       COUNT(*)-COUNT(event_name) As event_name,\n",
    "       COUNT(*)-COUNT(platform) As platform_null, \n",
    "       COUNT(*)-COUNT(parameter_name) As parameter_name_null,\n",
    "       COUNT(*)-COUNT(parameter_value) As parameter_value_null\n",
    "FROM events; \n",
    "''')"
   ]
  },
  {
   "cell_type": "code",
   "execution_count": 18,
   "metadata": {
    "execution": {
     "iopub.execute_input": "2022-06-09T17:47:10.093934Z",
     "iopub.status.busy": "2022-06-09T17:47:10.093316Z",
     "iopub.status.idle": "2022-06-09T17:47:10.141810Z",
     "shell.execute_reply": "2022-06-09T17:47:10.141276Z"
    },
    "papermill": {
     "duration": 0.098836,
     "end_time": "2022-06-09T17:47:10.141983",
     "exception": false,
     "start_time": "2022-06-09T17:47:10.043147",
     "status": "completed"
    },
    "tags": []
   },
   "outputs": [
    {
     "data": {
      "text/html": [
       "<div>\n",
       "<style scoped>\n",
       "    .dataframe tbody tr th:only-of-type {\n",
       "        vertical-align: middle;\n",
       "    }\n",
       "\n",
       "    .dataframe tbody tr th {\n",
       "        vertical-align: top;\n",
       "    }\n",
       "\n",
       "    .dataframe thead th {\n",
       "        text-align: right;\n",
       "    }\n",
       "</style>\n",
       "<table border=\"1\" class=\"dataframe\">\n",
       "  <thead>\n",
       "    <tr style=\"text-align: right;\">\n",
       "      <th></th>\n",
       "      <th>created_at_null</th>\n",
       "      <th>deleted_at_null</th>\n",
       "      <th>email_address_null</th>\n",
       "      <th>first_name_null</th>\n",
       "      <th>id_null</th>\n",
       "      <th>last_name_null</th>\n",
       "      <th>merged_at_null</th>\n",
       "      <th>parent_user_id_null</th>\n",
       "    </tr>\n",
       "  </thead>\n",
       "  <tbody>\n",
       "    <tr>\n",
       "      <th>0</th>\n",
       "      <td>0</td>\n",
       "      <td>114290</td>\n",
       "      <td>0</td>\n",
       "      <td>0</td>\n",
       "      <td>0</td>\n",
       "      <td>0</td>\n",
       "      <td>110770</td>\n",
       "      <td>110770</td>\n",
       "    </tr>\n",
       "  </tbody>\n",
       "</table>\n",
       "</div>"
      ],
      "text/plain": [
       "   created_at_null  deleted_at_null  email_address_null  first_name_null  \\\n",
       "0                0           114290                   0                0   \n",
       "\n",
       "   id_null  last_name_null  merged_at_null  parent_user_id_null  \n",
       "0        0               0          110770               110770  "
      ]
     },
     "execution_count": 18,
     "metadata": {},
     "output_type": "execute_result"
    }
   ],
   "source": [
    "#for users table\n",
    "sq('''\n",
    "SELECT COUNT(*)-COUNT(created_at) As created_at_null, \n",
    "       COUNT(*)-COUNT(deleted_at) As deleted_at_null,\n",
    "       COUNT(*)-COUNT(email_address) As email_address_null,\n",
    "       COUNT(*)-COUNT(first_name) As first_name_null, \n",
    "       COUNT(*)-COUNT(id) As id_null,\n",
    "       COUNT(*)-COUNT(last_name) As last_name_null,\n",
    "       COUNT(*)-COUNT(merged_at) As merged_at_null,\n",
    "       COUNT(*)-COUNT(parent_user_id) As parent_user_id_null\n",
    "FROM users;\n",
    "''')"
   ]
  },
  {
   "cell_type": "code",
   "execution_count": 19,
   "metadata": {
    "execution": {
     "iopub.execute_input": "2022-06-09T17:47:10.239795Z",
     "iopub.status.busy": "2022-06-09T17:47:10.239195Z",
     "iopub.status.idle": "2022-06-09T17:47:10.270528Z",
     "shell.execute_reply": "2022-06-09T17:47:10.269981Z"
    },
    "papermill": {
     "duration": 0.081561,
     "end_time": "2022-06-09T17:47:10.270679",
     "exception": false,
     "start_time": "2022-06-09T17:47:10.189118",
     "status": "completed"
    },
    "tags": []
   },
   "outputs": [
    {
     "data": {
      "text/html": [
       "<div>\n",
       "<style scoped>\n",
       "    .dataframe tbody tr th:only-of-type {\n",
       "        vertical-align: middle;\n",
       "    }\n",
       "\n",
       "    .dataframe tbody tr th {\n",
       "        vertical-align: top;\n",
       "    }\n",
       "\n",
       "    .dataframe thead th {\n",
       "        text-align: right;\n",
       "    }\n",
       "</style>\n",
       "<table border=\"1\" class=\"dataframe\">\n",
       "  <thead>\n",
       "    <tr style=\"text-align: right;\">\n",
       "      <th></th>\n",
       "      <th>invoice_id_null</th>\n",
       "      <th>line_item_id_null</th>\n",
       "      <th>user_id_null</th>\n",
       "      <th>item_id_null</th>\n",
       "      <th>item_name_null</th>\n",
       "      <th>item_category_null</th>\n",
       "      <th>price_null</th>\n",
       "      <th>created_at_null</th>\n",
       "      <th>paid_at_null</th>\n",
       "    </tr>\n",
       "  </thead>\n",
       "  <tbody>\n",
       "    <tr>\n",
       "      <th>0</th>\n",
       "      <td>0</td>\n",
       "      <td>0</td>\n",
       "      <td>0</td>\n",
       "      <td>0</td>\n",
       "      <td>0</td>\n",
       "      <td>0</td>\n",
       "      <td>0</td>\n",
       "      <td>0</td>\n",
       "      <td>0</td>\n",
       "    </tr>\n",
       "  </tbody>\n",
       "</table>\n",
       "</div>"
      ],
      "text/plain": [
       "   invoice_id_null  line_item_id_null  user_id_null  item_id_null  \\\n",
       "0                0                  0             0             0   \n",
       "\n",
       "   item_name_null  item_category_null  price_null  created_at_null  \\\n",
       "0               0                   0           0                0   \n",
       "\n",
       "   paid_at_null  \n",
       "0             0  "
      ]
     },
     "execution_count": 19,
     "metadata": {},
     "output_type": "execute_result"
    }
   ],
   "source": [
    "#for orders table\n",
    "sq('''\n",
    "SELECT COUNT(*)-COUNT(invoice_id) As invoice_id_null, \n",
    "       COUNT(*)-COUNT(line_item_id) As line_item_id_null,\n",
    "       COUNT(*)-COUNT(user_id) As user_id_null,\n",
    "       COUNT(*)-COUNT(item_id) As item_id_null, \n",
    "       COUNT(*)-COUNT(item_name) As item_name_null,\n",
    "       COUNT(*)-COUNT(item_category) As item_category_null,\n",
    "       COUNT(*)-COUNT(price) As price_null,\n",
    "       COUNT(*)-COUNT(created_at) As created_at_null,\n",
    "       COUNT(*)-COUNT(paid_at) As paid_at_null\n",
    "FROM orders; \n",
    "''')"
   ]
  },
  {
   "cell_type": "code",
   "execution_count": 20,
   "metadata": {
    "execution": {
     "iopub.execute_input": "2022-06-09T17:47:10.371208Z",
     "iopub.status.busy": "2022-06-09T17:47:10.370558Z",
     "iopub.status.idle": "2022-06-09T17:47:10.382570Z",
     "shell.execute_reply": "2022-06-09T17:47:10.381996Z"
    },
    "papermill": {
     "duration": 0.064767,
     "end_time": "2022-06-09T17:47:10.382715",
     "exception": false,
     "start_time": "2022-06-09T17:47:10.317948",
     "status": "completed"
    },
    "tags": []
   },
   "outputs": [
    {
     "data": {
      "text/html": [
       "<div>\n",
       "<style scoped>\n",
       "    .dataframe tbody tr th:only-of-type {\n",
       "        vertical-align: middle;\n",
       "    }\n",
       "\n",
       "    .dataframe tbody tr th {\n",
       "        vertical-align: top;\n",
       "    }\n",
       "\n",
       "    .dataframe thead th {\n",
       "        text-align: right;\n",
       "    }\n",
       "</style>\n",
       "<table border=\"1\" class=\"dataframe\">\n",
       "  <thead>\n",
       "    <tr style=\"text-align: right;\">\n",
       "      <th></th>\n",
       "      <th>adjective_null</th>\n",
       "      <th>category_null</th>\n",
       "      <th>created_at_null</th>\n",
       "      <th>id_null</th>\n",
       "      <th>modifier_null</th>\n",
       "      <th>name_null</th>\n",
       "      <th>price_null</th>\n",
       "    </tr>\n",
       "  </thead>\n",
       "  <tbody>\n",
       "    <tr>\n",
       "      <th>0</th>\n",
       "      <td>272</td>\n",
       "      <td>0</td>\n",
       "      <td>0</td>\n",
       "      <td>0</td>\n",
       "      <td>766</td>\n",
       "      <td>0</td>\n",
       "      <td>0</td>\n",
       "    </tr>\n",
       "  </tbody>\n",
       "</table>\n",
       "</div>"
      ],
      "text/plain": [
       "   adjective_null  category_null  created_at_null  id_null  modifier_null  \\\n",
       "0             272              0                0        0            766   \n",
       "\n",
       "   name_null  price_null  \n",
       "0          0           0  "
      ]
     },
     "execution_count": 20,
     "metadata": {},
     "output_type": "execute_result"
    }
   ],
   "source": [
    "#for items table\n",
    "sq('''\n",
    "SELECT COUNT(*)-COUNT(adjective) As adjective_null, \n",
    "       COUNT(*)-COUNT(category) As category_null,\n",
    "       COUNT(*)-COUNT(created_at) As created_at_null,\n",
    "       COUNT(*)-COUNT(id) As id_null, \n",
    "       COUNT(*)-COUNT(modifier) As modifier_null,\n",
    "       COUNT(*)-COUNT(name) As name_null,\n",
    "       COUNT(*)-COUNT(price) As price_null\n",
    "FROM items; \n",
    "''')"
   ]
  },
  {
   "cell_type": "markdown",
   "metadata": {
    "papermill": {
     "duration": 0.048277,
     "end_time": "2022-06-09T17:47:10.478753",
     "exception": false,
     "start_time": "2022-06-09T17:47:10.430476",
     "status": "completed"
    },
    "tags": []
   },
   "source": [
    "<h3>Conclusions</h3><br>\n",
    "<b><li>In events table, We don't have null values\n",
    "<b><li>In users table, We have null values in deleted_at, merged_at and parent_user_id columns\n",
    "<b><li>In orders table, We don't have null values\n",
    "<b><li>In items table, We have null values in adjective and modifier columns"
   ]
  },
  {
   "cell_type": "markdown",
   "metadata": {
    "papermill": {
     "duration": 0.048898,
     "end_time": "2022-06-09T17:47:10.575477",
     "exception": false,
     "start_time": "2022-06-09T17:47:10.526579",
     "status": "completed"
    },
    "tags": []
   },
   "source": [
    "<a id=\"EDA\"></a>\n",
    "<h2>EDA</h2>"
   ]
  },
  {
   "cell_type": "code",
   "execution_count": 30,
   "metadata": {
    "execution": {
     "iopub.execute_input": "2022-06-09T17:47:10.676410Z",
     "iopub.status.busy": "2022-06-09T17:47:10.675802Z",
     "iopub.status.idle": "2022-06-09T17:47:10.678367Z",
     "shell.execute_reply": "2022-06-09T17:47:10.679059Z"
    },
    "papermill": {
     "duration": 0.056115,
     "end_time": "2022-06-09T17:47:10.679248",
     "exception": false,
     "start_time": "2022-06-09T17:47:10.623133",
     "status": "completed"
    },
    "tags": []
   },
   "outputs": [],
   "source": [
    "# lets define a function to plot a line plot easily\n",
    "def line_plot(df, x, y, title, xlabel=None, ylabel=None, yaxis=None):\n",
    "    \n",
    "    ax = df.plot(kind='line', x=x, y=y, figsize=(15, 7), style='-')\n",
    "    ax.set_title(title, fontsize=20)\n",
    "    ax.set_xlabel(xlabel)\n",
    "    ax.set_ylabel(ylabel)\n",
    "    plt.show();"
   ]
  },
  {
   "cell_type": "code",
   "execution_count": 45,
   "metadata": {
    "execution": {
     "iopub.execute_input": "2022-06-09T17:47:10.779113Z",
     "iopub.status.busy": "2022-06-09T17:47:10.778467Z",
     "iopub.status.idle": "2022-06-09T17:47:10.785383Z",
     "shell.execute_reply": "2022-06-09T17:47:10.784581Z"
    },
    "papermill": {
     "duration": 0.05711,
     "end_time": "2022-06-09T17:47:10.785553",
     "exception": false,
     "start_time": "2022-06-09T17:47:10.728443",
     "status": "completed"
    },
    "tags": []
   },
   "outputs": [],
   "source": [
    "# lets define a function to plot a line plot easily\n",
    "def bar_plot(x, y, df, title, xlabel=None, ylabel=None, yaxis=None):\n",
    "    ax = df.plot(kind='bar', x=x, y=y, figsize=(15, 7), style='-')\n",
    "    ax.set_title(title, fontsize=20)\n",
    "    ax.set_xlabel(xlabel)\n",
    "    ax.set_ylabel(ylabel)\n",
    "    plt.show();"
   ]
  },
  {
   "cell_type": "code",
   "execution_count": 23,
   "metadata": {
    "execution": {
     "iopub.execute_input": "2022-06-09T17:47:10.992514Z",
     "iopub.status.busy": "2022-06-09T17:47:10.991899Z",
     "iopub.status.idle": "2022-06-09T17:47:11.123354Z",
     "shell.execute_reply": "2022-06-09T17:47:11.122769Z"
    },
    "papermill": {
     "duration": 0.182577,
     "end_time": "2022-06-09T17:47:11.123521",
     "exception": false,
     "start_time": "2022-06-09T17:47:10.940944",
     "status": "completed"
    },
    "tags": []
   },
   "outputs": [
    {
     "data": {
      "text/html": [
       "<div>\n",
       "<style scoped>\n",
       "    .dataframe tbody tr th:only-of-type {\n",
       "        vertical-align: middle;\n",
       "    }\n",
       "\n",
       "    .dataframe tbody tr th {\n",
       "        vertical-align: top;\n",
       "    }\n",
       "\n",
       "    .dataframe thead th {\n",
       "        text-align: right;\n",
       "    }\n",
       "</style>\n",
       "<table border=\"1\" class=\"dataframe\">\n",
       "  <thead>\n",
       "    <tr style=\"text-align: right;\">\n",
       "      <th></th>\n",
       "      <th>DAY</th>\n",
       "      <th>users</th>\n",
       "    </tr>\n",
       "  </thead>\n",
       "  <tbody>\n",
       "    <tr>\n",
       "      <th>0</th>\n",
       "      <td>2013-02-18</td>\n",
       "      <td>1</td>\n",
       "    </tr>\n",
       "    <tr>\n",
       "      <th>1</th>\n",
       "      <td>2013-02-20</td>\n",
       "      <td>1</td>\n",
       "    </tr>\n",
       "    <tr>\n",
       "      <th>2</th>\n",
       "      <td>2013-02-21</td>\n",
       "      <td>1</td>\n",
       "    </tr>\n",
       "    <tr>\n",
       "      <th>3</th>\n",
       "      <td>2013-02-22</td>\n",
       "      <td>1</td>\n",
       "    </tr>\n",
       "    <tr>\n",
       "      <th>4</th>\n",
       "      <td>2013-02-23</td>\n",
       "      <td>1</td>\n",
       "    </tr>\n",
       "  </tbody>\n",
       "</table>\n",
       "</div>"
      ],
      "text/plain": [
       "          DAY  users\n",
       "0  2013-02-18      1\n",
       "1  2013-02-20      1\n",
       "2  2013-02-21      1\n",
       "3  2013-02-22      1\n",
       "4  2013-02-23      1"
      ]
     },
     "execution_count": 23,
     "metadata": {},
     "output_type": "execute_result"
    }
   ],
   "source": [
    "#Ceate a table containing the new created users\n",
    "\n",
    "created_at = sq('''\n",
    "SELECT\n",
    "  DATE(created_at) AS DAY,\n",
    "  COUNT(*) AS users\n",
    "FROM\n",
    "  users\n",
    "WHERE\n",
    "  deleted_at IS NULL\n",
    "GROUP BY\n",
    "  DAY\n",
    "ORDER BY \n",
    "  DAY\n",
    "''')\n",
    "created_at.head()"
   ]
  },
  {
   "cell_type": "code",
   "execution_count": 31,
   "metadata": {
    "execution": {
     "iopub.execute_input": "2022-06-09T17:47:11.224087Z",
     "iopub.status.busy": "2022-06-09T17:47:11.223412Z",
     "iopub.status.idle": "2022-06-09T17:47:12.148110Z",
     "shell.execute_reply": "2022-06-09T17:47:12.148607Z"
    },
    "papermill": {
     "duration": 0.976147,
     "end_time": "2022-06-09T17:47:12.148782",
     "exception": false,
     "start_time": "2022-06-09T17:47:11.172635",
     "status": "completed"
    },
    "tags": []
   },
   "outputs": [
    {
     "data": {
      "image/png": "[encoded data removed]",
      "text/plain": [
       "<Figure size 1080x504 with 1 Axes>"
      ]
     },
     "metadata": {
      "needs_background": "light"
     },
     "output_type": "display_data"
    }
   ],
   "source": [
    "title='Line PLot for all new created users over the years' \n",
    "\n",
    "line_plot(x='DAY',y=['users'],df=created_at,title=title)"
   ]
  },
  {
   "cell_type": "markdown",
   "metadata": {
    "papermill": {
     "duration": 0.058868,
     "end_time": "2022-06-09T17:47:12.268125",
     "exception": false,
     "start_time": "2022-06-09T17:47:12.209257",
     "status": "completed"
    },
    "tags": []
   },
   "source": [
    "<h3>Conclusions</h3><br>\n",
    "<b><li>Average number of new created users increases over the time"
   ]
  },
  {
   "cell_type": "code",
   "execution_count": 32,
   "metadata": {
    "execution": {
     "iopub.execute_input": "2022-06-09T17:47:12.396742Z",
     "iopub.status.busy": "2022-06-09T17:47:12.396147Z",
     "iopub.status.idle": "2022-06-09T17:47:12.419175Z",
     "shell.execute_reply": "2022-06-09T17:47:12.418533Z"
    },
    "papermill": {
     "duration": 0.091841,
     "end_time": "2022-06-09T17:47:12.419321",
     "exception": false,
     "start_time": "2022-06-09T17:47:12.327480",
     "status": "completed"
    },
    "scrolled": true,
    "tags": []
   },
   "outputs": [
    {
     "data": {
      "text/html": [
       "<div>\n",
       "<style scoped>\n",
       "    .dataframe tbody tr th:only-of-type {\n",
       "        vertical-align: middle;\n",
       "    }\n",
       "\n",
       "    .dataframe tbody tr th {\n",
       "        vertical-align: top;\n",
       "    }\n",
       "\n",
       "    .dataframe thead th {\n",
       "        text-align: right;\n",
       "    }\n",
       "</style>\n",
       "<table border=\"1\" class=\"dataframe\">\n",
       "  <thead>\n",
       "    <tr style=\"text-align: right;\">\n",
       "      <th></th>\n",
       "      <th>DAY</th>\n",
       "      <th>deleted_users</th>\n",
       "    </tr>\n",
       "  </thead>\n",
       "  <tbody>\n",
       "    <tr>\n",
       "      <th>0</th>\n",
       "      <td>2013-05-13</td>\n",
       "      <td>1</td>\n",
       "    </tr>\n",
       "    <tr>\n",
       "      <th>1</th>\n",
       "      <td>2013-07-01</td>\n",
       "      <td>1</td>\n",
       "    </tr>\n",
       "    <tr>\n",
       "      <th>2</th>\n",
       "      <td>2013-07-13</td>\n",
       "      <td>1</td>\n",
       "    </tr>\n",
       "    <tr>\n",
       "      <th>3</th>\n",
       "      <td>2013-08-05</td>\n",
       "      <td>2</td>\n",
       "    </tr>\n",
       "    <tr>\n",
       "      <th>4</th>\n",
       "      <td>2013-08-08</td>\n",
       "      <td>1</td>\n",
       "    </tr>\n",
       "  </tbody>\n",
       "</table>\n",
       "</div>"
      ],
      "text/plain": [
       "          DAY  deleted_users\n",
       "0  2013-05-13              1\n",
       "1  2013-07-01              1\n",
       "2  2013-07-13              1\n",
       "3  2013-08-05              2\n",
       "4  2013-08-08              1"
      ]
     },
     "execution_count": 32,
     "metadata": {},
     "output_type": "execute_result"
    }
   ],
   "source": [
    "#Ceate a table containing the deleted users\n",
    "\n",
    "deleted_at = sq('''\n",
    "SELECT\n",
    "  DATE(deleted_at) AS DAY,\n",
    "  COUNT(*) AS deleted_users\n",
    "FROM\n",
    "  users\n",
    "WHERE\n",
    "  deleted_at IS NOT NULL\n",
    "GROUP BY\n",
    "  DAY\n",
    "''')\n",
    "deleted_at.head()"
   ]
  },
  {
   "cell_type": "code",
   "execution_count": 33,
   "metadata": {
    "execution": {
     "iopub.execute_input": "2022-06-09T17:47:12.559459Z",
     "iopub.status.busy": "2022-06-09T17:47:12.558533Z",
     "iopub.status.idle": "2022-06-09T17:47:12.626300Z",
     "shell.execute_reply": "2022-06-09T17:47:12.626843Z"
    },
    "papermill": {
     "duration": 0.146778,
     "end_time": "2022-06-09T17:47:12.627079",
     "exception": false,
     "start_time": "2022-06-09T17:47:12.480301",
     "status": "completed"
    },
    "tags": []
   },
   "outputs": [
    {
     "data": {
      "image/png": "[encoded data removed]",
      "text/plain": [
       "<Figure size 1080x504 with 1 Axes>"
      ]
     },
     "metadata": {
      "needs_background": "light"
     },
     "output_type": "display_data"
    }
   ],
   "source": [
    "title='Line PLot for deleted users over the years' \n",
    "\n",
    "line_plot(x='DAY',y=['deleted_users'],df=deleted_at,title=title)"
   ]
  },
  {
   "cell_type": "code",
   "execution_count": 34,
   "metadata": {
    "execution": {
     "iopub.execute_input": "2022-06-09T17:47:12.772316Z",
     "iopub.status.busy": "2022-06-09T17:47:12.771639Z",
     "iopub.status.idle": "2022-06-09T17:47:12.796853Z",
     "shell.execute_reply": "2022-06-09T17:47:12.796371Z"
    },
    "papermill": {
     "duration": 0.100243,
     "end_time": "2022-06-09T17:47:12.797019",
     "exception": false,
     "start_time": "2022-06-09T17:47:12.696776",
     "status": "completed"
    },
    "tags": []
   },
   "outputs": [
    {
     "data": {
      "text/html": [
       "<div>\n",
       "<style scoped>\n",
       "    .dataframe tbody tr th:only-of-type {\n",
       "        vertical-align: middle;\n",
       "    }\n",
       "\n",
       "    .dataframe tbody tr th {\n",
       "        vertical-align: top;\n",
       "    }\n",
       "\n",
       "    .dataframe thead th {\n",
       "        text-align: right;\n",
       "    }\n",
       "</style>\n",
       "<table border=\"1\" class=\"dataframe\">\n",
       "  <thead>\n",
       "    <tr style=\"text-align: right;\">\n",
       "      <th></th>\n",
       "      <th>DAY</th>\n",
       "      <th>merged_users</th>\n",
       "    </tr>\n",
       "  </thead>\n",
       "  <tbody>\n",
       "    <tr>\n",
       "      <th>0</th>\n",
       "      <td>2013-11-11</td>\n",
       "      <td>1</td>\n",
       "    </tr>\n",
       "    <tr>\n",
       "      <th>1</th>\n",
       "      <td>2013-11-15</td>\n",
       "      <td>1</td>\n",
       "    </tr>\n",
       "    <tr>\n",
       "      <th>2</th>\n",
       "      <td>2014-01-07</td>\n",
       "      <td>1</td>\n",
       "    </tr>\n",
       "    <tr>\n",
       "      <th>3</th>\n",
       "      <td>2014-01-31</td>\n",
       "      <td>1</td>\n",
       "    </tr>\n",
       "    <tr>\n",
       "      <th>4</th>\n",
       "      <td>2014-02-11</td>\n",
       "      <td>1</td>\n",
       "    </tr>\n",
       "  </tbody>\n",
       "</table>\n",
       "</div>"
      ],
      "text/plain": [
       "          DAY  merged_users\n",
       "0  2013-11-11             1\n",
       "1  2013-11-15             1\n",
       "2  2014-01-07             1\n",
       "3  2014-01-31             1\n",
       "4  2014-02-11             1"
      ]
     },
     "execution_count": 34,
     "metadata": {},
     "output_type": "execute_result"
    }
   ],
   "source": [
    "merged_at = sq('''\n",
    "SELECT\n",
    "  DATE(merged_at) AS DAY,\n",
    "  COUNT(*) AS merged_users\n",
    "FROM\n",
    "  users\n",
    "WHERE\n",
    "  merged_at IS NOT NULL\n",
    "  AND id <> parent_user_id\n",
    "GROUP BY\n",
    "  DAY\n",
    "''')\n",
    "merged_at.head()"
   ]
  },
  {
   "cell_type": "code",
   "execution_count": 35,
   "metadata": {
    "execution": {
     "iopub.execute_input": "2022-06-09T17:47:12.957343Z",
     "iopub.status.busy": "2022-06-09T17:47:12.956357Z",
     "iopub.status.idle": "2022-06-09T17:47:13.021280Z",
     "shell.execute_reply": "2022-06-09T17:47:13.021798Z"
    },
    "papermill": {
     "duration": 0.153787,
     "end_time": "2022-06-09T17:47:13.021997",
     "exception": false,
     "start_time": "2022-06-09T17:47:12.868210",
     "status": "completed"
    },
    "tags": []
   },
   "outputs": [
    {
     "data": {
      "image/png": "[encoded data removed]",
      "text/plain": [
       "<Figure size 1080x504 with 1 Axes>"
      ]
     },
     "metadata": {
      "needs_background": "light"
     },
     "output_type": "display_data"
    }
   ],
   "source": [
    "title='Line PLot for merged users over the years' \n",
    "line_plot(x='DAY',y=['merged_users'],df=merged_at,title=title)"
   ]
  },
  {
   "cell_type": "code",
   "execution_count": 36,
   "metadata": {
    "execution": {
     "iopub.execute_input": "2022-06-09T17:47:13.188797Z",
     "iopub.status.busy": "2022-06-09T17:47:13.188162Z",
     "iopub.status.idle": "2022-06-09T17:47:13.348999Z",
     "shell.execute_reply": "2022-06-09T17:47:13.348409Z"
    },
    "papermill": {
     "duration": 0.246076,
     "end_time": "2022-06-09T17:47:13.349150",
     "exception": false,
     "start_time": "2022-06-09T17:47:13.103074",
     "status": "completed"
    },
    "tags": []
   },
   "outputs": [
    {
     "data": {
      "text/html": [
       "<div>\n",
       "<style scoped>\n",
       "    .dataframe tbody tr th:only-of-type {\n",
       "        vertical-align: middle;\n",
       "    }\n",
       "\n",
       "    .dataframe tbody tr th {\n",
       "        vertical-align: top;\n",
       "    }\n",
       "\n",
       "    .dataframe thead th {\n",
       "        text-align: right;\n",
       "    }\n",
       "</style>\n",
       "<table border=\"1\" class=\"dataframe\">\n",
       "  <thead>\n",
       "    <tr style=\"text-align: right;\">\n",
       "      <th></th>\n",
       "      <th>Day</th>\n",
       "      <th>New Added Users</th>\n",
       "      <th>Deleted Users</th>\n",
       "      <th>Merged Users</th>\n",
       "      <th>Net Added Users</th>\n",
       "    </tr>\n",
       "  </thead>\n",
       "  <tbody>\n",
       "    <tr>\n",
       "      <th>0</th>\n",
       "      <td>2018-06-01</td>\n",
       "      <td>96</td>\n",
       "      <td>0</td>\n",
       "      <td>2</td>\n",
       "      <td>94</td>\n",
       "    </tr>\n",
       "    <tr>\n",
       "      <th>1</th>\n",
       "      <td>2018-05-31</td>\n",
       "      <td>112</td>\n",
       "      <td>0</td>\n",
       "      <td>13</td>\n",
       "      <td>99</td>\n",
       "    </tr>\n",
       "    <tr>\n",
       "      <th>2</th>\n",
       "      <td>2018-05-30</td>\n",
       "      <td>95</td>\n",
       "      <td>0</td>\n",
       "      <td>7</td>\n",
       "      <td>88</td>\n",
       "    </tr>\n",
       "    <tr>\n",
       "      <th>3</th>\n",
       "      <td>2018-05-29</td>\n",
       "      <td>104</td>\n",
       "      <td>0</td>\n",
       "      <td>6</td>\n",
       "      <td>98</td>\n",
       "    </tr>\n",
       "    <tr>\n",
       "      <th>4</th>\n",
       "      <td>2018-05-28</td>\n",
       "      <td>113</td>\n",
       "      <td>0</td>\n",
       "      <td>5</td>\n",
       "      <td>108</td>\n",
       "    </tr>\n",
       "  </tbody>\n",
       "</table>\n",
       "</div>"
      ],
      "text/plain": [
       "          Day  New Added Users  Deleted Users  Merged Users  Net Added Users\n",
       "0  2018-06-01               96              0             2               94\n",
       "1  2018-05-31              112              0            13               99\n",
       "2  2018-05-30               95              0             7               88\n",
       "3  2018-05-29              104              0             6               98\n",
       "4  2018-05-28              113              0             5              108"
      ]
     },
     "execution_count": 36,
     "metadata": {},
     "output_type": "execute_result"
    }
   ],
   "source": [
    "temp = sq1('''\n",
    "SELECT\n",
    "  STRFTIME(new.day) AS DAY,\n",
    "  new.new_added_users,\n",
    "  COALESCE(deleted.deleted_users, 0) AS deleted_users,\n",
    "  COALESCE(merged.merged_users, 0) AS merged_users,\n",
    "  (\n",
    "    new.new_added_users - COALESCE(deleted.deleted_users, 0) - COALESCE(merged.merged_users, 0)\n",
    "  ) AS net_added_users\n",
    "FROM\n",
    "  (\n",
    "    SELECT\n",
    "      DATE(created_at) AS DAY,\n",
    "      COUNT(*) AS new_added_users\n",
    "    FROM\n",
    "      users\n",
    "    GROUP BY\n",
    "      DAY\n",
    "  ) new\n",
    "  LEFT JOIN (\n",
    "    SELECT\n",
    "      DATE(created_at) AS DAY,\n",
    "      COUNT(*) AS deleted_users\n",
    "    FROM\n",
    "      users\n",
    "    WHERE\n",
    "      deleted_at IS NOT NULL\n",
    "    GROUP BY\n",
    "      DAY\n",
    "  ) deleted ON deleted.day = new.day\n",
    "  LEFT JOIN (\n",
    "    SELECT\n",
    "      DATE(merged_at) AS DAY,\n",
    "      COUNT(*) AS merged_users\n",
    "    FROM\n",
    "      users\n",
    "    WHERE\n",
    "      merged_at IS NOT NULL\n",
    "    AND \n",
    "      id <> parent_user_id\n",
    "    GROUP BY\n",
    "      DAY\n",
    "  ) merged ON merged.day = new.day\n",
    "ORDER BY\n",
    "  DAY DESC\n",
    "''')\n",
    "temp.head()"
   ]
  },
  {
   "cell_type": "code",
   "execution_count": 37,
   "metadata": {
    "execution": {
     "iopub.execute_input": "2022-06-09T17:47:13.521524Z",
     "iopub.status.busy": "2022-06-09T17:47:13.520616Z",
     "iopub.status.idle": "2022-06-09T17:47:13.524124Z",
     "shell.execute_reply": "2022-06-09T17:47:13.523542Z"
    },
    "papermill": {
     "duration": 0.094395,
     "end_time": "2022-06-09T17:47:13.524266",
     "exception": false,
     "start_time": "2022-06-09T17:47:13.429871",
     "status": "completed"
    },
    "tags": []
   },
   "outputs": [],
   "source": [
    "temp['Day'] = pd.to_datetime(temp['Day'])"
   ]
  },
  {
   "cell_type": "code",
   "execution_count": 38,
   "metadata": {
    "execution": {
     "iopub.execute_input": "2022-06-09T17:47:13.713296Z",
     "iopub.status.busy": "2022-06-09T17:47:13.697507Z",
     "iopub.status.idle": "2022-06-09T17:47:14.036748Z",
     "shell.execute_reply": "2022-06-09T17:47:14.037540Z"
    },
    "papermill": {
     "duration": 0.432596,
     "end_time": "2022-06-09T17:47:14.037756",
     "exception": false,
     "start_time": "2022-06-09T17:47:13.605160",
     "status": "completed"
    },
    "tags": []
   },
   "outputs": [
    {
     "data": {
      "image/png": "[encoded data removed]",
      "text/plain": [
       "<Figure size 1080x504 with 1 Axes>"
      ]
     },
     "metadata": {
      "needs_background": "light"
     },
     "output_type": "display_data"
    }
   ],
   "source": [
    "title='Line PLot for new, deleted and merged users over the years' \n",
    "line_plot(x='Day',y=['New Added Users','Deleted Users','Merged Users','Net Added Users'],df=temp,title=title)"
   ]
  },
  {
   "cell_type": "markdown",
   "metadata": {
    "papermill": {
     "duration": 0.112626,
     "end_time": "2022-06-09T17:47:14.266134",
     "exception": false,
     "start_time": "2022-06-09T17:47:14.153508",
     "status": "completed"
    },
    "tags": []
   },
   "source": [
    "<a id=\"Answering some quistions:\"></a>\n",
    "<h1>Let's answer some quistions</h1>"
   ]
  },
  {
   "cell_type": "markdown",
   "metadata": {
    "papermill": {
     "duration": 0.113862,
     "end_time": "2022-06-09T17:47:14.494266",
     "exception": false,
     "start_time": "2022-06-09T17:47:14.380404",
     "status": "completed"
    },
    "tags": []
   },
   "source": [
    "<a id=\"q1\"></a>\n",
    "<h3>How many users do we have?</h3>"
   ]
  },
  {
   "cell_type": "code",
   "execution_count": 39,
   "metadata": {
    "execution": {
     "iopub.execute_input": "2022-06-09T17:47:14.729866Z",
     "iopub.status.busy": "2022-06-09T17:47:14.729252Z",
     "iopub.status.idle": "2022-06-09T17:47:14.850853Z",
     "shell.execute_reply": "2022-06-09T17:47:14.851628Z"
    },
    "papermill": {
     "duration": 0.242435,
     "end_time": "2022-06-09T17:47:14.852044",
     "exception": false,
     "start_time": "2022-06-09T17:47:14.609609",
     "status": "completed"
    },
    "tags": []
   },
   "outputs": [
    {
     "name": "stdout",
     "output_type": "stream",
     "text": [
      "We have 117178 users\n"
     ]
    }
   ],
   "source": [
    "user_count = sq1('''\n",
    "SELECT \n",
    "  COUNT(DISTINCT(id)) as user_count \n",
    "FROM \n",
    "  users\n",
    "''').values[0][0]\n",
    "\n",
    "print('We have {} users'.format(user_count))"
   ]
  },
  {
   "cell_type": "markdown",
   "metadata": {
    "papermill": {
     "duration": 0.115618,
     "end_time": "2022-06-09T17:47:15.087366",
     "exception": false,
     "start_time": "2022-06-09T17:47:14.971748",
     "status": "completed"
    },
    "tags": []
   },
   "source": [
    "<a id=\"q2\"></a>\n",
    "<h3>What is the number of users who have ordered an item?</h3>"
   ]
  },
  {
   "cell_type": "code",
   "execution_count": 40,
   "metadata": {
    "_kg_hide-input": false,
    "execution": {
     "iopub.execute_input": "2022-06-09T17:47:15.324070Z",
     "iopub.status.busy": "2022-06-09T17:47:15.323387Z",
     "iopub.status.idle": "2022-06-09T17:47:15.431413Z",
     "shell.execute_reply": "2022-06-09T17:47:15.430683Z"
    },
    "papermill": {
     "duration": 0.22625,
     "end_time": "2022-06-09T17:47:15.431687",
     "exception": false,
     "start_time": "2022-06-09T17:47:15.205437",
     "status": "completed"
    },
    "tags": []
   },
   "outputs": [
    {
     "name": "stdout",
     "output_type": "stream",
     "text": [
      "We have 47402 users that have orderd items\n"
     ]
    }
   ],
   "source": [
    "user_with_orders_count = sq1('''\n",
    "SELECT COUNT(*) as number_of_users_who_have_ordered_an_item\n",
    "FROM users u\n",
    "INNER JOIN orders o\n",
    "ON u.id = o.user_id\n",
    "''').values[0][0]\n",
    "\n",
    "print('We have {} users that have orderd items'.format(user_with_orders_count))"
   ]
  },
  {
   "cell_type": "markdown",
   "metadata": {
    "papermill": {
     "duration": 0.116811,
     "end_time": "2022-06-09T17:47:15.666440",
     "exception": false,
     "start_time": "2022-06-09T17:47:15.549629",
     "status": "completed"
    },
    "tags": []
   },
   "source": [
    "<a id=\"q3\"></a>\n",
    "<h3>What is the number of events for each event name?</h3>"
   ]
  },
  {
   "cell_type": "code",
   "execution_count": 41,
   "metadata": {
    "execution": {
     "iopub.execute_input": "2022-06-09T17:47:15.902242Z",
     "iopub.status.busy": "2022-06-09T17:47:15.900785Z",
     "iopub.status.idle": "2022-06-09T17:47:16.255456Z",
     "shell.execute_reply": "2022-06-09T17:47:16.255937Z"
    },
    "papermill": {
     "duration": 0.474776,
     "end_time": "2022-06-09T17:47:16.256117",
     "exception": false,
     "start_time": "2022-06-09T17:47:15.781341",
     "status": "completed"
    },
    "tags": []
   },
   "outputs": [
    {
     "data": {
      "text/html": [
       "<div>\n",
       "<style scoped>\n",
       "    .dataframe tbody tr th:only-of-type {\n",
       "        vertical-align: middle;\n",
       "    }\n",
       "\n",
       "    .dataframe tbody tr th {\n",
       "        vertical-align: top;\n",
       "    }\n",
       "\n",
       "    .dataframe thead th {\n",
       "        text-align: right;\n",
       "    }\n",
       "</style>\n",
       "<table border=\"1\" class=\"dataframe\">\n",
       "  <thead>\n",
       "    <tr style=\"text-align: right;\">\n",
       "      <th></th>\n",
       "      <th>Event Name</th>\n",
       "      <th>Event Count</th>\n",
       "    </tr>\n",
       "  </thead>\n",
       "  <tbody>\n",
       "    <tr>\n",
       "      <th>0</th>\n",
       "      <td>view_item</td>\n",
       "      <td>525572</td>\n",
       "    </tr>\n",
       "    <tr>\n",
       "      <th>1</th>\n",
       "      <td>test_assignment</td>\n",
       "      <td>324980</td>\n",
       "    </tr>\n",
       "    <tr>\n",
       "      <th>2</th>\n",
       "      <td>view_user_profile</td>\n",
       "      <td>3088</td>\n",
       "    </tr>\n",
       "  </tbody>\n",
       "</table>\n",
       "</div>"
      ],
      "text/plain": [
       "          Event Name  Event Count\n",
       "0          view_item       525572\n",
       "1    test_assignment       324980\n",
       "2  view_user_profile         3088"
      ]
     },
     "execution_count": 41,
     "metadata": {},
     "output_type": "execute_result"
    }
   ],
   "source": [
    "event_name_count = sq1('''\n",
    "SELECT\n",
    "  event_name,\n",
    "  count(*) AS event_count\n",
    "FROM\n",
    "  events\n",
    "GROUP BY\n",
    "  event_name\n",
    "ORDER BY \n",
    "  event_count DESC\n",
    "''')\n",
    "event_name_count"
   ]
  },
  {
   "cell_type": "code",
   "execution_count": 46,
   "metadata": {
    "execution": {
     "iopub.execute_input": "2022-06-09T17:47:16.498606Z",
     "iopub.status.busy": "2022-06-09T17:47:16.497967Z",
     "iopub.status.idle": "2022-06-09T17:47:16.565389Z",
     "shell.execute_reply": "2022-06-09T17:47:16.564720Z"
    },
    "papermill": {
     "duration": 0.193323,
     "end_time": "2022-06-09T17:47:16.565557",
     "exception": false,
     "start_time": "2022-06-09T17:47:16.372234",
     "status": "completed"
    },
    "tags": []
   },
   "outputs": [
    {
     "data": {
      "image/png": "[encoded data removed]",
      "text/plain": [
       "<Figure size 1080x504 with 1 Axes>"
      ]
     },
     "metadata": {
      "needs_background": "light"
     },
     "output_type": "display_data"
    }
   ],
   "source": [
    "title = 'Number of events for each event name'\n",
    "bar_plot(x='Event Name', y='Event Count',df=event_name_count,title=title)"
   ]
  },
  {
   "cell_type": "markdown",
   "metadata": {
    "papermill": {
     "duration": 0.119958,
     "end_time": "2022-06-09T17:47:16.812043",
     "exception": false,
     "start_time": "2022-06-09T17:47:16.692085",
     "status": "completed"
    },
    "tags": []
   },
   "source": [
    "<a id=\"q4\"></a>\n",
    "<h3>What is the number of events for each Platform?</h3>"
   ]
  },
  {
   "cell_type": "code",
   "execution_count": 43,
   "metadata": {
    "execution": {
     "iopub.execute_input": "2022-06-09T17:47:17.062606Z",
     "iopub.status.busy": "2022-06-09T17:47:17.061979Z",
     "iopub.status.idle": "2022-06-09T17:47:17.456778Z",
     "shell.execute_reply": "2022-06-09T17:47:17.456290Z"
    },
    "papermill": {
     "duration": 0.521659,
     "end_time": "2022-06-09T17:47:17.456947",
     "exception": false,
     "start_time": "2022-06-09T17:47:16.935288",
     "status": "completed"
    },
    "tags": []
   },
   "outputs": [
    {
     "data": {
      "text/html": [
       "<div>\n",
       "<style scoped>\n",
       "    .dataframe tbody tr th:only-of-type {\n",
       "        vertical-align: middle;\n",
       "    }\n",
       "\n",
       "    .dataframe tbody tr th {\n",
       "        vertical-align: top;\n",
       "    }\n",
       "\n",
       "    .dataframe thead th {\n",
       "        text-align: right;\n",
       "    }\n",
       "</style>\n",
       "<table border=\"1\" class=\"dataframe\">\n",
       "  <thead>\n",
       "    <tr style=\"text-align: right;\">\n",
       "      <th></th>\n",
       "      <th>Platform</th>\n",
       "      <th>Platform Count</th>\n",
       "    </tr>\n",
       "  </thead>\n",
       "  <tbody>\n",
       "    <tr>\n",
       "      <th>0</th>\n",
       "      <td>server</td>\n",
       "      <td>324980</td>\n",
       "    </tr>\n",
       "    <tr>\n",
       "      <th>1</th>\n",
       "      <td>web</td>\n",
       "      <td>267421</td>\n",
       "    </tr>\n",
       "    <tr>\n",
       "      <th>2</th>\n",
       "      <td>android</td>\n",
       "      <td>87501</td>\n",
       "    </tr>\n",
       "    <tr>\n",
       "      <th>3</th>\n",
       "      <td>mobile web</td>\n",
       "      <td>87224</td>\n",
       "    </tr>\n",
       "    <tr>\n",
       "      <th>4</th>\n",
       "      <td>iOS</td>\n",
       "      <td>86514</td>\n",
       "    </tr>\n",
       "  </tbody>\n",
       "</table>\n",
       "</div>"
      ],
      "text/plain": [
       "     Platform  Platform Count\n",
       "0      server          324980\n",
       "1         web          267421\n",
       "2     android           87501\n",
       "3  mobile web           87224\n",
       "4         iOS           86514"
      ]
     },
     "execution_count": 43,
     "metadata": {},
     "output_type": "execute_result"
    }
   ],
   "source": [
    "events_platform_count = sq1('''\n",
    "SELECT\n",
    "  platform,\n",
    "  count(*) AS platform_count\n",
    "FROM\n",
    "  events\n",
    "GROUP BY\n",
    "  platform\n",
    "ORDER BY \n",
    "  platform_count DESC\n",
    "''')\n",
    "events_platform_count"
   ]
  },
  {
   "cell_type": "code",
   "execution_count": 47,
   "metadata": {
    "execution": {
     "iopub.execute_input": "2022-06-09T17:47:17.705392Z",
     "iopub.status.busy": "2022-06-09T17:47:17.704415Z",
     "iopub.status.idle": "2022-06-09T17:47:17.762831Z",
     "shell.execute_reply": "2022-06-09T17:47:17.763509Z"
    },
    "papermill": {
     "duration": 0.185016,
     "end_time": "2022-06-09T17:47:17.763703",
     "exception": false,
     "start_time": "2022-06-09T17:47:17.578687",
     "status": "completed"
    },
    "tags": []
   },
   "outputs": [
    {
     "data": {
      "image/png": "[encoded data removed]",
      "text/plain": [
       "<Figure size 1080x504 with 1 Axes>"
      ]
     },
     "metadata": {
      "needs_background": "light"
     },
     "output_type": "display_data"
    }
   ],
   "source": [
    "title = 'Number of events for each Platform'\n",
    "bar_plot(x='Platform', y='Platform Count',df=events_platform_count,title=title)"
   ]
  },
  {
   "cell_type": "markdown",
   "metadata": {
    "papermill": {
     "duration": 0.183637,
     "end_time": "2022-06-09T17:47:18.078116",
     "exception": false,
     "start_time": "2022-06-09T17:47:17.894479",
     "status": "completed"
    },
    "tags": []
   },
   "source": [
    "<a id=\"q5\"></a>\n",
    "<h3>What is the number of items for sale in each category?</h3>"
   ]
  },
  {
   "cell_type": "code",
   "execution_count": 48,
   "metadata": {
    "execution": {
     "iopub.execute_input": "2022-06-09T17:47:18.339250Z",
     "iopub.status.busy": "2022-06-09T17:47:18.338553Z",
     "iopub.status.idle": "2022-06-09T17:47:18.350306Z",
     "shell.execute_reply": "2022-06-09T17:47:18.350956Z"
    },
    "papermill": {
     "duration": 0.146122,
     "end_time": "2022-06-09T17:47:18.351160",
     "exception": false,
     "start_time": "2022-06-09T17:47:18.205038",
     "status": "completed"
    },
    "tags": []
   },
   "outputs": [
    {
     "data": {
      "text/html": [
       "<div>\n",
       "<style scoped>\n",
       "    .dataframe tbody tr th:only-of-type {\n",
       "        vertical-align: middle;\n",
       "    }\n",
       "\n",
       "    .dataframe tbody tr th {\n",
       "        vertical-align: top;\n",
       "    }\n",
       "\n",
       "    .dataframe thead th {\n",
       "        text-align: right;\n",
       "    }\n",
       "</style>\n",
       "<table border=\"1\" class=\"dataframe\">\n",
       "  <thead>\n",
       "    <tr style=\"text-align: right;\">\n",
       "      <th></th>\n",
       "      <th>Category</th>\n",
       "      <th>Item Count</th>\n",
       "    </tr>\n",
       "  </thead>\n",
       "  <tbody>\n",
       "    <tr>\n",
       "      <th>0</th>\n",
       "      <td>instrument</td>\n",
       "      <td>239</td>\n",
       "    </tr>\n",
       "    <tr>\n",
       "      <th>1</th>\n",
       "      <td>gadget</td>\n",
       "      <td>233</td>\n",
       "    </tr>\n",
       "    <tr>\n",
       "      <th>2</th>\n",
       "      <td>module</td>\n",
       "      <td>227</td>\n",
       "    </tr>\n",
       "    <tr>\n",
       "      <th>3</th>\n",
       "      <td>mechanism</td>\n",
       "      <td>225</td>\n",
       "    </tr>\n",
       "    <tr>\n",
       "      <th>4</th>\n",
       "      <td>tool</td>\n",
       "      <td>222</td>\n",
       "    </tr>\n",
       "    <tr>\n",
       "      <th>5</th>\n",
       "      <td>device</td>\n",
       "      <td>216</td>\n",
       "    </tr>\n",
       "    <tr>\n",
       "      <th>6</th>\n",
       "      <td>widget</td>\n",
       "      <td>212</td>\n",
       "    </tr>\n",
       "    <tr>\n",
       "      <th>7</th>\n",
       "      <td>dongle</td>\n",
       "      <td>211</td>\n",
       "    </tr>\n",
       "    <tr>\n",
       "      <th>8</th>\n",
       "      <td>apparatus</td>\n",
       "      <td>207</td>\n",
       "    </tr>\n",
       "    <tr>\n",
       "      <th>9</th>\n",
       "      <td>contraption</td>\n",
       "      <td>206</td>\n",
       "    </tr>\n",
       "  </tbody>\n",
       "</table>\n",
       "</div>"
      ],
      "text/plain": [
       "      Category  Item Count\n",
       "0   instrument         239\n",
       "1       gadget         233\n",
       "2       module         227\n",
       "3    mechanism         225\n",
       "4         tool         222\n",
       "5       device         216\n",
       "6       widget         212\n",
       "7       dongle         211\n",
       "8    apparatus         207\n",
       "9  contraption         206"
      ]
     },
     "execution_count": 48,
     "metadata": {},
     "output_type": "execute_result"
    }
   ],
   "source": [
    "items_for_sale = sq1('''\n",
    "SELECT category,\n",
    "       COUNT(id) AS item_count\n",
    "FROM items\n",
    "GROUP BY category\n",
    "ORDER BY item_count DESC;\n",
    "''')\n",
    "# items['category'].value_counts()\n",
    "items_for_sale"
   ]
  },
  {
   "cell_type": "code",
   "execution_count": 49,
   "metadata": {
    "execution": {
     "iopub.execute_input": "2022-06-09T17:47:18.617396Z",
     "iopub.status.busy": "2022-06-09T17:47:18.607544Z",
     "iopub.status.idle": "2022-06-09T17:47:18.667923Z",
     "shell.execute_reply": "2022-06-09T17:47:18.667241Z"
    },
    "papermill": {
     "duration": 0.189186,
     "end_time": "2022-06-09T17:47:18.668081",
     "exception": false,
     "start_time": "2022-06-09T17:47:18.478895",
     "status": "completed"
    },
    "tags": []
   },
   "outputs": [
    {
     "data": {
      "image/png": "[encoded data removed]",
      "text/plain": [
       "<Figure size 1080x504 with 1 Axes>"
      ]
     },
     "metadata": {
      "needs_background": "light"
     },
     "output_type": "display_data"
    }
   ],
   "source": [
    "title = 'Number of items for sale in each category'\n",
    "bar_plot(x='Category', y='Item Count',df=items_for_sale,title=title)"
   ]
  },
  {
   "cell_type": "markdown",
   "metadata": {
    "papermill": {
     "duration": 0.131544,
     "end_time": "2022-06-09T17:47:18.931781",
     "exception": false,
     "start_time": "2022-06-09T17:47:18.800237",
     "status": "completed"
    },
    "tags": []
   },
   "source": [
    "<a id=\"q6\"></a>\n",
    "<h3>What is the number of view user profile?</h3>"
   ]
  },
  {
   "cell_type": "code",
   "execution_count": 50,
   "metadata": {
    "execution": {
     "iopub.execute_input": "2022-06-09T17:47:19.208537Z",
     "iopub.status.busy": "2022-06-09T17:47:19.207840Z",
     "iopub.status.idle": "2022-06-09T17:47:26.009607Z",
     "shell.execute_reply": "2022-06-09T17:47:26.008979Z"
    },
    "papermill": {
     "duration": 6.944305,
     "end_time": "2022-06-09T17:47:26.009761",
     "exception": false,
     "start_time": "2022-06-09T17:47:19.065456",
     "status": "completed"
    },
    "tags": []
   },
   "outputs": [
    {
     "data": {
      "text/html": [
       "<div>\n",
       "<style scoped>\n",
       "    .dataframe tbody tr th:only-of-type {\n",
       "        vertical-align: middle;\n",
       "    }\n",
       "\n",
       "    .dataframe tbody tr th {\n",
       "        vertical-align: top;\n",
       "    }\n",
       "\n",
       "    .dataframe thead th {\n",
       "        text-align: right;\n",
       "    }\n",
       "</style>\n",
       "<table border=\"1\" class=\"dataframe\">\n",
       "  <thead>\n",
       "    <tr style=\"text-align: right;\">\n",
       "      <th></th>\n",
       "      <th>Has Viewed Profile Page</th>\n",
       "      <th>Users</th>\n",
       "    </tr>\n",
       "  </thead>\n",
       "  <tbody>\n",
       "    <tr>\n",
       "      <th>0</th>\n",
       "      <td>NO</td>\n",
       "      <td>114143</td>\n",
       "    </tr>\n",
       "    <tr>\n",
       "      <th>1</th>\n",
       "      <td>YES</td>\n",
       "      <td>3035</td>\n",
       "    </tr>\n",
       "  </tbody>\n",
       "</table>\n",
       "</div>"
      ],
      "text/plain": [
       "  Has Viewed Profile Page   Users\n",
       "0                      NO  114143\n",
       "1                     YES    3035"
      ]
     },
     "execution_count": 50,
     "metadata": {},
     "output_type": "execute_result"
    }
   ],
   "source": [
    "view_user_profile = sq1('''\n",
    "SELECT\n",
    "  (\n",
    "    CASE\n",
    "      WHEN first_view IS NULL THEN 'NO'\n",
    "      ELSE 'YES'\n",
    "    END\n",
    "  ) AS has_viewed_profile_page,\n",
    "  COUNT(user_id) AS users -- creates first_profile_views table\n",
    "FROM\n",
    "  (\n",
    "    SELECT\n",
    "      users.id AS user_id,\n",
    "      MIN(event_time) AS first_view\n",
    "    FROM\n",
    "      users\n",
    "      LEFT JOIN events ON EVENTS.user_id = users.id\n",
    "      AND event_name = 'view_user_profile'\n",
    "    GROUP BY\n",
    "      users.id\n",
    "  ) first_profile_views\n",
    "GROUP BY\n",
    "  has_viewed_profile_page;\n",
    "''')\n",
    "view_user_profile"
   ]
  },
  {
   "cell_type": "code",
   "execution_count": 53,
   "metadata": {
    "execution": {
     "iopub.execute_input": "2022-06-09T17:47:26.281140Z",
     "iopub.status.busy": "2022-06-09T17:47:26.280493Z",
     "iopub.status.idle": "2022-06-09T17:47:26.361211Z",
     "shell.execute_reply": "2022-06-09T17:47:26.361658Z"
    },
    "papermill": {
     "duration": 0.217853,
     "end_time": "2022-06-09T17:47:26.361847",
     "exception": false,
     "start_time": "2022-06-09T17:47:26.143994",
     "status": "completed"
    },
    "tags": []
   },
   "outputs": [
    {
     "data": {
      "image/png": "[encoded data removed]",
      "text/plain": [
       "<Figure size 1080x504 with 1 Axes>"
      ]
     },
     "metadata": {
      "needs_background": "light"
     },
     "output_type": "display_data"
    }
   ],
   "source": [
    "title = 'Number of viewed profile page'\n",
    "bar_plot('Has Viewed Profile Page','Users',view_user_profile,title,'presentation')"
   ]
  },
  {
   "cell_type": "markdown",
   "metadata": {
    "papermill": {
     "duration": 0.137758,
     "end_time": "2022-06-09T17:47:26.632819",
     "exception": false,
     "start_time": "2022-06-09T17:47:26.495061",
     "status": "completed"
    },
    "tags": []
   },
   "source": [
    "<a id=\"q7\"></a>\n",
    "<h3>How many email address for each email domains?</h3>"
   ]
  },
  {
   "cell_type": "code",
   "execution_count": 54,
   "metadata": {
    "execution": {
     "iopub.execute_input": "2022-06-09T17:47:26.915538Z",
     "iopub.status.busy": "2022-06-09T17:47:26.914642Z",
     "iopub.status.idle": "2022-06-09T17:47:27.210006Z",
     "shell.execute_reply": "2022-06-09T17:47:27.210580Z"
    },
    "papermill": {
     "duration": 0.44157,
     "end_time": "2022-06-09T17:47:27.210755",
     "exception": false,
     "start_time": "2022-06-09T17:47:26.769185",
     "status": "completed"
    },
    "tags": []
   },
   "outputs": [
    {
     "name": "stdout",
     "output_type": "stream",
     "text": [
      "We have 6 E-Mail domains:\n",
      "['earthlink' 'gmail' 'inbox' 'mail' 'outlook' 'yahoo']\n"
     ]
    }
   ],
   "source": [
    "#lets see the types of email domains do we have\n",
    "import numpy as np\n",
    "e_mail_domains = np.unique(users['email_address'].apply(lambda x:re.findall('@[\\w]+'.lower(),x.lower())[0][1:]))\n",
    "print('We have {} E-Mail domains:\\n{}'.format(len(e_mail_domains),e_mail_domains))"
   ]
  },
  {
   "cell_type": "code",
   "execution_count": 55,
   "metadata": {
    "execution": {
     "iopub.execute_input": "2022-06-09T17:47:27.494300Z",
     "iopub.status.busy": "2022-06-09T17:47:27.493572Z",
     "iopub.status.idle": "2022-06-09T17:47:27.624043Z",
     "shell.execute_reply": "2022-06-09T17:47:27.623406Z"
    },
    "papermill": {
     "duration": 0.27841,
     "end_time": "2022-06-09T17:47:27.624190",
     "exception": false,
     "start_time": "2022-06-09T17:47:27.345780",
     "status": "completed"
    },
    "tags": []
   },
   "outputs": [
    {
     "data": {
      "text/html": [
       "<div>\n",
       "<style scoped>\n",
       "    .dataframe tbody tr th:only-of-type {\n",
       "        vertical-align: middle;\n",
       "    }\n",
       "\n",
       "    .dataframe tbody tr th {\n",
       "        vertical-align: top;\n",
       "    }\n",
       "\n",
       "    .dataframe thead th {\n",
       "        text-align: right;\n",
       "    }\n",
       "</style>\n",
       "<table border=\"1\" class=\"dataframe\">\n",
       "  <thead>\n",
       "    <tr style=\"text-align: right;\">\n",
       "      <th></th>\n",
       "      <th>Domain name</th>\n",
       "      <th>Domain users count</th>\n",
       "    </tr>\n",
       "  </thead>\n",
       "  <tbody>\n",
       "    <tr>\n",
       "      <th>0</th>\n",
       "      <td>gmail</td>\n",
       "      <td>43854</td>\n",
       "    </tr>\n",
       "    <tr>\n",
       "      <th>1</th>\n",
       "      <td>outlook</td>\n",
       "      <td>14840</td>\n",
       "    </tr>\n",
       "    <tr>\n",
       "      <th>2</th>\n",
       "      <td>yahoo</td>\n",
       "      <td>14712</td>\n",
       "    </tr>\n",
       "    <tr>\n",
       "      <th>3</th>\n",
       "      <td>inbox</td>\n",
       "      <td>14657</td>\n",
       "    </tr>\n",
       "    <tr>\n",
       "      <th>4</th>\n",
       "      <td>earthlink</td>\n",
       "      <td>14579</td>\n",
       "    </tr>\n",
       "    <tr>\n",
       "      <th>5</th>\n",
       "      <td>mail</td>\n",
       "      <td>14536</td>\n",
       "    </tr>\n",
       "  </tbody>\n",
       "</table>\n",
       "</div>"
      ],
      "text/plain": [
       "  Domain name  Domain users count\n",
       "0       gmail               43854\n",
       "1     outlook               14840\n",
       "2       yahoo               14712\n",
       "3       inbox               14657\n",
       "4   earthlink               14579\n",
       "5        mail               14536"
      ]
     },
     "execution_count": 55,
     "metadata": {},
     "output_type": "execute_result"
    }
   ],
   "source": [
    "email_domain_users_count = pd.DataFrame(columns=e_mail_domains)\n",
    "for email in e_mail_domains:\n",
    "    q = '''SELECT COUNT(*)\n",
    "           FROM users \n",
    "           WHERE email_address like '{}' '''.format('%@'+email+'.%')\n",
    "    count = sq(q).values[0]\n",
    "    email_domain_users_count[email] = count\n",
    "email_domain_users_count = email_domain_users_count.T.sort_values(by=0,ascending=False).reset_index().\\\n",
    "                                        rename(columns={0:'Domain users count','index':'Domain name'})\n",
    "email_domain_users_count"
   ]
  },
  {
   "cell_type": "code",
   "execution_count": 56,
   "metadata": {
    "execution": {
     "iopub.execute_input": "2022-06-09T17:47:27.928633Z",
     "iopub.status.busy": "2022-06-09T17:47:27.918358Z",
     "iopub.status.idle": "2022-06-09T17:47:27.959828Z",
     "shell.execute_reply": "2022-06-09T17:47:27.959204Z"
    },
    "papermill": {
     "duration": 0.20041,
     "end_time": "2022-06-09T17:47:27.960001",
     "exception": false,
     "start_time": "2022-06-09T17:47:27.759591",
     "status": "completed"
    },
    "tags": []
   },
   "outputs": [
    {
     "data": {
      "image/png": "[encoded data removed]",
      "text/plain": [
       "<Figure size 1080x504 with 1 Axes>"
      ]
     },
     "metadata": {
      "needs_background": "light"
     },
     "output_type": "display_data"
    }
   ],
   "source": [
    "bar_plot('Domain name','Domain users count',email_domain_users_count,title='')"
   ]
  },
  {
   "cell_type": "markdown",
   "metadata": {
    "papermill": {
     "duration": 0.142132,
     "end_time": "2022-06-09T17:47:28.246047",
     "exception": false,
     "start_time": "2022-06-09T17:47:28.103915",
     "status": "completed"
    },
    "tags": []
   },
   "source": [
    "<a id=\"q8\"></a>\n",
    "<h3>Show the users who have viewed items?</h3>"
   ]
  },
  {
   "cell_type": "code",
   "execution_count": 57,
   "metadata": {
    "execution": {
     "iopub.execute_input": "2022-06-09T17:47:28.537983Z",
     "iopub.status.busy": "2022-06-09T17:47:28.537316Z",
     "iopub.status.idle": "2022-06-09T17:47:30.045582Z",
     "shell.execute_reply": "2022-06-09T17:47:30.046053Z"
    },
    "papermill": {
     "duration": 1.655791,
     "end_time": "2022-06-09T17:47:30.046240",
     "exception": false,
     "start_time": "2022-06-09T17:47:28.390449",
     "status": "completed"
    },
    "tags": []
   },
   "outputs": [
    {
     "data": {
      "text/plain": [
       "<sqlite3.Cursor at 0x1b1cf43f5e0>"
      ]
     },
     "execution_count": 57,
     "metadata": {},
     "output_type": "execute_result"
    }
   ],
   "source": [
    "view_item_event_1 = c.execute('''\n",
    "CREATE TABLE IF NOT EXISTS view_item_event_1 AS\n",
    "  SELECT\n",
    "    event_id,\n",
    "    DATE(event_time) AS event_time,\n",
    "    user_id,\n",
    "    platform,\n",
    "    MAX(\n",
    "      CASE\n",
    "        WHEN parameter_name = 'item_id' THEN parameter_value\n",
    "        ELSE NULL\n",
    "      END\n",
    "    ) AS item_id,\n",
    "    MAX(\n",
    "      CASE\n",
    "        WHEN parameter_name = 'referrer' THEN parameter_value\n",
    "        ELSE NULL\n",
    "      END\n",
    "    ) AS referrer\n",
    "  FROM\n",
    "    events\n",
    "  WHERE\n",
    "    event_name = 'view_item'\n",
    "  GROUP BY\n",
    "    event_id,\n",
    "    event_time,\n",
    "    user_id,\n",
    "    platform\n",
    "''')\n",
    "view_item_event_1"
   ]
  },
  {
   "cell_type": "code",
   "execution_count": 58,
   "metadata": {
    "execution": {
     "iopub.execute_input": "2022-06-09T17:47:30.338278Z",
     "iopub.status.busy": "2022-06-09T17:47:30.337601Z",
     "iopub.status.idle": "2022-06-09T17:47:30.351550Z",
     "shell.execute_reply": "2022-06-09T17:47:30.352180Z"
    },
    "papermill": {
     "duration": 0.16107,
     "end_time": "2022-06-09T17:47:30.352371",
     "exception": false,
     "start_time": "2022-06-09T17:47:30.191301",
     "status": "completed"
    },
    "tags": []
   },
   "outputs": [
    {
     "data": {
      "text/html": [
       "<div>\n",
       "<style scoped>\n",
       "    .dataframe tbody tr th:only-of-type {\n",
       "        vertical-align: middle;\n",
       "    }\n",
       "\n",
       "    .dataframe tbody tr th {\n",
       "        vertical-align: top;\n",
       "    }\n",
       "\n",
       "    .dataframe thead th {\n",
       "        text-align: right;\n",
       "    }\n",
       "</style>\n",
       "<table border=\"1\" class=\"dataframe\">\n",
       "  <thead>\n",
       "    <tr style=\"text-align: right;\">\n",
       "      <th></th>\n",
       "      <th>type</th>\n",
       "      <th>name</th>\n",
       "      <th>tbl_name</th>\n",
       "      <th>rootpage</th>\n",
       "      <th>sql</th>\n",
       "    </tr>\n",
       "  </thead>\n",
       "  <tbody>\n",
       "    <tr>\n",
       "      <th>0</th>\n",
       "      <td>table</td>\n",
       "      <td>users</td>\n",
       "      <td>users</td>\n",
       "      <td>2</td>\n",
       "      <td>CREATE TABLE \"users\" (\\n\"created_at\" TEXT,\\n  ...</td>\n",
       "    </tr>\n",
       "    <tr>\n",
       "      <th>1</th>\n",
       "      <td>table</td>\n",
       "      <td>orders</td>\n",
       "      <td>orders</td>\n",
       "      <td>2083</td>\n",
       "      <td>CREATE TABLE \"orders\" (\\n\"invoice_id\" REAL,\\n ...</td>\n",
       "    </tr>\n",
       "    <tr>\n",
       "      <th>2</th>\n",
       "      <td>table</td>\n",
       "      <td>events</td>\n",
       "      <td>events</td>\n",
       "      <td>3246</td>\n",
       "      <td>CREATE TABLE \"events\" (\\n\"event_id\" TEXT,\\n  \"...</td>\n",
       "    </tr>\n",
       "    <tr>\n",
       "      <th>3</th>\n",
       "      <td>table</td>\n",
       "      <td>items</td>\n",
       "      <td>items</td>\n",
       "      <td>24011</td>\n",
       "      <td>CREATE TABLE \"items\" (\\n\"adjective\" TEXT,\\n  \"...</td>\n",
       "    </tr>\n",
       "    <tr>\n",
       "      <th>4</th>\n",
       "      <td>table</td>\n",
       "      <td>daterollup</td>\n",
       "      <td>daterollup</td>\n",
       "      <td>24057</td>\n",
       "      <td>CREATE TABLE \"daterollup\" (\\n\"date\" TEXT,\\n  \"...</td>\n",
       "    </tr>\n",
       "    <tr>\n",
       "      <th>5</th>\n",
       "      <td>table</td>\n",
       "      <td>view_item_event_1</td>\n",
       "      <td>view_item_event_1</td>\n",
       "      <td>24091</td>\n",
       "      <td>CREATE TABLE view_item_event_1(\\n  event_id TE...</td>\n",
       "    </tr>\n",
       "  </tbody>\n",
       "</table>\n",
       "</div>"
      ],
      "text/plain": [
       "    type               name           tbl_name  rootpage  \\\n",
       "0  table              users              users         2   \n",
       "1  table             orders             orders      2083   \n",
       "2  table             events             events      3246   \n",
       "3  table              items              items     24011   \n",
       "4  table         daterollup         daterollup     24057   \n",
       "5  table  view_item_event_1  view_item_event_1     24091   \n",
       "\n",
       "                                                 sql  \n",
       "0  CREATE TABLE \"users\" (\\n\"created_at\" TEXT,\\n  ...  \n",
       "1  CREATE TABLE \"orders\" (\\n\"invoice_id\" REAL,\\n ...  \n",
       "2  CREATE TABLE \"events\" (\\n\"event_id\" TEXT,\\n  \"...  \n",
       "3  CREATE TABLE \"items\" (\\n\"adjective\" TEXT,\\n  \"...  \n",
       "4  CREATE TABLE \"daterollup\" (\\n\"date\" TEXT,\\n  \"...  \n",
       "5  CREATE TABLE view_item_event_1(\\n  event_id TE...  "
      ]
     },
     "execution_count": 58,
     "metadata": {},
     "output_type": "execute_result"
    }
   ],
   "source": [
    "#lets check our tables\n",
    "sq('''\n",
    "SELECT * FROM sqlite_master\n",
    "''')"
   ]
  },
  {
   "cell_type": "markdown",
   "metadata": {
    "papermill": {
     "duration": 0.150108,
     "end_time": "2022-06-09T17:47:30.647696",
     "exception": false,
     "start_time": "2022-06-09T17:47:30.497588",
     "status": "completed"
    },
    "tags": []
   },
   "source": [
    "<a id=\"q9\"></a>\n",
    "<h3>Create a tables for each event name (view_item, view_user_profile, test_assignment events)</h3>"
   ]
  },
  {
   "cell_type": "code",
   "execution_count": 59,
   "metadata": {
    "execution": {
     "iopub.execute_input": "2022-06-09T17:47:31.026693Z",
     "iopub.status.busy": "2022-06-09T17:47:30.986455Z",
     "iopub.status.idle": "2022-06-09T17:47:31.073968Z",
     "shell.execute_reply": "2022-06-09T17:47:31.073426Z"
    },
    "papermill": {
     "duration": 0.277533,
     "end_time": "2022-06-09T17:47:31.074129",
     "exception": false,
     "start_time": "2022-06-09T17:47:30.796596",
     "status": "completed"
    },
    "tags": []
   },
   "outputs": [
    {
     "data": {
      "text/plain": [
       "array(['view_item', 'view_user_profile', 'test_assignment'], dtype=object)"
      ]
     },
     "execution_count": 59,
     "metadata": {},
     "output_type": "execute_result"
    }
   ],
   "source": [
    "events['event_name'].unique()"
   ]
  },
  {
   "cell_type": "code",
   "execution_count": 60,
   "metadata": {
    "execution": {
     "iopub.execute_input": "2022-06-09T17:47:31.368249Z",
     "iopub.status.busy": "2022-06-09T17:47:31.367538Z",
     "iopub.status.idle": "2022-06-09T17:47:32.843081Z",
     "shell.execute_reply": "2022-06-09T17:47:32.843570Z"
    },
    "papermill": {
     "duration": 1.623473,
     "end_time": "2022-06-09T17:47:32.843747",
     "exception": false,
     "start_time": "2022-06-09T17:47:31.220274",
     "status": "completed"
    },
    "tags": []
   },
   "outputs": [],
   "source": [
    "view_item_events = c.execute('''\n",
    "CREATE TABLE IF NOT EXISTS view_item_events AS\n",
    "  SELECT\n",
    "    event_id,\n",
    "    DATE(event_time) AS event_time,\n",
    "    user_id,\n",
    "    platform,\n",
    "    MAX(\n",
    "      CASE\n",
    "        WHEN parameter_name = 'item_id' THEN parameter_value\n",
    "        ELSE NULL\n",
    "      END\n",
    "    ) AS item_id,\n",
    "    MAX(\n",
    "      CASE\n",
    "        WHEN parameter_name = 'referrer' THEN parameter_value\n",
    "        ELSE NULL\n",
    "      END\n",
    "    ) AS referrer\n",
    "  FROM\n",
    "    events\n",
    "  WHERE\n",
    "    event_name = 'view_item'\n",
    "  GROUP BY\n",
    "    event_id,\n",
    "    event_time,\n",
    "    user_id,\n",
    "    platform\n",
    "''')"
   ]
  },
  {
   "cell_type": "code",
   "execution_count": 61,
   "metadata": {
    "execution": {
     "iopub.execute_input": "2022-06-09T17:47:33.179698Z",
     "iopub.status.busy": "2022-06-09T17:47:33.178679Z",
     "iopub.status.idle": "2022-06-09T17:47:33.320732Z",
     "shell.execute_reply": "2022-06-09T17:47:33.320197Z"
    },
    "papermill": {
     "duration": 0.33246,
     "end_time": "2022-06-09T17:47:33.320910",
     "exception": false,
     "start_time": "2022-06-09T17:47:32.988450",
     "status": "completed"
    },
    "tags": []
   },
   "outputs": [],
   "source": [
    "view_user_profile_event = c.execute('''\n",
    "CREATE TABLE IF NOT EXISTS view_user_profile_event AS\n",
    "SELECT\n",
    "  event_id,\n",
    "  DATETIME(event_time) AS event_time,\n",
    "  user_id,\n",
    "  platform,\n",
    "  MAX(CASE WHEN parameter_name = 'viewed_user_id' THEN parameter_value\n",
    "      ELSE NULL\n",
    "      END) as viewed_user_id\n",
    "FROM\n",
    "  EVENTS\n",
    "WHERE\n",
    "  event_name = 'view_user_profile'\n",
    "GROUP BY\n",
    "  event_id,\n",
    "  event_time,\n",
    "  user_id,\n",
    "  platform\n",
    "''')"
   ]
  },
  {
   "cell_type": "code",
   "execution_count": 62,
   "metadata": {
    "execution": {
     "iopub.execute_input": "2022-06-09T17:47:33.609661Z",
     "iopub.status.busy": "2022-06-09T17:47:33.609046Z",
     "iopub.status.idle": "2022-06-09T17:47:34.495761Z",
     "shell.execute_reply": "2022-06-09T17:47:34.496301Z"
    },
    "papermill": {
     "duration": 1.033401,
     "end_time": "2022-06-09T17:47:34.496487",
     "exception": false,
     "start_time": "2022-06-09T17:47:33.463086",
     "status": "completed"
    },
    "tags": []
   },
   "outputs": [],
   "source": [
    "test_assignment_event = c.execute('''\n",
    "CREATE TABLE IF NOT EXISTS test_assignment_event AS\n",
    "SELECT\n",
    "  event_id,\n",
    "  DATETIME(event_time) AS event_time,\n",
    "  user_id,\n",
    "  platform,\n",
    "  MAX(CASE WHEN parameter_name = 'test_assignment' THEN parameter_value\n",
    "      ELSE NULL\n",
    "      END) as test_assignment,\n",
    "  MAX(CASE WHEN parameter_name = 'test_id' THEN parameter_value\n",
    "      ELSE NULL\n",
    "      END) as test_id\n",
    "FROM\n",
    "  EVENTS\n",
    "WHERE\n",
    "  event_name = 'test_assignment'\n",
    "GROUP BY\n",
    "  event_id,\n",
    "  event_time,\n",
    "  user_id,\n",
    "  platform\n",
    "''')"
   ]
  },
  {
   "cell_type": "code",
   "execution_count": 63,
   "metadata": {
    "execution": {
     "iopub.execute_input": "2022-06-09T17:47:34.783988Z",
     "iopub.status.busy": "2022-06-09T17:47:34.783374Z",
     "iopub.status.idle": "2022-06-09T17:47:34.797847Z",
     "shell.execute_reply": "2022-06-09T17:47:34.797238Z"
    },
    "papermill": {
     "duration": 0.157967,
     "end_time": "2022-06-09T17:47:34.798007",
     "exception": false,
     "start_time": "2022-06-09T17:47:34.640040",
     "status": "completed"
    },
    "tags": []
   },
   "outputs": [
    {
     "data": {
      "text/html": [
       "<div>\n",
       "<style scoped>\n",
       "    .dataframe tbody tr th:only-of-type {\n",
       "        vertical-align: middle;\n",
       "    }\n",
       "\n",
       "    .dataframe tbody tr th {\n",
       "        vertical-align: top;\n",
       "    }\n",
       "\n",
       "    .dataframe thead th {\n",
       "        text-align: right;\n",
       "    }\n",
       "</style>\n",
       "<table border=\"1\" class=\"dataframe\">\n",
       "  <thead>\n",
       "    <tr style=\"text-align: right;\">\n",
       "      <th></th>\n",
       "      <th>type</th>\n",
       "      <th>name</th>\n",
       "      <th>tbl_name</th>\n",
       "      <th>rootpage</th>\n",
       "      <th>sql</th>\n",
       "    </tr>\n",
       "  </thead>\n",
       "  <tbody>\n",
       "    <tr>\n",
       "      <th>0</th>\n",
       "      <td>table</td>\n",
       "      <td>users</td>\n",
       "      <td>users</td>\n",
       "      <td>2</td>\n",
       "      <td>CREATE TABLE \"users\" (\\n\"created_at\" TEXT,\\n  ...</td>\n",
       "    </tr>\n",
       "    <tr>\n",
       "      <th>1</th>\n",
       "      <td>table</td>\n",
       "      <td>orders</td>\n",
       "      <td>orders</td>\n",
       "      <td>2083</td>\n",
       "      <td>CREATE TABLE \"orders\" (\\n\"invoice_id\" REAL,\\n ...</td>\n",
       "    </tr>\n",
       "    <tr>\n",
       "      <th>2</th>\n",
       "      <td>table</td>\n",
       "      <td>events</td>\n",
       "      <td>events</td>\n",
       "      <td>3246</td>\n",
       "      <td>CREATE TABLE \"events\" (\\n\"event_id\" TEXT,\\n  \"...</td>\n",
       "    </tr>\n",
       "    <tr>\n",
       "      <th>3</th>\n",
       "      <td>table</td>\n",
       "      <td>items</td>\n",
       "      <td>items</td>\n",
       "      <td>24011</td>\n",
       "      <td>CREATE TABLE \"items\" (\\n\"adjective\" TEXT,\\n  \"...</td>\n",
       "    </tr>\n",
       "    <tr>\n",
       "      <th>4</th>\n",
       "      <td>table</td>\n",
       "      <td>daterollup</td>\n",
       "      <td>daterollup</td>\n",
       "      <td>24057</td>\n",
       "      <td>CREATE TABLE \"daterollup\" (\\n\"date\" TEXT,\\n  \"...</td>\n",
       "    </tr>\n",
       "    <tr>\n",
       "      <th>5</th>\n",
       "      <td>table</td>\n",
       "      <td>view_item_event_1</td>\n",
       "      <td>view_item_event_1</td>\n",
       "      <td>24091</td>\n",
       "      <td>CREATE TABLE view_item_event_1(\\n  event_id TE...</td>\n",
       "    </tr>\n",
       "    <tr>\n",
       "      <th>6</th>\n",
       "      <td>table</td>\n",
       "      <td>view_item_events</td>\n",
       "      <td>view_item_events</td>\n",
       "      <td>29058</td>\n",
       "      <td>CREATE TABLE view_item_events(\\n  event_id TEX...</td>\n",
       "    </tr>\n",
       "    <tr>\n",
       "      <th>7</th>\n",
       "      <td>table</td>\n",
       "      <td>view_user_profile_event</td>\n",
       "      <td>view_user_profile_event</td>\n",
       "      <td>34025</td>\n",
       "      <td>CREATE TABLE view_user_profile_event(\\n  event...</td>\n",
       "    </tr>\n",
       "    <tr>\n",
       "      <th>8</th>\n",
       "      <td>table</td>\n",
       "      <td>test_assignment_event</td>\n",
       "      <td>test_assignment_event</td>\n",
       "      <td>34084</td>\n",
       "      <td>CREATE TABLE test_assignment_event(\\n  event_i...</td>\n",
       "    </tr>\n",
       "  </tbody>\n",
       "</table>\n",
       "</div>"
      ],
      "text/plain": [
       "    type                     name                 tbl_name  rootpage  \\\n",
       "0  table                    users                    users         2   \n",
       "1  table                   orders                   orders      2083   \n",
       "2  table                   events                   events      3246   \n",
       "3  table                    items                    items     24011   \n",
       "4  table               daterollup               daterollup     24057   \n",
       "5  table        view_item_event_1        view_item_event_1     24091   \n",
       "6  table         view_item_events         view_item_events     29058   \n",
       "7  table  view_user_profile_event  view_user_profile_event     34025   \n",
       "8  table    test_assignment_event    test_assignment_event     34084   \n",
       "\n",
       "                                                 sql  \n",
       "0  CREATE TABLE \"users\" (\\n\"created_at\" TEXT,\\n  ...  \n",
       "1  CREATE TABLE \"orders\" (\\n\"invoice_id\" REAL,\\n ...  \n",
       "2  CREATE TABLE \"events\" (\\n\"event_id\" TEXT,\\n  \"...  \n",
       "3  CREATE TABLE \"items\" (\\n\"adjective\" TEXT,\\n  \"...  \n",
       "4  CREATE TABLE \"daterollup\" (\\n\"date\" TEXT,\\n  \"...  \n",
       "5  CREATE TABLE view_item_event_1(\\n  event_id TE...  \n",
       "6  CREATE TABLE view_item_events(\\n  event_id TEX...  \n",
       "7  CREATE TABLE view_user_profile_event(\\n  event...  \n",
       "8  CREATE TABLE test_assignment_event(\\n  event_i...  "
      ]
     },
     "execution_count": 63,
     "metadata": {},
     "output_type": "execute_result"
    }
   ],
   "source": [
    "#lets check our tables\n",
    "sq('''\n",
    "SELECT * \n",
    "FROM sqlite_master\n",
    "''')"
   ]
  },
  {
   "cell_type": "code",
   "execution_count": 64,
   "metadata": {
    "execution": {
     "iopub.execute_input": "2022-06-09T17:47:35.088693Z",
     "iopub.status.busy": "2022-06-09T17:47:35.088073Z",
     "iopub.status.idle": "2022-06-09T17:47:35.786353Z",
     "shell.execute_reply": "2022-06-09T17:47:35.785588Z"
    },
    "papermill": {
     "duration": 0.845751,
     "end_time": "2022-06-09T17:47:35.786513",
     "exception": false,
     "start_time": "2022-06-09T17:47:34.940762",
     "status": "completed"
    },
    "tags": []
   },
   "outputs": [
    {
     "data": {
      "text/html": [
       "<div>\n",
       "<style scoped>\n",
       "    .dataframe tbody tr th:only-of-type {\n",
       "        vertical-align: middle;\n",
       "    }\n",
       "\n",
       "    .dataframe tbody tr th {\n",
       "        vertical-align: top;\n",
       "    }\n",
       "\n",
       "    .dataframe thead th {\n",
       "        text-align: right;\n",
       "    }\n",
       "</style>\n",
       "<table border=\"1\" class=\"dataframe\">\n",
       "  <thead>\n",
       "    <tr style=\"text-align: right;\">\n",
       "      <th></th>\n",
       "      <th>event_id</th>\n",
       "      <th>event_time</th>\n",
       "      <th>user_id</th>\n",
       "      <th>platform</th>\n",
       "      <th>item_id</th>\n",
       "      <th>referrer</th>\n",
       "    </tr>\n",
       "  </thead>\n",
       "  <tbody>\n",
       "    <tr>\n",
       "      <th>0</th>\n",
       "      <td>00009c5122b04bc09d7677b5bae641c8</td>\n",
       "      <td>2017-10-06</td>\n",
       "      <td>198519.0</td>\n",
       "      <td>mobile web</td>\n",
       "      <td>3241</td>\n",
       "      <td>shopping_cart</td>\n",
       "    </tr>\n",
       "    <tr>\n",
       "      <th>1</th>\n",
       "      <td>0000ac00b5b741a8928a911dc3448cb2</td>\n",
       "      <td>2014-07-25</td>\n",
       "      <td>31861.0</td>\n",
       "      <td>web</td>\n",
       "      <td>2260</td>\n",
       "      <td>home</td>\n",
       "    </tr>\n",
       "    <tr>\n",
       "      <th>2</th>\n",
       "      <td>00015a1e375441328232db147a6bc34e</td>\n",
       "      <td>2018-04-07</td>\n",
       "      <td>283465.0</td>\n",
       "      <td>web</td>\n",
       "      <td>2889</td>\n",
       "      <td>home</td>\n",
       "    </tr>\n",
       "    <tr>\n",
       "      <th>3</th>\n",
       "      <td>0001d177b6ad410b8587fbea553810c8</td>\n",
       "      <td>2015-10-15</td>\n",
       "      <td>67361.0</td>\n",
       "      <td>android</td>\n",
       "      <td>3014</td>\n",
       "      <td>item_page</td>\n",
       "    </tr>\n",
       "    <tr>\n",
       "      <th>4</th>\n",
       "      <td>0001fd08f7e745f2903a4a34a046bcce</td>\n",
       "      <td>2017-11-09</td>\n",
       "      <td>237955.0</td>\n",
       "      <td>web</td>\n",
       "      <td>1424</td>\n",
       "      <td>google_search</td>\n",
       "    </tr>\n",
       "  </tbody>\n",
       "</table>\n",
       "</div>"
      ],
      "text/plain": [
       "                           event_id  event_time   user_id    platform item_id  \\\n",
       "0  00009c5122b04bc09d7677b5bae641c8  2017-10-06  198519.0  mobile web    3241   \n",
       "1  0000ac00b5b741a8928a911dc3448cb2  2014-07-25   31861.0         web    2260   \n",
       "2  00015a1e375441328232db147a6bc34e  2018-04-07  283465.0         web    2889   \n",
       "3  0001d177b6ad410b8587fbea553810c8  2015-10-15   67361.0     android    3014   \n",
       "4  0001fd08f7e745f2903a4a34a046bcce  2017-11-09  237955.0         web    1424   \n",
       "\n",
       "        referrer  \n",
       "0  shopping_cart  \n",
       "1           home  \n",
       "2           home  \n",
       "3      item_page  \n",
       "4  google_search  "
      ]
     },
     "execution_count": 64,
     "metadata": {},
     "output_type": "execute_result"
    }
   ],
   "source": [
    "view_item_events = sq('''SELECT * FROM view_item_events''')\n",
    "view_item_events.head()"
   ]
  },
  {
   "cell_type": "code",
   "execution_count": 65,
   "metadata": {
    "execution": {
     "iopub.execute_input": "2022-06-09T17:47:36.087269Z",
     "iopub.status.busy": "2022-06-09T17:47:36.086598Z",
     "iopub.status.idle": "2022-06-09T17:47:36.456425Z",
     "shell.execute_reply": "2022-06-09T17:47:36.457086Z"
    },
    "papermill": {
     "duration": 0.523815,
     "end_time": "2022-06-09T17:47:36.457326",
     "exception": false,
     "start_time": "2022-06-09T17:47:35.933511",
     "status": "completed"
    },
    "tags": []
   },
   "outputs": [
    {
     "data": {
      "text/html": [
       "<div>\n",
       "<style scoped>\n",
       "    .dataframe tbody tr th:only-of-type {\n",
       "        vertical-align: middle;\n",
       "    }\n",
       "\n",
       "    .dataframe tbody tr th {\n",
       "        vertical-align: top;\n",
       "    }\n",
       "\n",
       "    .dataframe thead th {\n",
       "        text-align: right;\n",
       "    }\n",
       "</style>\n",
       "<table border=\"1\" class=\"dataframe\">\n",
       "  <thead>\n",
       "    <tr style=\"text-align: right;\">\n",
       "      <th></th>\n",
       "      <th>event_id</th>\n",
       "      <th>event_time</th>\n",
       "      <th>user_id</th>\n",
       "      <th>platform</th>\n",
       "      <th>test_assignment</th>\n",
       "      <th>test_id</th>\n",
       "    </tr>\n",
       "  </thead>\n",
       "  <tbody>\n",
       "    <tr>\n",
       "      <th>0</th>\n",
       "      <td>00003d71b9cb41469c05af608a6d2145</td>\n",
       "      <td>2014-04-28 15:23:00</td>\n",
       "      <td>147689.0</td>\n",
       "      <td>server</td>\n",
       "      <td>1</td>\n",
       "      <td>5</td>\n",
       "    </tr>\n",
       "    <tr>\n",
       "      <th>1</th>\n",
       "      <td>00012e89e2f54bf99180dde02c63e4ad</td>\n",
       "      <td>2016-11-06 15:23:09</td>\n",
       "      <td>225112.0</td>\n",
       "      <td>server</td>\n",
       "      <td>1</td>\n",
       "      <td>7</td>\n",
       "    </tr>\n",
       "    <tr>\n",
       "      <th>2</th>\n",
       "      <td>00012e8f6da84f33ab9ff53901f5a2f3</td>\n",
       "      <td>2014-04-10 15:23:05</td>\n",
       "      <td>130289.0</td>\n",
       "      <td>server</td>\n",
       "      <td>1</td>\n",
       "      <td>6</td>\n",
       "    </tr>\n",
       "    <tr>\n",
       "      <th>3</th>\n",
       "      <td>00018d8326b64ce7b016b90282b0d81e</td>\n",
       "      <td>2014-05-13 15:23:05</td>\n",
       "      <td>86365.0</td>\n",
       "      <td>server</td>\n",
       "      <td>0</td>\n",
       "      <td>6</td>\n",
       "    </tr>\n",
       "    <tr>\n",
       "      <th>4</th>\n",
       "      <td>0001abcf9b824630856a246877a6ef4b</td>\n",
       "      <td>2013-10-19 15:23:00</td>\n",
       "      <td>51995.0</td>\n",
       "      <td>server</td>\n",
       "      <td>1</td>\n",
       "      <td>5</td>\n",
       "    </tr>\n",
       "  </tbody>\n",
       "</table>\n",
       "</div>"
      ],
      "text/plain": [
       "                           event_id           event_time   user_id platform  \\\n",
       "0  00003d71b9cb41469c05af608a6d2145  2014-04-28 15:23:00  147689.0   server   \n",
       "1  00012e89e2f54bf99180dde02c63e4ad  2016-11-06 15:23:09  225112.0   server   \n",
       "2  00012e8f6da84f33ab9ff53901f5a2f3  2014-04-10 15:23:05  130289.0   server   \n",
       "3  00018d8326b64ce7b016b90282b0d81e  2014-05-13 15:23:05   86365.0   server   \n",
       "4  0001abcf9b824630856a246877a6ef4b  2013-10-19 15:23:00   51995.0   server   \n",
       "\n",
       "  test_assignment test_id  \n",
       "0               1       5  \n",
       "1               1       7  \n",
       "2               1       6  \n",
       "3               0       6  \n",
       "4               1       5  "
      ]
     },
     "execution_count": 65,
     "metadata": {},
     "output_type": "execute_result"
    }
   ],
   "source": [
    "test_assignment_event = sq('''SELECT * FROM test_assignment_event''')\n",
    "test_assignment_event.head()"
   ]
  },
  {
   "cell_type": "code",
   "execution_count": 66,
   "metadata": {
    "execution": {
     "iopub.execute_input": "2022-06-09T17:47:36.754503Z",
     "iopub.status.busy": "2022-06-09T17:47:36.753665Z",
     "iopub.status.idle": "2022-06-09T17:47:36.773976Z",
     "shell.execute_reply": "2022-06-09T17:47:36.774493Z"
    },
    "papermill": {
     "duration": 0.171267,
     "end_time": "2022-06-09T17:47:36.774663",
     "exception": false,
     "start_time": "2022-06-09T17:47:36.603396",
     "status": "completed"
    },
    "tags": []
   },
   "outputs": [
    {
     "data": {
      "text/html": [
       "<div>\n",
       "<style scoped>\n",
       "    .dataframe tbody tr th:only-of-type {\n",
       "        vertical-align: middle;\n",
       "    }\n",
       "\n",
       "    .dataframe tbody tr th {\n",
       "        vertical-align: top;\n",
       "    }\n",
       "\n",
       "    .dataframe thead th {\n",
       "        text-align: right;\n",
       "    }\n",
       "</style>\n",
       "<table border=\"1\" class=\"dataframe\">\n",
       "  <thead>\n",
       "    <tr style=\"text-align: right;\">\n",
       "      <th></th>\n",
       "      <th>event_id</th>\n",
       "      <th>event_time</th>\n",
       "      <th>user_id</th>\n",
       "      <th>platform</th>\n",
       "      <th>viewed_user_id</th>\n",
       "    </tr>\n",
       "  </thead>\n",
       "  <tbody>\n",
       "    <tr>\n",
       "      <th>0</th>\n",
       "      <td>0037e628eb0e4ff29b914a8f70db907e</td>\n",
       "      <td>2015-05-02 02:50:41</td>\n",
       "      <td>56605.0</td>\n",
       "      <td>web</td>\n",
       "      <td>8582</td>\n",
       "    </tr>\n",
       "    <tr>\n",
       "      <th>1</th>\n",
       "      <td>00388b81b5c64e58a24b8c9854780a36</td>\n",
       "      <td>2017-09-07 10:19:54</td>\n",
       "      <td>100369.0</td>\n",
       "      <td>web</td>\n",
       "      <td>228236</td>\n",
       "    </tr>\n",
       "    <tr>\n",
       "      <th>2</th>\n",
       "      <td>008bb7d54eb04364876b35cdf5c6d2d4</td>\n",
       "      <td>2017-10-17 09:40:28</td>\n",
       "      <td>230568.0</td>\n",
       "      <td>web</td>\n",
       "      <td>25178</td>\n",
       "    </tr>\n",
       "    <tr>\n",
       "      <th>3</th>\n",
       "      <td>009fcbecc369449f881648a727c762c2</td>\n",
       "      <td>2017-09-11 03:02:18</td>\n",
       "      <td>214788.0</td>\n",
       "      <td>web</td>\n",
       "      <td>54626</td>\n",
       "    </tr>\n",
       "    <tr>\n",
       "      <th>4</th>\n",
       "      <td>00a0ed07eb194c81b144bc117aaf7931</td>\n",
       "      <td>2018-02-19 14:21:19</td>\n",
       "      <td>194117.0</td>\n",
       "      <td>android</td>\n",
       "      <td>254386</td>\n",
       "    </tr>\n",
       "  </tbody>\n",
       "</table>\n",
       "</div>"
      ],
      "text/plain": [
       "                           event_id           event_time   user_id platform  \\\n",
       "0  0037e628eb0e4ff29b914a8f70db907e  2015-05-02 02:50:41   56605.0      web   \n",
       "1  00388b81b5c64e58a24b8c9854780a36  2017-09-07 10:19:54  100369.0      web   \n",
       "2  008bb7d54eb04364876b35cdf5c6d2d4  2017-10-17 09:40:28  230568.0      web   \n",
       "3  009fcbecc369449f881648a727c762c2  2017-09-11 03:02:18  214788.0      web   \n",
       "4  00a0ed07eb194c81b144bc117aaf7931  2018-02-19 14:21:19  194117.0  android   \n",
       "\n",
       "  viewed_user_id  \n",
       "0           8582  \n",
       "1         228236  \n",
       "2          25178  \n",
       "3          54626  \n",
       "4         254386  "
      ]
     },
     "execution_count": 66,
     "metadata": {},
     "output_type": "execute_result"
    }
   ],
   "source": [
    "view_user_profile_event = sq('''SELECT * FROM view_user_profile_event ''')\n",
    "view_user_profile_event.head()"
   ]
  },
  {
   "cell_type": "markdown",
   "metadata": {
    "papermill": {
     "duration": 0.145372,
     "end_time": "2022-06-09T17:47:37.064990",
     "exception": false,
     "start_time": "2022-06-09T17:47:36.919618",
     "status": "completed"
    },
    "tags": []
   },
   "source": [
    "<a id=\"q10\"></a>\n",
    "<h3>What percent of users have viewed items for each product category?</h3>"
   ]
  },
  {
   "cell_type": "code",
   "execution_count": 67,
   "metadata": {
    "execution": {
     "iopub.execute_input": "2022-06-09T17:47:37.361100Z",
     "iopub.status.busy": "2022-06-09T17:47:37.360117Z",
     "iopub.status.idle": "2022-06-09T17:47:37.762183Z",
     "shell.execute_reply": "2022-06-09T17:47:37.762672Z"
    },
    "papermill": {
     "duration": 0.552312,
     "end_time": "2022-06-09T17:47:37.762859",
     "exception": false,
     "start_time": "2022-06-09T17:47:37.210547",
     "status": "completed"
    },
    "tags": []
   },
   "outputs": [
    {
     "data": {
      "text/html": [
       "<div>\n",
       "<style scoped>\n",
       "    .dataframe tbody tr th:only-of-type {\n",
       "        vertical-align: middle;\n",
       "    }\n",
       "\n",
       "    .dataframe tbody tr th {\n",
       "        vertical-align: top;\n",
       "    }\n",
       "\n",
       "    .dataframe thead th {\n",
       "        text-align: right;\n",
       "    }\n",
       "</style>\n",
       "<table border=\"1\" class=\"dataframe\">\n",
       "  <thead>\n",
       "    <tr style=\"text-align: right;\">\n",
       "      <th></th>\n",
       "      <th>Category</th>\n",
       "      <th>Users Viewed Count</th>\n",
       "    </tr>\n",
       "  </thead>\n",
       "  <tbody>\n",
       "    <tr>\n",
       "      <th>0</th>\n",
       "      <td>apparatus</td>\n",
       "      <td>10695</td>\n",
       "    </tr>\n",
       "    <tr>\n",
       "      <th>1</th>\n",
       "      <td>contraption</td>\n",
       "      <td>10680</td>\n",
       "    </tr>\n",
       "    <tr>\n",
       "      <th>2</th>\n",
       "      <td>device</td>\n",
       "      <td>10580</td>\n",
       "    </tr>\n",
       "    <tr>\n",
       "      <th>3</th>\n",
       "      <td>dongle</td>\n",
       "      <td>10490</td>\n",
       "    </tr>\n",
       "    <tr>\n",
       "      <th>4</th>\n",
       "      <td>gadget</td>\n",
       "      <td>10623</td>\n",
       "    </tr>\n",
       "    <tr>\n",
       "      <th>5</th>\n",
       "      <td>instrument</td>\n",
       "      <td>10484</td>\n",
       "    </tr>\n",
       "    <tr>\n",
       "      <th>6</th>\n",
       "      <td>mechanism</td>\n",
       "      <td>10594</td>\n",
       "    </tr>\n",
       "    <tr>\n",
       "      <th>7</th>\n",
       "      <td>module</td>\n",
       "      <td>10571</td>\n",
       "    </tr>\n",
       "    <tr>\n",
       "      <th>8</th>\n",
       "      <td>tool</td>\n",
       "      <td>10426</td>\n",
       "    </tr>\n",
       "    <tr>\n",
       "      <th>9</th>\n",
       "      <td>widget</td>\n",
       "      <td>10605</td>\n",
       "    </tr>\n",
       "  </tbody>\n",
       "</table>\n",
       "</div>"
      ],
      "text/plain": [
       "      Category  Users Viewed Count\n",
       "0    apparatus               10695\n",
       "1  contraption               10680\n",
       "2       device               10580\n",
       "3       dongle               10490\n",
       "4       gadget               10623\n",
       "5   instrument               10484\n",
       "6    mechanism               10594\n",
       "7       module               10571\n",
       "8         tool               10426\n",
       "9       widget               10605"
      ]
     },
     "execution_count": 67,
     "metadata": {},
     "output_type": "execute_result"
    }
   ],
   "source": [
    "cat_users_viewed_count = sq1(''' \n",
    "WITH view_item_event_category_group AS (\n",
    "  SELECT\n",
    "    i.category AS category,\n",
    "    v.user_id AS user_id\n",
    "  FROM\n",
    "    view_item_events v\n",
    "    LEFT JOIN items i ON i.id = v.item_id\n",
    ")\n",
    "SELECT\n",
    "  category,\n",
    "  count(DISTINCT user_id) AS users_viewed_count\n",
    "FROM\n",
    "  view_item_event_category_group\n",
    "GROUP BY\n",
    "  category\n",
    "''')\n",
    "# sq('''\n",
    "# SELECT\n",
    "#   items.category,\n",
    "#   count(DISTINCT user_id)\n",
    "# FROM\n",
    "#   view_item_event\n",
    "#   JOIN items ON items.id = view_item_event.item_id\n",
    "# GROUP BY\n",
    "#   items.category\n",
    "# ''')\n",
    "cat_users_viewed_count"
   ]
  },
  {
   "cell_type": "code",
   "execution_count": 68,
   "metadata": {
    "execution": {
     "iopub.execute_input": "2022-06-09T17:47:38.061631Z",
     "iopub.status.busy": "2022-06-09T17:47:38.060677Z",
     "iopub.status.idle": "2022-06-09T17:47:38.119554Z",
     "shell.execute_reply": "2022-06-09T17:47:38.120026Z"
    },
    "papermill": {
     "duration": 0.207845,
     "end_time": "2022-06-09T17:47:38.120214",
     "exception": false,
     "start_time": "2022-06-09T17:47:37.912369",
     "status": "completed"
    },
    "tags": []
   },
   "outputs": [
    {
     "data": {
      "image/png": "[encoded data removed]",
      "text/plain": [
       "<Figure size 1080x504 with 1 Axes>"
      ]
     },
     "metadata": {
      "needs_background": "light"
     },
     "output_type": "display_data"
    }
   ],
   "source": [
    "title='Number of users have viewed items for each product category'\n",
    "bar_plot('Category','Users Viewed Count',cat_users_viewed_count,title)"
   ]
  },
  {
   "cell_type": "markdown",
   "metadata": {
    "papermill": {
     "duration": 0.148785,
     "end_time": "2022-06-09T17:47:38.417543",
     "exception": false,
     "start_time": "2022-06-09T17:47:38.268758",
     "status": "completed"
    },
    "tags": []
   },
   "source": [
    "<a id=\"q11\"></a>\n",
    "<h3>How many items have been purchased and how many items do we have?</h3>"
   ]
  },
  {
   "cell_type": "code",
   "execution_count": 69,
   "metadata": {
    "execution": {
     "iopub.execute_input": "2022-06-09T17:47:38.722141Z",
     "iopub.status.busy": "2022-06-09T17:47:38.721171Z",
     "iopub.status.idle": "2022-06-09T17:47:38.775270Z",
     "shell.execute_reply": "2022-06-09T17:47:38.774737Z"
    },
    "papermill": {
     "duration": 0.20808,
     "end_time": "2022-06-09T17:47:38.775431",
     "exception": false,
     "start_time": "2022-06-09T17:47:38.567351",
     "status": "completed"
    },
    "tags": []
   },
   "outputs": [
    {
     "data": {
      "text/html": [
       "<div>\n",
       "<style scoped>\n",
       "    .dataframe tbody tr th:only-of-type {\n",
       "        vertical-align: middle;\n",
       "    }\n",
       "\n",
       "    .dataframe tbody tr th {\n",
       "        vertical-align: top;\n",
       "    }\n",
       "\n",
       "    .dataframe thead th {\n",
       "        text-align: right;\n",
       "    }\n",
       "</style>\n",
       "<table border=\"1\" class=\"dataframe\">\n",
       "  <thead>\n",
       "    <tr style=\"text-align: right;\">\n",
       "      <th></th>\n",
       "      <th>Items Count</th>\n",
       "      <th>Items Ever Purchased Count</th>\n",
       "    </tr>\n",
       "  </thead>\n",
       "  <tbody>\n",
       "    <tr>\n",
       "      <th>0</th>\n",
       "      <td>2198</td>\n",
       "      <td>47402</td>\n",
       "    </tr>\n",
       "  </tbody>\n",
       "</table>\n",
       "</div>"
      ],
      "text/plain": [
       "   Items Count  Items Ever Purchased Count\n",
       "0         2198                       47402"
      ]
     },
     "execution_count": 69,
     "metadata": {},
     "output_type": "execute_result"
    }
   ],
   "source": [
    "sq1('''\n",
    "SELECT\n",
    "  COUNT(DISTINCT(items.id)) AS items_count,\n",
    "  COUNT(orders.item_id) AS items_ever_purchased_count\n",
    "FROM\n",
    "  orders\n",
    "  JOIN items ON items.id = orders.item_id\n",
    "''')"
   ]
  },
  {
   "cell_type": "markdown",
   "metadata": {
    "papermill": {
     "duration": 0.154552,
     "end_time": "2022-06-09T17:47:39.082689",
     "exception": false,
     "start_time": "2022-06-09T17:47:38.928137",
     "status": "completed"
    },
    "tags": []
   },
   "source": [
    "<a id=\"q12\"></a>\n",
    "<h3>How many items have been purchased for each category?</h3>"
   ]
  },
  {
   "cell_type": "code",
   "execution_count": 70,
   "metadata": {
    "execution": {
     "iopub.execute_input": "2022-06-09T17:47:39.388080Z",
     "iopub.status.busy": "2022-06-09T17:47:39.387108Z",
     "iopub.status.idle": "2022-06-09T17:47:39.578787Z",
     "shell.execute_reply": "2022-06-09T17:47:39.578186Z"
    },
    "papermill": {
     "duration": 0.346491,
     "end_time": "2022-06-09T17:47:39.578945",
     "exception": false,
     "start_time": "2022-06-09T17:47:39.232454",
     "status": "completed"
    },
    "tags": []
   },
   "outputs": [
    {
     "data": {
      "text/html": [
       "<div>\n",
       "<style scoped>\n",
       "    .dataframe tbody tr th:only-of-type {\n",
       "        vertical-align: middle;\n",
       "    }\n",
       "\n",
       "    .dataframe tbody tr th {\n",
       "        vertical-align: top;\n",
       "    }\n",
       "\n",
       "    .dataframe thead th {\n",
       "        text-align: right;\n",
       "    }\n",
       "</style>\n",
       "<table border=\"1\" class=\"dataframe\">\n",
       "  <thead>\n",
       "    <tr style=\"text-align: right;\">\n",
       "      <th></th>\n",
       "      <th>Category</th>\n",
       "      <th>User With Orders</th>\n",
       "    </tr>\n",
       "  </thead>\n",
       "  <tbody>\n",
       "    <tr>\n",
       "      <th>0</th>\n",
       "      <td>apparatus</td>\n",
       "      <td>2028</td>\n",
       "    </tr>\n",
       "    <tr>\n",
       "      <th>1</th>\n",
       "      <td>widget</td>\n",
       "      <td>2015</td>\n",
       "    </tr>\n",
       "    <tr>\n",
       "      <th>2</th>\n",
       "      <td>contraption</td>\n",
       "      <td>2008</td>\n",
       "    </tr>\n",
       "    <tr>\n",
       "      <th>3</th>\n",
       "      <td>module</td>\n",
       "      <td>1999</td>\n",
       "    </tr>\n",
       "    <tr>\n",
       "      <th>4</th>\n",
       "      <td>instrument</td>\n",
       "      <td>1997</td>\n",
       "    </tr>\n",
       "    <tr>\n",
       "      <th>5</th>\n",
       "      <td>device</td>\n",
       "      <td>1994</td>\n",
       "    </tr>\n",
       "    <tr>\n",
       "      <th>6</th>\n",
       "      <td>mechanism</td>\n",
       "      <td>1981</td>\n",
       "    </tr>\n",
       "    <tr>\n",
       "      <th>7</th>\n",
       "      <td>gadget</td>\n",
       "      <td>1978</td>\n",
       "    </tr>\n",
       "    <tr>\n",
       "      <th>8</th>\n",
       "      <td>tool</td>\n",
       "      <td>1971</td>\n",
       "    </tr>\n",
       "    <tr>\n",
       "      <th>9</th>\n",
       "      <td>dongle</td>\n",
       "      <td>1963</td>\n",
       "    </tr>\n",
       "  </tbody>\n",
       "</table>\n",
       "</div>"
      ],
      "text/plain": [
       "      Category  User With Orders\n",
       "0    apparatus              2028\n",
       "1       widget              2015\n",
       "2  contraption              2008\n",
       "3       module              1999\n",
       "4   instrument              1997\n",
       "5       device              1994\n",
       "6    mechanism              1981\n",
       "7       gadget              1978\n",
       "8         tool              1971\n",
       "9       dongle              1963"
      ]
     },
     "execution_count": 70,
     "metadata": {},
     "output_type": "execute_result"
    }
   ],
   "source": [
    "sq1('''\n",
    "SELECT\n",
    "  o.item_category AS category,\n",
    "  COUNT(DISTINCT COALESCE(parent_user_id, user_id)) AS user_with_orders\n",
    "FROM\n",
    "  orders o\n",
    "  JOIN users u ON u.id = o.user_id\n",
    "GROUP BY\n",
    "  o.item_category\n",
    "ORDER BY\n",
    "  user_with_orders DESC\n",
    "''')"
   ]
  },
  {
   "cell_type": "markdown",
   "metadata": {
    "papermill": {
     "duration": 0.149015,
     "end_time": "2022-06-09T17:47:39.877992",
     "exception": false,
     "start_time": "2022-06-09T17:47:39.728977",
     "status": "completed"
    },
    "tags": []
   },
   "source": [
    "<a id=\"q13\"></a>\n",
    "<h3>How many orders are placed each day?</h3>"
   ]
  },
  {
   "cell_type": "code",
   "execution_count": 71,
   "metadata": {
    "execution": {
     "iopub.execute_input": "2022-06-09T17:47:40.228600Z",
     "iopub.status.busy": "2022-06-09T17:47:40.227938Z",
     "iopub.status.idle": "2022-06-09T17:47:40.311020Z",
     "shell.execute_reply": "2022-06-09T17:47:40.311564Z"
    },
    "papermill": {
     "duration": 0.237315,
     "end_time": "2022-06-09T17:47:40.311731",
     "exception": false,
     "start_time": "2022-06-09T17:47:40.074416",
     "status": "completed"
    },
    "tags": []
   },
   "outputs": [
    {
     "data": {
      "text/html": [
       "<div>\n",
       "<style scoped>\n",
       "    .dataframe tbody tr th:only-of-type {\n",
       "        vertical-align: middle;\n",
       "    }\n",
       "\n",
       "    .dataframe tbody tr th {\n",
       "        vertical-align: top;\n",
       "    }\n",
       "\n",
       "    .dataframe thead th {\n",
       "        text-align: right;\n",
       "    }\n",
       "</style>\n",
       "<table border=\"1\" class=\"dataframe\">\n",
       "  <thead>\n",
       "    <tr style=\"text-align: right;\">\n",
       "      <th></th>\n",
       "      <th>Day</th>\n",
       "      <th>Orders</th>\n",
       "      <th>Line Items</th>\n",
       "    </tr>\n",
       "  </thead>\n",
       "  <tbody>\n",
       "    <tr>\n",
       "      <th>0</th>\n",
       "      <td>2018-06-04</td>\n",
       "      <td>4</td>\n",
       "      <td>11</td>\n",
       "    </tr>\n",
       "    <tr>\n",
       "      <th>1</th>\n",
       "      <td>2018-06-03</td>\n",
       "      <td>6</td>\n",
       "      <td>15</td>\n",
       "    </tr>\n",
       "    <tr>\n",
       "      <th>2</th>\n",
       "      <td>2018-06-02</td>\n",
       "      <td>8</td>\n",
       "      <td>21</td>\n",
       "    </tr>\n",
       "    <tr>\n",
       "      <th>3</th>\n",
       "      <td>2018-06-01</td>\n",
       "      <td>8</td>\n",
       "      <td>17</td>\n",
       "    </tr>\n",
       "    <tr>\n",
       "      <th>4</th>\n",
       "      <td>2018-05-31</td>\n",
       "      <td>14</td>\n",
       "      <td>32</td>\n",
       "    </tr>\n",
       "    <tr>\n",
       "      <th>...</th>\n",
       "      <td>...</td>\n",
       "      <td>...</td>\n",
       "      <td>...</td>\n",
       "    </tr>\n",
       "    <tr>\n",
       "      <th>1811</th>\n",
       "      <td>2013-04-13</td>\n",
       "      <td>1</td>\n",
       "      <td>1</td>\n",
       "    </tr>\n",
       "    <tr>\n",
       "      <th>1812</th>\n",
       "      <td>2013-04-07</td>\n",
       "      <td>1</td>\n",
       "      <td>3</td>\n",
       "    </tr>\n",
       "    <tr>\n",
       "      <th>1813</th>\n",
       "      <td>2013-03-29</td>\n",
       "      <td>1</td>\n",
       "      <td>3</td>\n",
       "    </tr>\n",
       "    <tr>\n",
       "      <th>1814</th>\n",
       "      <td>2013-03-27</td>\n",
       "      <td>1</td>\n",
       "      <td>1</td>\n",
       "    </tr>\n",
       "    <tr>\n",
       "      <th>1815</th>\n",
       "      <td>2013-03-14</td>\n",
       "      <td>1</td>\n",
       "      <td>2</td>\n",
       "    </tr>\n",
       "  </tbody>\n",
       "</table>\n",
       "<p>1816 rows × 3 columns</p>\n",
       "</div>"
      ],
      "text/plain": [
       "             Day  Orders  Line Items\n",
       "0     2018-06-04       4          11\n",
       "1     2018-06-03       6          15\n",
       "2     2018-06-02       8          21\n",
       "3     2018-06-01       8          17\n",
       "4     2018-05-31      14          32\n",
       "...          ...     ...         ...\n",
       "1811  2013-04-13       1           1\n",
       "1812  2013-04-07       1           3\n",
       "1813  2013-03-29       1           3\n",
       "1814  2013-03-27       1           1\n",
       "1815  2013-03-14       1           2\n",
       "\n",
       "[1816 rows x 3 columns]"
      ]
     },
     "execution_count": 71,
     "metadata": {},
     "output_type": "execute_result"
    }
   ],
   "source": [
    "num_each_day = sq1('''\n",
    "SELECT\n",
    "  DATE(paid_at) AS DAY,\n",
    "  COUNT(DISTINCT invoice_id) AS orders,\n",
    "  COUNT(DISTINCT line_item_id) AS line_items\n",
    "FROM\n",
    "  orders\n",
    "GROUP BY\n",
    "  DAY\n",
    "ORDER BY\n",
    "  DAY DESC;\n",
    "''')\n",
    "num_each_day"
   ]
  },
  {
   "cell_type": "code",
   "execution_count": 75,
   "metadata": {
    "execution": {
     "iopub.execute_input": "2022-06-09T17:47:40.613067Z",
     "iopub.status.busy": "2022-06-09T17:47:40.612484Z",
     "iopub.status.idle": "2022-06-09T17:47:40.720841Z",
     "shell.execute_reply": "2022-06-09T17:47:40.721380Z"
    },
    "papermill": {
     "duration": 0.261016,
     "end_time": "2022-06-09T17:47:40.721551",
     "exception": false,
     "start_time": "2022-06-09T17:47:40.460535",
     "status": "completed"
    },
    "tags": []
   },
   "outputs": [
    {
     "data": {
      "image/png": "[encoded data removed]",
      "text/plain": [
       "<Figure size 1080x504 with 1 Axes>"
      ]
     },
     "metadata": {
      "needs_background": "light"
     },
     "output_type": "display_data"
    }
   ],
   "source": [
    "line_plot(num_each_day, 'Day', ['Orders','Line Items'], title='')"
   ]
  },
  {
   "cell_type": "markdown",
   "metadata": {
    "papermill": {
     "duration": 0.170665,
     "end_time": "2022-06-09T17:47:41.062364",
     "exception": false,
     "start_time": "2022-06-09T17:47:40.891699",
     "status": "completed"
    },
    "tags": []
   },
   "source": [
    "<a id=\"q14\"></a> \n",
    "<h3>What is the most recently viewed item for each user?</h3>"
   ]
  },
  {
   "cell_type": "code",
   "execution_count": 76,
   "metadata": {
    "execution": {
     "iopub.execute_input": "2022-06-09T17:47:41.406500Z",
     "iopub.status.busy": "2022-06-09T17:47:41.405854Z",
     "iopub.status.idle": "2022-06-09T17:47:42.581108Z",
     "shell.execute_reply": "2022-06-09T17:47:42.581851Z"
    },
    "papermill": {
     "duration": 1.349474,
     "end_time": "2022-06-09T17:47:42.582157",
     "exception": false,
     "start_time": "2022-06-09T17:47:41.232683",
     "status": "completed"
    },
    "tags": []
   },
   "outputs": [],
   "source": [
    "#first lets create a tabe with recently viewed events for each user\n",
    "recent_views = c.execute('''\n",
    "CREATE TABLE IF NOT EXISTS 'recent_views' AS\n",
    "SELECT\n",
    "  user_id,\n",
    "  item_id,\n",
    "  event_time,\n",
    "  ROW_NUMBER() OVER (\n",
    "    PARTITION BY user_id\n",
    "    ORDER BY\n",
    "      event_time DESC\n",
    "  ) AS row_number,\n",
    "  RANK() OVER (\n",
    "    PARTITION BY user_id\n",
    "    ORDER BY\n",
    "      event_time DESC\n",
    "  ) AS rank,\n",
    "  DENSE_RANK() OVER (\n",
    "    PARTITION BY user_id\n",
    "    ORDER BY\n",
    "      event_time DESC\n",
    "  ) AS dense_rank\n",
    "FROM\n",
    "  view_item_events\n",
    "''')"
   ]
  },
  {
   "cell_type": "code",
   "execution_count": 77,
   "metadata": {
    "execution": {
     "iopub.execute_input": "2022-06-09T17:47:42.959322Z",
     "iopub.status.busy": "2022-06-09T17:47:42.958648Z",
     "iopub.status.idle": "2022-06-09T17:47:43.620184Z",
     "shell.execute_reply": "2022-06-09T17:47:43.619637Z"
    },
    "papermill": {
     "duration": 0.834718,
     "end_time": "2022-06-09T17:47:43.620347",
     "exception": false,
     "start_time": "2022-06-09T17:47:42.785629",
     "status": "completed"
    },
    "tags": []
   },
   "outputs": [
    {
     "data": {
      "text/html": [
       "<div>\n",
       "<style scoped>\n",
       "    .dataframe tbody tr th:only-of-type {\n",
       "        vertical-align: middle;\n",
       "    }\n",
       "\n",
       "    .dataframe tbody tr th {\n",
       "        vertical-align: top;\n",
       "    }\n",
       "\n",
       "    .dataframe thead th {\n",
       "        text-align: right;\n",
       "    }\n",
       "</style>\n",
       "<table border=\"1\" class=\"dataframe\">\n",
       "  <thead>\n",
       "    <tr style=\"text-align: right;\">\n",
       "      <th></th>\n",
       "      <th>user_id</th>\n",
       "      <th>item_id</th>\n",
       "      <th>event_time</th>\n",
       "      <th>row_number</th>\n",
       "      <th>rank</th>\n",
       "      <th>dense_rank</th>\n",
       "    </tr>\n",
       "  </thead>\n",
       "  <tbody>\n",
       "    <tr>\n",
       "      <th>0</th>\n",
       "      <td>4.0</td>\n",
       "      <td>3924</td>\n",
       "      <td>2013-09-04</td>\n",
       "      <td>1</td>\n",
       "      <td>1</td>\n",
       "      <td>1</td>\n",
       "    </tr>\n",
       "    <tr>\n",
       "      <th>1</th>\n",
       "      <td>4.0</td>\n",
       "      <td>2712</td>\n",
       "      <td>2013-07-05</td>\n",
       "      <td>2</td>\n",
       "      <td>2</td>\n",
       "      <td>2</td>\n",
       "    </tr>\n",
       "    <tr>\n",
       "      <th>2</th>\n",
       "      <td>4.0</td>\n",
       "      <td>2248</td>\n",
       "      <td>2013-07-03</td>\n",
       "      <td>3</td>\n",
       "      <td>3</td>\n",
       "      <td>3</td>\n",
       "    </tr>\n",
       "    <tr>\n",
       "      <th>3</th>\n",
       "      <td>8.0</td>\n",
       "      <td>2430</td>\n",
       "      <td>2013-07-26</td>\n",
       "      <td>1</td>\n",
       "      <td>1</td>\n",
       "      <td>1</td>\n",
       "    </tr>\n",
       "    <tr>\n",
       "      <th>4</th>\n",
       "      <td>8.0</td>\n",
       "      <td>2079</td>\n",
       "      <td>2013-07-25</td>\n",
       "      <td>2</td>\n",
       "      <td>2</td>\n",
       "      <td>2</td>\n",
       "    </tr>\n",
       "  </tbody>\n",
       "</table>\n",
       "</div>"
      ],
      "text/plain": [
       "   user_id item_id  event_time  row_number  rank  dense_rank\n",
       "0      4.0    3924  2013-09-04           1     1           1\n",
       "1      4.0    2712  2013-07-05           2     2           2\n",
       "2      4.0    2248  2013-07-03           3     3           3\n",
       "3      8.0    2430  2013-07-26           1     1           1\n",
       "4      8.0    2079  2013-07-25           2     2           2"
      ]
     },
     "execution_count": 77,
     "metadata": {},
     "output_type": "execute_result"
    }
   ],
   "source": [
    "recent_views = sq('''SELECT * FROM recent_views''')\n",
    "recent_views.head()"
   ]
  },
  {
   "cell_type": "markdown",
   "metadata": {
    "papermill": {
     "duration": 0.17237,
     "end_time": "2022-06-09T17:47:43.962213",
     "exception": false,
     "start_time": "2022-06-09T17:47:43.789843",
     "status": "completed"
    },
    "tags": []
   },
   "source": [
    "<b><li>Window Function: It is a function that computes a value on a certain partition, or window, of the data that is specified in the PARTITION BY statement.\n",
    "<li>You can see <a href='https://sqlite.org/windowfunctions.html'>windowfunctions</a></h3>"
   ]
  },
  {
   "cell_type": "code",
   "execution_count": 78,
   "metadata": {
    "execution": {
     "iopub.execute_input": "2022-06-09T17:47:44.311593Z",
     "iopub.status.busy": "2022-06-09T17:47:44.310643Z",
     "iopub.status.idle": "2022-06-09T17:47:45.270685Z",
     "shell.execute_reply": "2022-06-09T17:47:45.271212Z"
    },
    "papermill": {
     "duration": 1.135817,
     "end_time": "2022-06-09T17:47:45.271407",
     "exception": false,
     "start_time": "2022-06-09T17:47:44.135590",
     "status": "completed"
    },
    "tags": []
   },
   "outputs": [
    {
     "data": {
      "text/plain": [
       "<sqlite3.Cursor at 0x1b1cf43f5e0>"
      ]
     },
     "execution_count": 78,
     "metadata": {},
     "output_type": "execute_result"
    }
   ],
   "source": [
    "#lets join recent_views, users, items tables together \n",
    "c.execute('''\n",
    "CREATE TABLE IF NOT EXISTS 'full_recent_view' AS\n",
    "SELECT\n",
    "  u.id AS user_id,\n",
    "  (u.first_name || ' ' || u.last_name) AS name,\n",
    "  i.id AS item_id,\n",
    "  event_time,\n",
    "  row_number,\n",
    "  rank,\n",
    "  dense_rank,\n",
    "  u.created_at,\n",
    "  i.category\n",
    "FROM\n",
    "  recent_views r\n",
    "  LEFT JOIN users u ON r.user_id = u.id\n",
    "  LEFT JOIN items i ON r.item_id = i.id\n",
    "''')"
   ]
  },
  {
   "cell_type": "code",
   "execution_count": 79,
   "metadata": {
    "execution": {
     "iopub.execute_input": "2022-06-09T17:47:45.618533Z",
     "iopub.status.busy": "2022-06-09T17:47:45.617550Z",
     "iopub.status.idle": "2022-06-09T17:47:46.581277Z",
     "shell.execute_reply": "2022-06-09T17:47:46.581821Z"
    },
    "papermill": {
     "duration": 1.138505,
     "end_time": "2022-06-09T17:47:46.582054",
     "exception": false,
     "start_time": "2022-06-09T17:47:45.443549",
     "status": "completed"
    },
    "tags": []
   },
   "outputs": [
    {
     "data": {
      "text/html": [
       "<div>\n",
       "<style scoped>\n",
       "    .dataframe tbody tr th:only-of-type {\n",
       "        vertical-align: middle;\n",
       "    }\n",
       "\n",
       "    .dataframe tbody tr th {\n",
       "        vertical-align: top;\n",
       "    }\n",
       "\n",
       "    .dataframe thead th {\n",
       "        text-align: right;\n",
       "    }\n",
       "</style>\n",
       "<table border=\"1\" class=\"dataframe\">\n",
       "  <thead>\n",
       "    <tr style=\"text-align: right;\">\n",
       "      <th></th>\n",
       "      <th>user_id</th>\n",
       "      <th>name</th>\n",
       "      <th>item_id</th>\n",
       "      <th>event_time</th>\n",
       "      <th>row_number</th>\n",
       "      <th>rank</th>\n",
       "      <th>dense_rank</th>\n",
       "      <th>created_at</th>\n",
       "      <th>category</th>\n",
       "    </tr>\n",
       "  </thead>\n",
       "  <tbody>\n",
       "    <tr>\n",
       "      <th>0</th>\n",
       "      <td>4.0</td>\n",
       "      <td>L Murphy</td>\n",
       "      <td>3924.0</td>\n",
       "      <td>2013-09-04</td>\n",
       "      <td>1</td>\n",
       "      <td>1</td>\n",
       "      <td>1</td>\n",
       "      <td>2013-03-04 00:06:49</td>\n",
       "      <td>device</td>\n",
       "    </tr>\n",
       "    <tr>\n",
       "      <th>1</th>\n",
       "      <td>4.0</td>\n",
       "      <td>L Murphy</td>\n",
       "      <td>2712.0</td>\n",
       "      <td>2013-07-05</td>\n",
       "      <td>2</td>\n",
       "      <td>2</td>\n",
       "      <td>2</td>\n",
       "      <td>2013-03-04 00:06:49</td>\n",
       "      <td>dongle</td>\n",
       "    </tr>\n",
       "    <tr>\n",
       "      <th>2</th>\n",
       "      <td>4.0</td>\n",
       "      <td>L Murphy</td>\n",
       "      <td>2248.0</td>\n",
       "      <td>2013-07-03</td>\n",
       "      <td>3</td>\n",
       "      <td>3</td>\n",
       "      <td>3</td>\n",
       "      <td>2013-03-04 00:06:49</td>\n",
       "      <td>dongle</td>\n",
       "    </tr>\n",
       "    <tr>\n",
       "      <th>3</th>\n",
       "      <td>8.0</td>\n",
       "      <td>Hanah Schmidt</td>\n",
       "      <td>2430.0</td>\n",
       "      <td>2013-07-26</td>\n",
       "      <td>1</td>\n",
       "      <td>1</td>\n",
       "      <td>1</td>\n",
       "      <td>2013-02-18 22:10:23</td>\n",
       "      <td>gadget</td>\n",
       "    </tr>\n",
       "    <tr>\n",
       "      <th>4</th>\n",
       "      <td>8.0</td>\n",
       "      <td>Hanah Schmidt</td>\n",
       "      <td>2079.0</td>\n",
       "      <td>2013-07-25</td>\n",
       "      <td>2</td>\n",
       "      <td>2</td>\n",
       "      <td>2</td>\n",
       "      <td>2013-02-18 22:10:23</td>\n",
       "      <td>gadget</td>\n",
       "    </tr>\n",
       "  </tbody>\n",
       "</table>\n",
       "</div>"
      ],
      "text/plain": [
       "   user_id           name  item_id  event_time  row_number  rank  dense_rank  \\\n",
       "0      4.0       L Murphy   3924.0  2013-09-04           1     1           1   \n",
       "1      4.0       L Murphy   2712.0  2013-07-05           2     2           2   \n",
       "2      4.0       L Murphy   2248.0  2013-07-03           3     3           3   \n",
       "3      8.0  Hanah Schmidt   2430.0  2013-07-26           1     1           1   \n",
       "4      8.0  Hanah Schmidt   2079.0  2013-07-25           2     2           2   \n",
       "\n",
       "            created_at category  \n",
       "0  2013-03-04 00:06:49   device  \n",
       "1  2013-03-04 00:06:49   dongle  \n",
       "2  2013-03-04 00:06:49   dongle  \n",
       "3  2013-02-18 22:10:23   gadget  \n",
       "4  2013-02-18 22:10:23   gadget  "
      ]
     },
     "execution_count": 79,
     "metadata": {},
     "output_type": "execute_result"
    }
   ],
   "source": [
    "full_recent_view = sq('''SELECT * FROM full_recent_view ''')\n",
    "full_recent_view.head()"
   ]
  },
  {
   "cell_type": "code",
   "execution_count": 80,
   "metadata": {
    "execution": {
     "iopub.execute_input": "2022-06-09T17:47:46.935374Z",
     "iopub.status.busy": "2022-06-09T17:47:46.934693Z",
     "iopub.status.idle": "2022-06-09T17:47:48.550220Z",
     "shell.execute_reply": "2022-06-09T17:47:48.551068Z"
    },
    "papermill": {
     "duration": 1.794041,
     "end_time": "2022-06-09T17:47:48.551280",
     "exception": false,
     "start_time": "2022-06-09T17:47:46.757239",
     "status": "completed"
    },
    "tags": []
   },
   "outputs": [
    {
     "data": {
      "text/html": [
       "<div>\n",
       "<style scoped>\n",
       "    .dataframe tbody tr th:only-of-type {\n",
       "        vertical-align: middle;\n",
       "    }\n",
       "\n",
       "    .dataframe tbody tr th {\n",
       "        vertical-align: top;\n",
       "    }\n",
       "\n",
       "    .dataframe thead th {\n",
       "        text-align: right;\n",
       "    }\n",
       "</style>\n",
       "<table border=\"1\" class=\"dataframe\">\n",
       "  <thead>\n",
       "    <tr style=\"text-align: right;\">\n",
       "      <th></th>\n",
       "      <th>user_id</th>\n",
       "      <th>name</th>\n",
       "      <th>item_id</th>\n",
       "      <th>item_name</th>\n",
       "      <th>event_time</th>\n",
       "      <th>row_number</th>\n",
       "      <th>created_at</th>\n",
       "      <th>category</th>\n",
       "    </tr>\n",
       "  </thead>\n",
       "  <tbody>\n",
       "    <tr>\n",
       "      <th>0</th>\n",
       "      <td>4.0</td>\n",
       "      <td>L Murphy</td>\n",
       "      <td>3924.0</td>\n",
       "      <td>organic device how-to-manual</td>\n",
       "      <td>2013-09-04</td>\n",
       "      <td>1</td>\n",
       "      <td>2013-03-04 00:06:49</td>\n",
       "      <td>device</td>\n",
       "    </tr>\n",
       "    <tr>\n",
       "      <th>1</th>\n",
       "      <td>4.0</td>\n",
       "      <td>L Murphy</td>\n",
       "      <td>2712.0</td>\n",
       "      <td>miniature dongle wrapper</td>\n",
       "      <td>2013-07-05</td>\n",
       "      <td>2</td>\n",
       "      <td>2013-03-04 00:06:49</td>\n",
       "      <td>dongle</td>\n",
       "    </tr>\n",
       "    <tr>\n",
       "      <th>2</th>\n",
       "      <td>4.0</td>\n",
       "      <td>L Murphy</td>\n",
       "      <td>2248.0</td>\n",
       "      <td>dongle warmer</td>\n",
       "      <td>2013-07-03</td>\n",
       "      <td>3</td>\n",
       "      <td>2013-03-04 00:06:49</td>\n",
       "      <td>dongle</td>\n",
       "    </tr>\n",
       "    <tr>\n",
       "      <th>3</th>\n",
       "      <td>8.0</td>\n",
       "      <td>Hanah Schmidt</td>\n",
       "      <td>2430.0</td>\n",
       "      <td>gadget refill</td>\n",
       "      <td>2013-07-26</td>\n",
       "      <td>1</td>\n",
       "      <td>2013-02-18 22:10:23</td>\n",
       "      <td>gadget</td>\n",
       "    </tr>\n",
       "    <tr>\n",
       "      <th>4</th>\n",
       "      <td>8.0</td>\n",
       "      <td>Hanah Schmidt</td>\n",
       "      <td>2079.0</td>\n",
       "      <td>gadget storage_unit</td>\n",
       "      <td>2013-07-25</td>\n",
       "      <td>2</td>\n",
       "      <td>2013-02-18 22:10:23</td>\n",
       "      <td>gadget</td>\n",
       "    </tr>\n",
       "    <tr>\n",
       "      <th>...</th>\n",
       "      <td>...</td>\n",
       "      <td>...</td>\n",
       "      <td>...</td>\n",
       "      <td>...</td>\n",
       "      <td>...</td>\n",
       "      <td>...</td>\n",
       "      <td>...</td>\n",
       "      <td>...</td>\n",
       "    </tr>\n",
       "    <tr>\n",
       "      <th>262781</th>\n",
       "      <td>298552.0</td>\n",
       "      <td>I Sargsyan</td>\n",
       "      <td>275.0</td>\n",
       "      <td>aerodynamic gadget</td>\n",
       "      <td>2018-06-01</td>\n",
       "      <td>1</td>\n",
       "      <td>2018-05-24 21:34:56</td>\n",
       "      <td>gadget</td>\n",
       "    </tr>\n",
       "    <tr>\n",
       "      <th>262782</th>\n",
       "      <td>298817.0</td>\n",
       "      <td>S Miller</td>\n",
       "      <td>931.0</td>\n",
       "      <td>miniature device cleaner</td>\n",
       "      <td>2018-05-28</td>\n",
       "      <td>1</td>\n",
       "      <td>2018-05-29 21:21:09</td>\n",
       "      <td>device</td>\n",
       "    </tr>\n",
       "    <tr>\n",
       "      <th>262783</th>\n",
       "      <td>298817.0</td>\n",
       "      <td>S Miller</td>\n",
       "      <td>3806.0</td>\n",
       "      <td>extra-strength device opener</td>\n",
       "      <td>2018-05-26</td>\n",
       "      <td>2</td>\n",
       "      <td>2018-05-29 21:21:09</td>\n",
       "      <td>device</td>\n",
       "    </tr>\n",
       "    <tr>\n",
       "      <th>262784</th>\n",
       "      <td>298817.0</td>\n",
       "      <td>S Miller</td>\n",
       "      <td>755.0</td>\n",
       "      <td>extra-strength device wrapper</td>\n",
       "      <td>2018-05-26</td>\n",
       "      <td>3</td>\n",
       "      <td>2018-05-29 21:21:09</td>\n",
       "      <td>device</td>\n",
       "    </tr>\n",
       "    <tr>\n",
       "      <th>262785</th>\n",
       "      <td>298832.0</td>\n",
       "      <td>Rebecca Kim</td>\n",
       "      <td>955.0</td>\n",
       "      <td>aerodynamic gadget opener</td>\n",
       "      <td>2018-05-28</td>\n",
       "      <td>1</td>\n",
       "      <td>2018-05-28 22:56:01</td>\n",
       "      <td>gadget</td>\n",
       "    </tr>\n",
       "  </tbody>\n",
       "</table>\n",
       "<p>262786 rows × 8 columns</p>\n",
       "</div>"
      ],
      "text/plain": [
       "         user_id           name  item_id                      item_name  \\\n",
       "0            4.0       L Murphy   3924.0   organic device how-to-manual   \n",
       "1            4.0       L Murphy   2712.0       miniature dongle wrapper   \n",
       "2            4.0       L Murphy   2248.0                  dongle warmer   \n",
       "3            8.0  Hanah Schmidt   2430.0                  gadget refill   \n",
       "4            8.0  Hanah Schmidt   2079.0            gadget storage_unit   \n",
       "...          ...            ...      ...                            ...   \n",
       "262781  298552.0     I Sargsyan    275.0             aerodynamic gadget   \n",
       "262782  298817.0       S Miller    931.0       miniature device cleaner   \n",
       "262783  298817.0       S Miller   3806.0   extra-strength device opener   \n",
       "262784  298817.0       S Miller    755.0  extra-strength device wrapper   \n",
       "262785  298832.0    Rebecca Kim    955.0      aerodynamic gadget opener   \n",
       "\n",
       "        event_time  row_number           created_at category  \n",
       "0       2013-09-04           1  2013-03-04 00:06:49   device  \n",
       "1       2013-07-05           2  2013-03-04 00:06:49   dongle  \n",
       "2       2013-07-03           3  2013-03-04 00:06:49   dongle  \n",
       "3       2013-07-26           1  2013-02-18 22:10:23   gadget  \n",
       "4       2013-07-25           2  2013-02-18 22:10:23   gadget  \n",
       "...            ...         ...                  ...      ...  \n",
       "262781  2018-06-01           1  2018-05-24 21:34:56   gadget  \n",
       "262782  2018-05-28           1  2018-05-29 21:21:09   device  \n",
       "262783  2018-05-26           2  2018-05-29 21:21:09   device  \n",
       "262784  2018-05-26           3  2018-05-29 21:21:09   device  \n",
       "262785  2018-05-28           1  2018-05-28 22:56:01   gadget  \n",
       "\n",
       "[262786 rows x 8 columns]"
      ]
     },
     "execution_count": 80,
     "metadata": {},
     "output_type": "execute_result"
    }
   ],
   "source": [
    "#now we need to get the needed information about the item they viewed more recently.\n",
    "sq('''\n",
    "SELECT u.id AS user_id,\n",
    "  (u.first_name || ' ' || u.last_name) AS name,\n",
    "  i.id AS item_id,\n",
    "  i.name AS item_name,\n",
    "  event_time,\n",
    "  row_number,\n",
    "  u.created_at,\n",
    "  i.category\n",
    "from full_recent_view r\n",
    "JOIN users u\n",
    "  ON u.id = r.user_id\n",
    "JOIN items i\n",
    "  ON i.id = r.item_id\n",
    "''')"
   ]
  },
  {
   "cell_type": "code",
   "execution_count": 81,
   "metadata": {
    "execution": {
     "iopub.execute_input": "2022-06-09T17:47:48.951917Z",
     "iopub.status.busy": "2022-06-09T17:47:48.951251Z",
     "iopub.status.idle": "2022-06-09T17:47:49.576862Z",
     "shell.execute_reply": "2022-06-09T17:47:49.577346Z"
    },
    "papermill": {
     "duration": 0.853717,
     "end_time": "2022-06-09T17:47:49.577549",
     "exception": false,
     "start_time": "2022-06-09T17:47:48.723832",
     "status": "completed"
    },
    "tags": []
   },
   "outputs": [
    {
     "data": {
      "text/plain": [
       "<sqlite3.Cursor at 0x1b1cf43f5e0>"
      ]
     },
     "execution_count": 81,
     "metadata": {},
     "output_type": "execute_result"
    }
   ],
   "source": [
    "#now select the most recently viewed for each user(row_view = 1)\n",
    "c.execute('''\n",
    "CREATE TABLE IF NOT EXISTS 'recent_view_user' AS\n",
    "SELECT\n",
    "  COALESCE(users.parent_user_id, users.id) AS user_id,\n",
    "  (users.first_name || ' ' || users.last_name) AS name,\n",
    "  items.id AS item_id,\n",
    "  items.name AS item_name,\n",
    "  event_time,\n",
    "  users.created_at,\n",
    "  items.category\n",
    "FROM\n",
    "  full_recent_view\n",
    "  JOIN users ON users.id = full_recent_view.user_id\n",
    "  JOIN items ON items.id = full_recent_view.item_id\n",
    "  LEFT JOIN orders\n",
    "  /*LEFT OUTER JOIN to filter the users who viewed and ordered*/\n",
    "  ON orders.item_id = full_recent_view.item_id\n",
    "  AND orders.user_id = full_recent_view.user_id\n",
    "WHERE\n",
    "  row_number = 1\n",
    "  AND users.deleted_at IS NOT NULL\n",
    "  AND orders.item_id IS NULL\n",
    "''')"
   ]
  },
  {
   "cell_type": "code",
   "execution_count": 82,
   "metadata": {
    "execution": {
     "iopub.execute_input": "2022-06-09T17:47:49.931239Z",
     "iopub.status.busy": "2022-06-09T17:47:49.930600Z",
     "iopub.status.idle": "2022-06-09T17:47:49.953584Z",
     "shell.execute_reply": "2022-06-09T17:47:49.954128Z"
    },
    "papermill": {
     "duration": 0.198964,
     "end_time": "2022-06-09T17:47:49.954308",
     "exception": false,
     "start_time": "2022-06-09T17:47:49.755344",
     "status": "completed"
    },
    "tags": []
   },
   "outputs": [
    {
     "data": {
      "text/html": [
       "<div>\n",
       "<style scoped>\n",
       "    .dataframe tbody tr th:only-of-type {\n",
       "        vertical-align: middle;\n",
       "    }\n",
       "\n",
       "    .dataframe tbody tr th {\n",
       "        vertical-align: top;\n",
       "    }\n",
       "\n",
       "    .dataframe thead th {\n",
       "        text-align: right;\n",
       "    }\n",
       "</style>\n",
       "<table border=\"1\" class=\"dataframe\">\n",
       "  <thead>\n",
       "    <tr style=\"text-align: right;\">\n",
       "      <th></th>\n",
       "      <th>user_id</th>\n",
       "      <th>name</th>\n",
       "      <th>item_id</th>\n",
       "      <th>item_name</th>\n",
       "      <th>event_time</th>\n",
       "      <th>created_at</th>\n",
       "      <th>category</th>\n",
       "    </tr>\n",
       "  </thead>\n",
       "  <tbody>\n",
       "    <tr>\n",
       "      <th>0</th>\n",
       "      <td>193669.0</td>\n",
       "      <td>Mary Scientist</td>\n",
       "      <td>2198.0</td>\n",
       "      <td>aerodynamic gadget</td>\n",
       "      <td>2013-10-09</td>\n",
       "      <td>2013-03-25 00:30:21</td>\n",
       "      <td>gadget</td>\n",
       "    </tr>\n",
       "    <tr>\n",
       "      <th>1</th>\n",
       "      <td>214268.0</td>\n",
       "      <td>Santiago Brown</td>\n",
       "      <td>2659.0</td>\n",
       "      <td>matte instrument storage_unit</td>\n",
       "      <td>2013-04-04</td>\n",
       "      <td>2013-03-30 01:20:12</td>\n",
       "      <td>instrument</td>\n",
       "    </tr>\n",
       "    <tr>\n",
       "      <th>2</th>\n",
       "      <td>1033.0</td>\n",
       "      <td>Riya Anand</td>\n",
       "      <td>3271.0</td>\n",
       "      <td>miniature instrument refill</td>\n",
       "      <td>2013-08-11</td>\n",
       "      <td>2013-04-21 00:12:36</td>\n",
       "      <td>instrument</td>\n",
       "    </tr>\n",
       "    <tr>\n",
       "      <th>3</th>\n",
       "      <td>8442.0</td>\n",
       "      <td>R Wilson</td>\n",
       "      <td>3863.0</td>\n",
       "      <td>fuzzy widget cleaner</td>\n",
       "      <td>2013-09-01</td>\n",
       "      <td>2013-05-04 02:39:12</td>\n",
       "      <td>widget</td>\n",
       "    </tr>\n",
       "    <tr>\n",
       "      <th>4</th>\n",
       "      <td>1209.0</td>\n",
       "      <td>S Kruger</td>\n",
       "      <td>334.0</td>\n",
       "      <td>digital widget cleaner</td>\n",
       "      <td>2013-09-28</td>\n",
       "      <td>2013-04-28 10:16:16</td>\n",
       "      <td>widget</td>\n",
       "    </tr>\n",
       "    <tr>\n",
       "      <th>...</th>\n",
       "      <td>...</td>\n",
       "      <td>...</td>\n",
       "      <td>...</td>\n",
       "      <td>...</td>\n",
       "      <td>...</td>\n",
       "      <td>...</td>\n",
       "      <td>...</td>\n",
       "    </tr>\n",
       "    <tr>\n",
       "      <th>1468</th>\n",
       "      <td>273346.0</td>\n",
       "      <td>Katherine Adams</td>\n",
       "      <td>3016.0</td>\n",
       "      <td>glossy dongle wrapper</td>\n",
       "      <td>2018-03-27</td>\n",
       "      <td>2018-02-22 08:37:47</td>\n",
       "      <td>dongle</td>\n",
       "    </tr>\n",
       "    <tr>\n",
       "      <th>1469</th>\n",
       "      <td>276409.0</td>\n",
       "      <td>Noah Ahmad</td>\n",
       "      <td>2410.0</td>\n",
       "      <td>miniature tool warmer</td>\n",
       "      <td>2018-05-08</td>\n",
       "      <td>2018-03-02 17:48:03</td>\n",
       "      <td>tool</td>\n",
       "    </tr>\n",
       "    <tr>\n",
       "      <th>1470</th>\n",
       "      <td>278739.0</td>\n",
       "      <td>A Rodriquez</td>\n",
       "      <td>2002.0</td>\n",
       "      <td>analog mechanism</td>\n",
       "      <td>2018-04-24</td>\n",
       "      <td>2018-03-28 14:36:26</td>\n",
       "      <td>mechanism</td>\n",
       "    </tr>\n",
       "    <tr>\n",
       "      <th>1471</th>\n",
       "      <td>283645.0</td>\n",
       "      <td>Lisa Kim</td>\n",
       "      <td>2469.0</td>\n",
       "      <td>industrial-strength contraption charger</td>\n",
       "      <td>2018-04-21</td>\n",
       "      <td>2018-04-10 21:25:39</td>\n",
       "      <td>contraption</td>\n",
       "    </tr>\n",
       "    <tr>\n",
       "      <th>1472</th>\n",
       "      <td>283778.0</td>\n",
       "      <td>Felipe Mueller</td>\n",
       "      <td>2516.0</td>\n",
       "      <td>analog apparatus storage_unit</td>\n",
       "      <td>2018-05-28</td>\n",
       "      <td>2018-04-05 09:50:24</td>\n",
       "      <td>apparatus</td>\n",
       "    </tr>\n",
       "  </tbody>\n",
       "</table>\n",
       "<p>1473 rows × 7 columns</p>\n",
       "</div>"
      ],
      "text/plain": [
       "       user_id             name  item_id  \\\n",
       "0     193669.0   Mary Scientist   2198.0   \n",
       "1     214268.0   Santiago Brown   2659.0   \n",
       "2       1033.0       Riya Anand   3271.0   \n",
       "3       8442.0         R Wilson   3863.0   \n",
       "4       1209.0         S Kruger    334.0   \n",
       "...        ...              ...      ...   \n",
       "1468  273346.0  Katherine Adams   3016.0   \n",
       "1469  276409.0       Noah Ahmad   2410.0   \n",
       "1470  278739.0      A Rodriquez   2002.0   \n",
       "1471  283645.0         Lisa Kim   2469.0   \n",
       "1472  283778.0   Felipe Mueller   2516.0   \n",
       "\n",
       "                                    item_name  event_time  \\\n",
       "0                          aerodynamic gadget  2013-10-09   \n",
       "1               matte instrument storage_unit  2013-04-04   \n",
       "2                 miniature instrument refill  2013-08-11   \n",
       "3                        fuzzy widget cleaner  2013-09-01   \n",
       "4                      digital widget cleaner  2013-09-28   \n",
       "...                                       ...         ...   \n",
       "1468                    glossy dongle wrapper  2018-03-27   \n",
       "1469                    miniature tool warmer  2018-05-08   \n",
       "1470                         analog mechanism  2018-04-24   \n",
       "1471  industrial-strength contraption charger  2018-04-21   \n",
       "1472            analog apparatus storage_unit  2018-05-28   \n",
       "\n",
       "               created_at     category  \n",
       "0     2013-03-25 00:30:21       gadget  \n",
       "1     2013-03-30 01:20:12   instrument  \n",
       "2     2013-04-21 00:12:36   instrument  \n",
       "3     2013-05-04 02:39:12       widget  \n",
       "4     2013-04-28 10:16:16       widget  \n",
       "...                   ...          ...  \n",
       "1468  2018-02-22 08:37:47       dongle  \n",
       "1469  2018-03-02 17:48:03         tool  \n",
       "1470  2018-03-28 14:36:26    mechanism  \n",
       "1471  2018-04-10 21:25:39  contraption  \n",
       "1472  2018-04-05 09:50:24    apparatus  \n",
       "\n",
       "[1473 rows x 7 columns]"
      ]
     },
     "execution_count": 82,
     "metadata": {},
     "output_type": "execute_result"
    }
   ],
   "source": [
    "sq('''\n",
    "SELECT * FROM recent_view_user \n",
    "''')"
   ]
  },
  {
   "cell_type": "markdown",
   "metadata": {
    "papermill": {
     "duration": 0.170469,
     "end_time": "2022-06-09T17:47:50.300947",
     "exception": false,
     "start_time": "2022-06-09T17:47:50.130478",
     "status": "completed"
    },
    "tags": []
   },
   "source": [
    "<a id=\"q15\"></a>\n",
    "<h3>How long ago was their most recent view?</h3>"
   ]
  },
  {
   "cell_type": "code",
   "execution_count": 83,
   "metadata": {
    "execution": {
     "iopub.execute_input": "2022-06-09T17:47:50.652268Z",
     "iopub.status.busy": "2022-06-09T17:47:50.651595Z",
     "iopub.status.idle": "2022-06-09T17:47:50.678493Z",
     "shell.execute_reply": "2022-06-09T17:47:50.678989Z"
    },
    "papermill": {
     "duration": 0.204024,
     "end_time": "2022-06-09T17:47:50.679168",
     "exception": false,
     "start_time": "2022-06-09T17:47:50.475144",
     "status": "completed"
    },
    "tags": []
   },
   "outputs": [
    {
     "data": {
      "text/html": [
       "<div>\n",
       "<style scoped>\n",
       "    .dataframe tbody tr th:only-of-type {\n",
       "        vertical-align: middle;\n",
       "    }\n",
       "\n",
       "    .dataframe tbody tr th {\n",
       "        vertical-align: top;\n",
       "    }\n",
       "\n",
       "    .dataframe thead th {\n",
       "        text-align: right;\n",
       "    }\n",
       "</style>\n",
       "<table border=\"1\" class=\"dataframe\">\n",
       "  <thead>\n",
       "    <tr style=\"text-align: right;\">\n",
       "      <th></th>\n",
       "      <th>User Id</th>\n",
       "      <th>Name</th>\n",
       "      <th>Item Id</th>\n",
       "      <th>Item Name</th>\n",
       "      <th>Event Time</th>\n",
       "      <th>Created At</th>\n",
       "      <th>Category</th>\n",
       "      <th>Date Difference</th>\n",
       "    </tr>\n",
       "  </thead>\n",
       "  <tbody>\n",
       "    <tr>\n",
       "      <th>0</th>\n",
       "      <td>193669.0</td>\n",
       "      <td>Mary Scientist</td>\n",
       "      <td>2198.0</td>\n",
       "      <td>aerodynamic gadget</td>\n",
       "      <td>2013-10-09</td>\n",
       "      <td>2013-03-25 00:30:21</td>\n",
       "      <td>gadget</td>\n",
       "      <td>9</td>\n",
       "    </tr>\n",
       "    <tr>\n",
       "      <th>1</th>\n",
       "      <td>214268.0</td>\n",
       "      <td>Santiago Brown</td>\n",
       "      <td>2659.0</td>\n",
       "      <td>matte instrument storage_unit</td>\n",
       "      <td>2013-04-04</td>\n",
       "      <td>2013-03-30 01:20:12</td>\n",
       "      <td>instrument</td>\n",
       "      <td>9</td>\n",
       "    </tr>\n",
       "    <tr>\n",
       "      <th>2</th>\n",
       "      <td>1033.0</td>\n",
       "      <td>Riya Anand</td>\n",
       "      <td>3271.0</td>\n",
       "      <td>miniature instrument refill</td>\n",
       "      <td>2013-08-11</td>\n",
       "      <td>2013-04-21 00:12:36</td>\n",
       "      <td>instrument</td>\n",
       "      <td>9</td>\n",
       "    </tr>\n",
       "    <tr>\n",
       "      <th>3</th>\n",
       "      <td>8442.0</td>\n",
       "      <td>R Wilson</td>\n",
       "      <td>3863.0</td>\n",
       "      <td>fuzzy widget cleaner</td>\n",
       "      <td>2013-09-01</td>\n",
       "      <td>2013-05-04 02:39:12</td>\n",
       "      <td>widget</td>\n",
       "      <td>9</td>\n",
       "    </tr>\n",
       "    <tr>\n",
       "      <th>4</th>\n",
       "      <td>1209.0</td>\n",
       "      <td>S Kruger</td>\n",
       "      <td>334.0</td>\n",
       "      <td>digital widget cleaner</td>\n",
       "      <td>2013-09-28</td>\n",
       "      <td>2013-04-28 10:16:16</td>\n",
       "      <td>widget</td>\n",
       "      <td>9</td>\n",
       "    </tr>\n",
       "    <tr>\n",
       "      <th>...</th>\n",
       "      <td>...</td>\n",
       "      <td>...</td>\n",
       "      <td>...</td>\n",
       "      <td>...</td>\n",
       "      <td>...</td>\n",
       "      <td>...</td>\n",
       "      <td>...</td>\n",
       "      <td>...</td>\n",
       "    </tr>\n",
       "    <tr>\n",
       "      <th>1468</th>\n",
       "      <td>273346.0</td>\n",
       "      <td>Katherine Adams</td>\n",
       "      <td>3016.0</td>\n",
       "      <td>glossy dongle wrapper</td>\n",
       "      <td>2018-03-27</td>\n",
       "      <td>2018-02-22 08:37:47</td>\n",
       "      <td>dongle</td>\n",
       "      <td>4</td>\n",
       "    </tr>\n",
       "    <tr>\n",
       "      <th>1469</th>\n",
       "      <td>276409.0</td>\n",
       "      <td>Noah Ahmad</td>\n",
       "      <td>2410.0</td>\n",
       "      <td>miniature tool warmer</td>\n",
       "      <td>2018-05-08</td>\n",
       "      <td>2018-03-02 17:48:03</td>\n",
       "      <td>tool</td>\n",
       "      <td>4</td>\n",
       "    </tr>\n",
       "    <tr>\n",
       "      <th>1470</th>\n",
       "      <td>278739.0</td>\n",
       "      <td>A Rodriquez</td>\n",
       "      <td>2002.0</td>\n",
       "      <td>analog mechanism</td>\n",
       "      <td>2018-04-24</td>\n",
       "      <td>2018-03-28 14:36:26</td>\n",
       "      <td>mechanism</td>\n",
       "      <td>4</td>\n",
       "    </tr>\n",
       "    <tr>\n",
       "      <th>1471</th>\n",
       "      <td>283645.0</td>\n",
       "      <td>Lisa Kim</td>\n",
       "      <td>2469.0</td>\n",
       "      <td>industrial-strength contraption charger</td>\n",
       "      <td>2018-04-21</td>\n",
       "      <td>2018-04-10 21:25:39</td>\n",
       "      <td>contraption</td>\n",
       "      <td>4</td>\n",
       "    </tr>\n",
       "    <tr>\n",
       "      <th>1472</th>\n",
       "      <td>283778.0</td>\n",
       "      <td>Felipe Mueller</td>\n",
       "      <td>2516.0</td>\n",
       "      <td>analog apparatus storage_unit</td>\n",
       "      <td>2018-05-28</td>\n",
       "      <td>2018-04-05 09:50:24</td>\n",
       "      <td>apparatus</td>\n",
       "      <td>4</td>\n",
       "    </tr>\n",
       "  </tbody>\n",
       "</table>\n",
       "<p>1473 rows × 8 columns</p>\n",
       "</div>"
      ],
      "text/plain": [
       "       User Id             Name  Item Id  \\\n",
       "0     193669.0   Mary Scientist   2198.0   \n",
       "1     214268.0   Santiago Brown   2659.0   \n",
       "2       1033.0       Riya Anand   3271.0   \n",
       "3       8442.0         R Wilson   3863.0   \n",
       "4       1209.0         S Kruger    334.0   \n",
       "...        ...              ...      ...   \n",
       "1468  273346.0  Katherine Adams   3016.0   \n",
       "1469  276409.0       Noah Ahmad   2410.0   \n",
       "1470  278739.0      A Rodriquez   2002.0   \n",
       "1471  283645.0         Lisa Kim   2469.0   \n",
       "1472  283778.0   Felipe Mueller   2516.0   \n",
       "\n",
       "                                    Item Name  Event Time  \\\n",
       "0                          aerodynamic gadget  2013-10-09   \n",
       "1               matte instrument storage_unit  2013-04-04   \n",
       "2                 miniature instrument refill  2013-08-11   \n",
       "3                        fuzzy widget cleaner  2013-09-01   \n",
       "4                      digital widget cleaner  2013-09-28   \n",
       "...                                       ...         ...   \n",
       "1468                    glossy dongle wrapper  2018-03-27   \n",
       "1469                    miniature tool warmer  2018-05-08   \n",
       "1470                         analog mechanism  2018-04-24   \n",
       "1471  industrial-strength contraption charger  2018-04-21   \n",
       "1472            analog apparatus storage_unit  2018-05-28   \n",
       "\n",
       "               Created At     Category  Date Difference  \n",
       "0     2013-03-25 00:30:21       gadget                9  \n",
       "1     2013-03-30 01:20:12   instrument                9  \n",
       "2     2013-04-21 00:12:36   instrument                9  \n",
       "3     2013-05-04 02:39:12       widget                9  \n",
       "4     2013-04-28 10:16:16       widget                9  \n",
       "...                   ...          ...              ...  \n",
       "1468  2018-02-22 08:37:47       dongle                4  \n",
       "1469  2018-03-02 17:48:03         tool                4  \n",
       "1470  2018-03-28 14:36:26    mechanism                4  \n",
       "1471  2018-04-10 21:25:39  contraption                4  \n",
       "1472  2018-04-05 09:50:24    apparatus                4  \n",
       "\n",
       "[1473 rows x 8 columns]"
      ]
     },
     "execution_count": 83,
     "metadata": {},
     "output_type": "execute_result"
    }
   ],
   "source": [
    "sq1('''\n",
    "SELECT\n",
    "  recent_view_user.*,\n",
    "(DATETIME('now') - DATETIME(created_at)) AS date_difference\n",
    "FROM\n",
    "  recent_view_user\n",
    "''')"
   ]
  },
  {
   "cell_type": "markdown",
   "metadata": {
    "papermill": {
     "duration": 0.17671,
     "end_time": "2022-06-09T17:47:51.029425",
     "exception": false,
     "start_time": "2022-06-09T17:47:50.852715",
     "status": "completed"
    },
    "tags": []
   },
   "source": [
    "<a id=\"16\"></a>\n",
    "<h3>How many users have reordered an item?</h3>"
   ]
  },
  {
   "cell_type": "code",
   "execution_count": 84,
   "metadata": {
    "execution": {
     "iopub.execute_input": "2022-06-09T17:47:51.383396Z",
     "iopub.status.busy": "2022-06-09T17:47:51.382682Z",
     "iopub.status.idle": "2022-06-09T17:47:51.433234Z",
     "shell.execute_reply": "2022-06-09T17:47:51.433673Z"
    },
    "papermill": {
     "duration": 0.228367,
     "end_time": "2022-06-09T17:47:51.433853",
     "exception": false,
     "start_time": "2022-06-09T17:47:51.205486",
     "status": "completed"
    },
    "tags": []
   },
   "outputs": [
    {
     "data": {
      "text/html": [
       "<div>\n",
       "<style scoped>\n",
       "    .dataframe tbody tr th:only-of-type {\n",
       "        vertical-align: middle;\n",
       "    }\n",
       "\n",
       "    .dataframe tbody tr th {\n",
       "        vertical-align: top;\n",
       "    }\n",
       "\n",
       "    .dataframe thead th {\n",
       "        text-align: right;\n",
       "    }\n",
       "</style>\n",
       "<table border=\"1\" class=\"dataframe\">\n",
       "  <thead>\n",
       "    <tr style=\"text-align: right;\">\n",
       "      <th></th>\n",
       "      <th>Users Re Ordered</th>\n",
       "    </tr>\n",
       "  </thead>\n",
       "  <tbody>\n",
       "    <tr>\n",
       "      <th>0</th>\n",
       "      <td>1421</td>\n",
       "    </tr>\n",
       "  </tbody>\n",
       "</table>\n",
       "</div>"
      ],
      "text/plain": [
       "   Users Re Ordered\n",
       "0              1421"
      ]
     },
     "execution_count": 84,
     "metadata": {},
     "output_type": "execute_result"
    }
   ],
   "source": [
    "sq1('''\n",
    "SELECT COUNT(DISTINCT user_id) as users_re_ordered\n",
    "FROM\n",
    "  ( SELECT user_id,\n",
    "           COUNT(DISTINCT invoice_id) AS order_count\n",
    "   FROM orders\n",
    "   GROUP BY user_id ) user_level\n",
    "WHERE order_count > 1;\n",
    "''')"
   ]
  },
  {
   "cell_type": "markdown",
   "metadata": {
    "papermill": {
     "duration": 0.173711,
     "end_time": "2022-06-09T17:47:51.780302",
     "exception": false,
     "start_time": "2022-06-09T17:47:51.606591",
     "status": "completed"
    },
    "tags": []
   },
   "source": [
    "<a id=\"q17\"></a>\n",
    "<h3>How many users have reordered the same item?</h3>"
   ]
  },
  {
   "cell_type": "code",
   "execution_count": 85,
   "metadata": {
    "execution": {
     "iopub.execute_input": "2022-06-09T17:47:52.147386Z",
     "iopub.status.busy": "2022-06-09T17:47:52.146328Z",
     "iopub.status.idle": "2022-06-09T17:47:52.217634Z",
     "shell.execute_reply": "2022-06-09T17:47:52.218177Z"
    },
    "papermill": {
     "duration": 0.262497,
     "end_time": "2022-06-09T17:47:52.218363",
     "exception": false,
     "start_time": "2022-06-09T17:47:51.955866",
     "status": "completed"
    },
    "tags": []
   },
   "outputs": [
    {
     "data": {
      "text/html": [
       "<div>\n",
       "<style scoped>\n",
       "    .dataframe tbody tr th:only-of-type {\n",
       "        vertical-align: middle;\n",
       "    }\n",
       "\n",
       "    .dataframe tbody tr th {\n",
       "        vertical-align: top;\n",
       "    }\n",
       "\n",
       "    .dataframe thead th {\n",
       "        text-align: right;\n",
       "    }\n",
       "</style>\n",
       "<table border=\"1\" class=\"dataframe\">\n",
       "  <thead>\n",
       "    <tr style=\"text-align: right;\">\n",
       "      <th></th>\n",
       "      <th>Re Order The Same Item</th>\n",
       "    </tr>\n",
       "  </thead>\n",
       "  <tbody>\n",
       "    <tr>\n",
       "      <th>0</th>\n",
       "      <td>211</td>\n",
       "    </tr>\n",
       "  </tbody>\n",
       "</table>\n",
       "</div>"
      ],
      "text/plain": [
       "   Re Order The Same Item\n",
       "0                     211"
      ]
     },
     "execution_count": 85,
     "metadata": {},
     "output_type": "execute_result"
    }
   ],
   "source": [
    "sq1('''\n",
    "SELECT\n",
    "  COUNT(*) as re_order_the_same_item\n",
    "FROM\n",
    "  (\n",
    "    SELECT\n",
    "      user_id,\n",
    "      item_id,\n",
    "      COUNT (DISTINCT line_item_id) AS times_user_ordered\n",
    "    FROM\n",
    "      orders\n",
    "    GROUP BY\n",
    "      user_id,\n",
    "      item_id\n",
    "  )\n",
    "WHERE\n",
    "  times_user_ordered > 1;\n",
    "''')"
   ]
  },
  {
   "cell_type": "markdown",
   "metadata": {
    "papermill": {
     "duration": 0.216476,
     "end_time": "2022-06-09T17:47:52.609082",
     "exception": false,
     "start_time": "2022-06-09T17:47:52.392606",
     "status": "completed"
    },
    "tags": []
   },
   "source": [
    "<a id=\"q18\"></a>\n",
    "<h3>How many orders per items?</h3>"
   ]
  },
  {
   "cell_type": "code",
   "execution_count": 86,
   "metadata": {
    "execution": {
     "iopub.execute_input": "2022-06-09T17:47:52.963180Z",
     "iopub.status.busy": "2022-06-09T17:47:52.962080Z",
     "iopub.status.idle": "2022-06-09T17:47:53.024597Z",
     "shell.execute_reply": "2022-06-09T17:47:53.024098Z"
    },
    "papermill": {
     "duration": 0.240807,
     "end_time": "2022-06-09T17:47:53.024747",
     "exception": false,
     "start_time": "2022-06-09T17:47:52.783940",
     "status": "completed"
    },
    "tags": []
   },
   "outputs": [
    {
     "data": {
      "text/html": [
       "<div>\n",
       "<style scoped>\n",
       "    .dataframe tbody tr th:only-of-type {\n",
       "        vertical-align: middle;\n",
       "    }\n",
       "\n",
       "    .dataframe tbody tr th {\n",
       "        vertical-align: top;\n",
       "    }\n",
       "\n",
       "    .dataframe thead th {\n",
       "        text-align: right;\n",
       "    }\n",
       "</style>\n",
       "<table border=\"1\" class=\"dataframe\">\n",
       "  <thead>\n",
       "    <tr style=\"text-align: right;\">\n",
       "      <th></th>\n",
       "      <th>Item Id</th>\n",
       "      <th>Name</th>\n",
       "      <th>Category</th>\n",
       "      <th>Orders Count</th>\n",
       "    </tr>\n",
       "  </thead>\n",
       "  <tbody>\n",
       "    <tr>\n",
       "      <th>0</th>\n",
       "      <td>3486.0</td>\n",
       "      <td>extra-strength tool opener</td>\n",
       "      <td>tool</td>\n",
       "      <td>40</td>\n",
       "    </tr>\n",
       "    <tr>\n",
       "      <th>1</th>\n",
       "      <td>1679.0</td>\n",
       "      <td>matte apparatus wrapper</td>\n",
       "      <td>apparatus</td>\n",
       "      <td>39</td>\n",
       "    </tr>\n",
       "    <tr>\n",
       "      <th>2</th>\n",
       "      <td>1119.0</td>\n",
       "      <td>rechargable apparatus carrying_case</td>\n",
       "      <td>apparatus</td>\n",
       "      <td>38</td>\n",
       "    </tr>\n",
       "    <tr>\n",
       "      <th>3</th>\n",
       "      <td>1812.0</td>\n",
       "      <td>analog gadget cleaner</td>\n",
       "      <td>gadget</td>\n",
       "      <td>37</td>\n",
       "    </tr>\n",
       "    <tr>\n",
       "      <th>4</th>\n",
       "      <td>730.0</td>\n",
       "      <td>organic apparatus carrying_case</td>\n",
       "      <td>apparatus</td>\n",
       "      <td>36</td>\n",
       "    </tr>\n",
       "    <tr>\n",
       "      <th>...</th>\n",
       "      <td>...</td>\n",
       "      <td>...</td>\n",
       "      <td>...</td>\n",
       "      <td>...</td>\n",
       "    </tr>\n",
       "    <tr>\n",
       "      <th>2193</th>\n",
       "      <td>3946.0</td>\n",
       "      <td>aerodynamic mechanism storage_unit</td>\n",
       "      <td>mechanism</td>\n",
       "      <td>10</td>\n",
       "    </tr>\n",
       "    <tr>\n",
       "      <th>2194</th>\n",
       "      <td>1034.0</td>\n",
       "      <td>reflective dongle</td>\n",
       "      <td>dongle</td>\n",
       "      <td>9</td>\n",
       "    </tr>\n",
       "    <tr>\n",
       "      <th>2195</th>\n",
       "      <td>2677.0</td>\n",
       "      <td>organic instrument storage_unit</td>\n",
       "      <td>instrument</td>\n",
       "      <td>9</td>\n",
       "    </tr>\n",
       "    <tr>\n",
       "      <th>2196</th>\n",
       "      <td>2846.0</td>\n",
       "      <td>prize-winning gadget carrying_case</td>\n",
       "      <td>gadget</td>\n",
       "      <td>9</td>\n",
       "    </tr>\n",
       "    <tr>\n",
       "      <th>2197</th>\n",
       "      <td>3898.0</td>\n",
       "      <td>reflective instrument</td>\n",
       "      <td>instrument</td>\n",
       "      <td>9</td>\n",
       "    </tr>\n",
       "  </tbody>\n",
       "</table>\n",
       "<p>2198 rows × 4 columns</p>\n",
       "</div>"
      ],
      "text/plain": [
       "      Item Id                                 Name    Category  Orders Count\n",
       "0      3486.0           extra-strength tool opener        tool            40\n",
       "1      1679.0              matte apparatus wrapper   apparatus            39\n",
       "2      1119.0  rechargable apparatus carrying_case   apparatus            38\n",
       "3      1812.0                analog gadget cleaner      gadget            37\n",
       "4       730.0      organic apparatus carrying_case   apparatus            36\n",
       "...       ...                                  ...         ...           ...\n",
       "2193   3946.0   aerodynamic mechanism storage_unit   mechanism            10\n",
       "2194   1034.0                    reflective dongle      dongle             9\n",
       "2195   2677.0      organic instrument storage_unit  instrument             9\n",
       "2196   2846.0   prize-winning gadget carrying_case      gadget             9\n",
       "2197   3898.0                reflective instrument  instrument             9\n",
       "\n",
       "[2198 rows x 4 columns]"
      ]
     },
     "execution_count": 86,
     "metadata": {},
     "output_type": "execute_result"
    }
   ],
   "source": [
    "sq1('''\n",
    "SELECT\n",
    "  item_id,\n",
    "  name,\n",
    "  category,\n",
    "  orders_count\n",
    "FROM\n",
    "  (\n",
    "    SELECT\n",
    "      item_id,\n",
    "      count(invoice_id) orders_count\n",
    "    FROM\n",
    "      orders\n",
    "    GROUP BY\n",
    "      item_id\n",
    "  ) AS orders\n",
    "  LEFT JOIN items ON items.id = orders.item_id\n",
    "ORDER BY\n",
    "  Orders_Count DESC\n",
    "''')"
   ]
  },
  {
   "cell_type": "markdown",
   "metadata": {
    "papermill": {
     "duration": 0.171426,
     "end_time": "2022-06-09T17:47:53.371479",
     "exception": false,
     "start_time": "2022-06-09T17:47:53.200053",
     "status": "completed"
    },
    "tags": []
   },
   "source": [
    "<a id=\"q19\"></a>\n",
    "<h3>How many orders per category?</h3>"
   ]
  },
  {
   "cell_type": "code",
   "execution_count": 87,
   "metadata": {
    "execution": {
     "iopub.execute_input": "2022-06-09T17:47:53.755328Z",
     "iopub.status.busy": "2022-06-09T17:47:53.754579Z",
     "iopub.status.idle": "2022-06-09T17:47:53.806838Z",
     "shell.execute_reply": "2022-06-09T17:47:53.806205Z"
    },
    "papermill": {
     "duration": 0.260968,
     "end_time": "2022-06-09T17:47:53.807035",
     "exception": false,
     "start_time": "2022-06-09T17:47:53.546067",
     "status": "completed"
    },
    "tags": []
   },
   "outputs": [
    {
     "data": {
      "text/html": [
       "<div>\n",
       "<style scoped>\n",
       "    .dataframe tbody tr th:only-of-type {\n",
       "        vertical-align: middle;\n",
       "    }\n",
       "\n",
       "    .dataframe tbody tr th {\n",
       "        vertical-align: top;\n",
       "    }\n",
       "\n",
       "    .dataframe thead th {\n",
       "        text-align: right;\n",
       "    }\n",
       "</style>\n",
       "<table border=\"1\" class=\"dataframe\">\n",
       "  <thead>\n",
       "    <tr style=\"text-align: right;\">\n",
       "      <th></th>\n",
       "      <th>Category</th>\n",
       "      <th>Orders By Category</th>\n",
       "    </tr>\n",
       "  </thead>\n",
       "  <tbody>\n",
       "    <tr>\n",
       "      <th>0</th>\n",
       "      <td>apparatus</td>\n",
       "      <td>4892</td>\n",
       "    </tr>\n",
       "    <tr>\n",
       "      <th>1</th>\n",
       "      <td>widget</td>\n",
       "      <td>4809</td>\n",
       "    </tr>\n",
       "    <tr>\n",
       "      <th>2</th>\n",
       "      <td>module</td>\n",
       "      <td>4800</td>\n",
       "    </tr>\n",
       "    <tr>\n",
       "      <th>3</th>\n",
       "      <td>instrument</td>\n",
       "      <td>4767</td>\n",
       "    </tr>\n",
       "    <tr>\n",
       "      <th>4</th>\n",
       "      <td>device</td>\n",
       "      <td>4735</td>\n",
       "    </tr>\n",
       "    <tr>\n",
       "      <th>5</th>\n",
       "      <td>mechanism</td>\n",
       "      <td>4706</td>\n",
       "    </tr>\n",
       "    <tr>\n",
       "      <th>6</th>\n",
       "      <td>contraption</td>\n",
       "      <td>4700</td>\n",
       "    </tr>\n",
       "    <tr>\n",
       "      <th>7</th>\n",
       "      <td>gadget</td>\n",
       "      <td>4695</td>\n",
       "    </tr>\n",
       "    <tr>\n",
       "      <th>8</th>\n",
       "      <td>dongle</td>\n",
       "      <td>4665</td>\n",
       "    </tr>\n",
       "    <tr>\n",
       "      <th>9</th>\n",
       "      <td>tool</td>\n",
       "      <td>4633</td>\n",
       "    </tr>\n",
       "  </tbody>\n",
       "</table>\n",
       "</div>"
      ],
      "text/plain": [
       "      Category  Orders By Category\n",
       "0    apparatus                4892\n",
       "1       widget                4809\n",
       "2       module                4800\n",
       "3   instrument                4767\n",
       "4       device                4735\n",
       "5    mechanism                4706\n",
       "6  contraption                4700\n",
       "7       gadget                4695\n",
       "8       dongle                4665\n",
       "9         tool                4633"
      ]
     },
     "execution_count": 87,
     "metadata": {},
     "output_type": "execute_result"
    }
   ],
   "source": [
    "sq1('''\n",
    "SELECT\n",
    "  category,\n",
    "  count(*) AS orders_by_category\n",
    "FROM\n",
    "  orders\n",
    "  LEFT JOIN items ON items.id = orders.item_id\n",
    "GROUP BY\n",
    "  category\n",
    "ORDER BY\n",
    "  orders_by_category DESC;\n",
    "''')"
   ]
  },
  {
   "cell_type": "code",
   "execution_count": 88,
   "metadata": {
    "execution": {
     "iopub.execute_input": "2022-06-09T17:47:54.170777Z",
     "iopub.status.busy": "2022-06-09T17:47:54.170152Z",
     "iopub.status.idle": "2022-06-09T17:47:54.245107Z",
     "shell.execute_reply": "2022-06-09T17:47:54.244569Z"
    },
    "papermill": {
     "duration": 0.257095,
     "end_time": "2022-06-09T17:47:54.245272",
     "exception": false,
     "start_time": "2022-06-09T17:47:53.988177",
     "status": "completed"
    },
    "tags": []
   },
   "outputs": [
    {
     "data": {
      "text/html": [
       "<div>\n",
       "<style scoped>\n",
       "    .dataframe tbody tr th:only-of-type {\n",
       "        vertical-align: middle;\n",
       "    }\n",
       "\n",
       "    .dataframe tbody tr th {\n",
       "        vertical-align: top;\n",
       "    }\n",
       "\n",
       "    .dataframe thead th {\n",
       "        text-align: right;\n",
       "    }\n",
       "</style>\n",
       "<table border=\"1\" class=\"dataframe\">\n",
       "  <thead>\n",
       "    <tr style=\"text-align: right;\">\n",
       "      <th></th>\n",
       "      <th>Category Count</th>\n",
       "    </tr>\n",
       "  </thead>\n",
       "  <tbody>\n",
       "    <tr>\n",
       "      <th>apparatus</th>\n",
       "      <td>4892</td>\n",
       "    </tr>\n",
       "    <tr>\n",
       "      <th>widget</th>\n",
       "      <td>4809</td>\n",
       "    </tr>\n",
       "    <tr>\n",
       "      <th>module</th>\n",
       "      <td>4800</td>\n",
       "    </tr>\n",
       "    <tr>\n",
       "      <th>instrument</th>\n",
       "      <td>4767</td>\n",
       "    </tr>\n",
       "    <tr>\n",
       "      <th>device</th>\n",
       "      <td>4735</td>\n",
       "    </tr>\n",
       "    <tr>\n",
       "      <th>mechanism</th>\n",
       "      <td>4706</td>\n",
       "    </tr>\n",
       "    <tr>\n",
       "      <th>contraption</th>\n",
       "      <td>4700</td>\n",
       "    </tr>\n",
       "    <tr>\n",
       "      <th>gadget</th>\n",
       "      <td>4695</td>\n",
       "    </tr>\n",
       "    <tr>\n",
       "      <th>dongle</th>\n",
       "      <td>4665</td>\n",
       "    </tr>\n",
       "    <tr>\n",
       "      <th>tool</th>\n",
       "      <td>4633</td>\n",
       "    </tr>\n",
       "  </tbody>\n",
       "</table>\n",
       "</div>"
      ],
      "text/plain": [
       "             Category Count\n",
       "apparatus              4892\n",
       "widget                 4809\n",
       "module                 4800\n",
       "instrument             4767\n",
       "device                 4735\n",
       "mechanism              4706\n",
       "contraption            4700\n",
       "gadget                 4695\n",
       "dongle                 4665\n",
       "tool                   4633"
      ]
     },
     "execution_count": 88,
     "metadata": {},
     "output_type": "execute_result"
    }
   ],
   "source": [
    "#lets try the previous example with pandas \n",
    "temp = orders.set_index('item_id').join(items.set_index('id'),how='left',lsuffix='_caller', rsuffix='_other')\n",
    "temp['category'].value_counts().to_frame().rename(columns={'category':'Category Count'})"
   ]
  },
  {
   "cell_type": "markdown",
   "metadata": {
    "papermill": {
     "duration": 0.17537,
     "end_time": "2022-06-09T17:47:54.600203",
     "exception": false,
     "start_time": "2022-06-09T17:47:54.424833",
     "status": "completed"
    },
    "tags": []
   },
   "source": [
    "<a id=\"q20\"></a>\n",
    "<h3>What is the avgerage times each category has ordered?</h3>"
   ]
  },
  {
   "cell_type": "code",
   "execution_count": 89,
   "metadata": {
    "execution": {
     "iopub.execute_input": "2022-06-09T17:47:54.964213Z",
     "iopub.status.busy": "2022-06-09T17:47:54.963557Z",
     "iopub.status.idle": "2022-06-09T17:47:55.046495Z",
     "shell.execute_reply": "2022-06-09T17:47:55.045999Z"
    },
    "papermill": {
     "duration": 0.264292,
     "end_time": "2022-06-09T17:47:55.046648",
     "exception": false,
     "start_time": "2022-06-09T17:47:54.782356",
     "status": "completed"
    },
    "tags": []
   },
   "outputs": [
    {
     "data": {
      "text/html": [
       "<div>\n",
       "<style scoped>\n",
       "    .dataframe tbody tr th:only-of-type {\n",
       "        vertical-align: middle;\n",
       "    }\n",
       "\n",
       "    .dataframe tbody tr th {\n",
       "        vertical-align: top;\n",
       "    }\n",
       "\n",
       "    .dataframe thead th {\n",
       "        text-align: right;\n",
       "    }\n",
       "</style>\n",
       "<table border=\"1\" class=\"dataframe\">\n",
       "  <thead>\n",
       "    <tr style=\"text-align: right;\">\n",
       "      <th></th>\n",
       "      <th>item_category</th>\n",
       "      <th>avg_times_category_ordered</th>\n",
       "    </tr>\n",
       "  </thead>\n",
       "  <tbody>\n",
       "    <tr>\n",
       "      <th>0</th>\n",
       "      <td>apparatus</td>\n",
       "      <td>2.412229</td>\n",
       "    </tr>\n",
       "    <tr>\n",
       "      <th>1</th>\n",
       "      <td>contraption</td>\n",
       "      <td>2.339472</td>\n",
       "    </tr>\n",
       "    <tr>\n",
       "      <th>2</th>\n",
       "      <td>device</td>\n",
       "      <td>2.373434</td>\n",
       "    </tr>\n",
       "    <tr>\n",
       "      <th>3</th>\n",
       "      <td>dongle</td>\n",
       "      <td>2.376465</td>\n",
       "    </tr>\n",
       "    <tr>\n",
       "      <th>4</th>\n",
       "      <td>gadget</td>\n",
       "      <td>2.372410</td>\n",
       "    </tr>\n",
       "    <tr>\n",
       "      <th>5</th>\n",
       "      <td>instrument</td>\n",
       "      <td>2.384692</td>\n",
       "    </tr>\n",
       "    <tr>\n",
       "      <th>6</th>\n",
       "      <td>mechanism</td>\n",
       "      <td>2.374369</td>\n",
       "    </tr>\n",
       "    <tr>\n",
       "      <th>7</th>\n",
       "      <td>module</td>\n",
       "      <td>2.400000</td>\n",
       "    </tr>\n",
       "    <tr>\n",
       "      <th>8</th>\n",
       "      <td>tool</td>\n",
       "      <td>2.350583</td>\n",
       "    </tr>\n",
       "    <tr>\n",
       "      <th>9</th>\n",
       "      <td>widget</td>\n",
       "      <td>2.385417</td>\n",
       "    </tr>\n",
       "  </tbody>\n",
       "</table>\n",
       "</div>"
      ],
      "text/plain": [
       "  item_category  avg_times_category_ordered\n",
       "0     apparatus                    2.412229\n",
       "1   contraption                    2.339472\n",
       "2        device                    2.373434\n",
       "3        dongle                    2.376465\n",
       "4        gadget                    2.372410\n",
       "5    instrument                    2.384692\n",
       "6     mechanism                    2.374369\n",
       "7        module                    2.400000\n",
       "8          tool                    2.350583\n",
       "9        widget                    2.385417"
      ]
     },
     "execution_count": 89,
     "metadata": {},
     "output_type": "execute_result"
    }
   ],
   "source": [
    "sq('''\n",
    "SELECT item_category,\n",
    "  AVG(times_category_ordered) AS avg_times_category_ordered\n",
    "FROM\n",
    "  (SELECT user_id,\n",
    "          item_category,\n",
    "          COUNT(DISTINCT line_item_id) AS times_category_ordered\n",
    "   FROM orders\n",
    "   GROUP BY user_id,\n",
    "            item_category) user_level\n",
    "GROUP BY item_category\n",
    "''')"
   ]
  },
  {
   "cell_type": "markdown",
   "metadata": {
    "papermill": {
     "duration": 0.174551,
     "end_time": "2022-06-09T17:47:55.401080",
     "exception": false,
     "start_time": "2022-06-09T17:47:55.226529",
     "status": "completed"
    },
    "tags": []
   },
   "source": [
    "<a id=\"q21\"></a>\n",
    "<h3>What is the average time between orders?</h3>"
   ]
  },
  {
   "cell_type": "code",
   "execution_count": 90,
   "metadata": {
    "execution": {
     "iopub.execute_input": "2022-06-09T17:47:55.757851Z",
     "iopub.status.busy": "2022-06-09T17:47:55.757208Z",
     "iopub.status.idle": "2022-06-09T17:47:56.075564Z",
     "shell.execute_reply": "2022-06-09T17:47:56.074964Z"
    },
    "papermill": {
     "duration": 0.496668,
     "end_time": "2022-06-09T17:47:56.075704",
     "exception": false,
     "start_time": "2022-06-09T17:47:55.579036",
     "status": "completed"
    },
    "tags": []
   },
   "outputs": [
    {
     "data": {
      "text/html": [
       "<div>\n",
       "<style scoped>\n",
       "    .dataframe tbody tr th:only-of-type {\n",
       "        vertical-align: middle;\n",
       "    }\n",
       "\n",
       "    .dataframe tbody tr th {\n",
       "        vertical-align: top;\n",
       "    }\n",
       "\n",
       "    .dataframe thead th {\n",
       "        text-align: right;\n",
       "    }\n",
       "</style>\n",
       "<table border=\"1\" class=\"dataframe\">\n",
       "  <thead>\n",
       "    <tr style=\"text-align: right;\">\n",
       "      <th></th>\n",
       "      <th>User Id</th>\n",
       "      <th>First Order Date</th>\n",
       "      <th>Second Order Date</th>\n",
       "      <th>Date Diff</th>\n",
       "    </tr>\n",
       "  </thead>\n",
       "  <tbody>\n",
       "    <tr>\n",
       "      <th>0</th>\n",
       "      <td>694.0</td>\n",
       "      <td>2013-04-13</td>\n",
       "      <td>2013-08-18</td>\n",
       "      <td>0</td>\n",
       "    </tr>\n",
       "    <tr>\n",
       "      <th>1</th>\n",
       "      <td>694.0</td>\n",
       "      <td>2013-04-13</td>\n",
       "      <td>2013-08-18</td>\n",
       "      <td>0</td>\n",
       "    </tr>\n",
       "    <tr>\n",
       "      <th>2</th>\n",
       "      <td>694.0</td>\n",
       "      <td>2013-04-13</td>\n",
       "      <td>2013-08-18</td>\n",
       "      <td>0</td>\n",
       "    </tr>\n",
       "    <tr>\n",
       "      <th>3</th>\n",
       "      <td>849.0</td>\n",
       "      <td>2013-07-07</td>\n",
       "      <td>2013-07-31</td>\n",
       "      <td>0</td>\n",
       "    </tr>\n",
       "    <tr>\n",
       "      <th>4</th>\n",
       "      <td>849.0</td>\n",
       "      <td>2013-07-07</td>\n",
       "      <td>2013-07-31</td>\n",
       "      <td>0</td>\n",
       "    </tr>\n",
       "    <tr>\n",
       "      <th>...</th>\n",
       "      <td>...</td>\n",
       "      <td>...</td>\n",
       "      <td>...</td>\n",
       "      <td>...</td>\n",
       "    </tr>\n",
       "    <tr>\n",
       "      <th>8979</th>\n",
       "      <td>284905.0</td>\n",
       "      <td>2018-04-24</td>\n",
       "      <td>2018-05-10</td>\n",
       "      <td>0</td>\n",
       "    </tr>\n",
       "    <tr>\n",
       "      <th>8980</th>\n",
       "      <td>284905.0</td>\n",
       "      <td>2018-04-24</td>\n",
       "      <td>2018-05-10</td>\n",
       "      <td>0</td>\n",
       "    </tr>\n",
       "    <tr>\n",
       "      <th>8981</th>\n",
       "      <td>284905.0</td>\n",
       "      <td>2018-04-24</td>\n",
       "      <td>2018-05-10</td>\n",
       "      <td>0</td>\n",
       "    </tr>\n",
       "    <tr>\n",
       "      <th>8982</th>\n",
       "      <td>284905.0</td>\n",
       "      <td>2018-04-24</td>\n",
       "      <td>2018-05-10</td>\n",
       "      <td>0</td>\n",
       "    </tr>\n",
       "    <tr>\n",
       "      <th>8983</th>\n",
       "      <td>284905.0</td>\n",
       "      <td>2018-04-24</td>\n",
       "      <td>2018-05-10</td>\n",
       "      <td>0</td>\n",
       "    </tr>\n",
       "  </tbody>\n",
       "</table>\n",
       "<p>8984 rows × 4 columns</p>\n",
       "</div>"
      ],
      "text/plain": [
       "       User Id First Order Date Second Order Date  Date Diff\n",
       "0        694.0       2013-04-13        2013-08-18          0\n",
       "1        694.0       2013-04-13        2013-08-18          0\n",
       "2        694.0       2013-04-13        2013-08-18          0\n",
       "3        849.0       2013-07-07        2013-07-31          0\n",
       "4        849.0       2013-07-07        2013-07-31          0\n",
       "...        ...              ...               ...        ...\n",
       "8979  284905.0       2018-04-24        2018-05-10          0\n",
       "8980  284905.0       2018-04-24        2018-05-10          0\n",
       "8981  284905.0       2018-04-24        2018-05-10          0\n",
       "8982  284905.0       2018-04-24        2018-05-10          0\n",
       "8983  284905.0       2018-04-24        2018-05-10          0\n",
       "\n",
       "[8984 rows x 4 columns]"
      ]
     },
     "execution_count": 90,
     "metadata": {},
     "output_type": "execute_result"
    }
   ],
   "source": [
    "sq1('''\n",
    "SELECT first_orders.user_id,\n",
    "       DATE(first_orders.paid_at) AS first_order_date,\n",
    "       DATE(second_orders.paid_at) AS second_order_date,\n",
    "       DATE(second_orders.paid_at) - DATE(first_orders.paid_at) AS date_diff\n",
    "FROM\n",
    "    (SELECT user_id,\n",
    "            invoice_id,\n",
    "            paid_at,\n",
    "            DENSE_RANK() OVER (PARTITION BY user_id\n",
    "                               ORDER BY paid_at ASC) AS order_num\n",
    "   FROM orders) first_orders\n",
    "JOIN\n",
    "  (SELECT user_id,\n",
    "          invoice_id,\n",
    "          paid_at,\n",
    "          DENSE_RANK() OVER (PARTITION BY user_id\n",
    "                             ORDER BY paid_at ASC) AS order_num\n",
    "   FROM orders) second_orders\n",
    "  ON first_orders.user_id = second_orders.user_id\n",
    "WHERE first_orders.order_num = 1\n",
    "  AND second_orders.order_num = 2;\n",
    "\n",
    "''')"
   ]
  },
  {
   "cell_type": "markdown",
   "metadata": {
    "papermill": {
     "duration": 0.174961,
     "end_time": "2022-06-09T17:47:56.427910",
     "exception": false,
     "start_time": "2022-06-09T17:47:56.252949",
     "status": "completed"
    },
    "tags": []
   },
   "source": [
    "<a id=\"filter\"></a>\n",
    "<h2>lets create a filter function  to apply a filter on our data using pandas</h2>"
   ]
  },
  {
   "cell_type": "code",
   "execution_count": 91,
   "metadata": {
    "execution": {
     "iopub.execute_input": "2022-06-09T17:47:56.787943Z",
     "iopub.status.busy": "2022-06-09T17:47:56.787283Z",
     "iopub.status.idle": "2022-06-09T17:48:00.009027Z",
     "shell.execute_reply": "2022-06-09T17:48:00.008309Z"
    },
    "papermill": {
     "duration": 3.403105,
     "end_time": "2022-06-09T17:48:00.009182",
     "exception": false,
     "start_time": "2022-06-09T17:47:56.606077",
     "status": "completed"
    },
    "tags": []
   },
   "outputs": [],
   "source": [
    "#first lets load all the data we have in this dictionary\n",
    "all_data = {} \n",
    "dfs = tables['name'].values\n",
    "for df_name in dfs:\n",
    "    q = '''SELECT *\n",
    "           FROM {}'''.format(df_name)\n",
    "    temp = sq(q)\n",
    "    all_data[df_name] = temp"
   ]
  },
  {
   "cell_type": "code",
   "execution_count": 92,
   "metadata": {
    "execution": {
     "iopub.execute_input": "2022-06-09T17:48:00.417077Z",
     "iopub.status.busy": "2022-06-09T17:48:00.416368Z",
     "iopub.status.idle": "2022-06-09T17:48:00.425141Z",
     "shell.execute_reply": "2022-06-09T17:48:00.425621Z"
    },
    "papermill": {
     "duration": 0.236872,
     "end_time": "2022-06-09T17:48:00.425798",
     "exception": false,
     "start_time": "2022-06-09T17:48:00.188926",
     "status": "completed"
    },
    "tags": []
   },
   "outputs": [],
   "source": [
    "#create a filter funstion that takes the naame of table, the column in this table and the filter to apply\n",
    "def apply_filter():       \n",
    "    print('Let\\'s apply some filters to the data')\n",
    "    \n",
    "    #take the name of table from the user to load it\n",
    "    while True:\n",
    "        print('All data : {}'.format(all_data.keys()))\n",
    "        data_name = str(input('Enter the name of data to apply filter on it or end to close : '))\n",
    "        if data_name.lower()=='end':\n",
    "            return False\n",
    "        if data_name not in all_data.keys():\n",
    "            print('Not in data, Please try again!')\n",
    "        else:\n",
    "            break\n",
    "            \n",
    "    data = all_data[data_name]\n",
    "    \n",
    "    #take the name of column in this table from the user\n",
    "    while True:\n",
    "        print('All columns : {}'.format(all_data[data_name].columns))\n",
    "        column = str(input('Enter the column to apply your filter or end to close : '))\n",
    "        if column.lower()=='end':\n",
    "            return False\n",
    "        if column not in data.columns:\n",
    "            print('Not in data, Please try again!')\n",
    "        else:\n",
    "            break\n",
    "            \n",
    "    col_type = all_data[data_name][column].dtypes\n",
    "\n",
    "        \n",
    "    #take the filter from the user to apply\n",
    "    while True:\n",
    "        if col_type == 'object':\n",
    "            print('Type of column is : {}'.format(col_type),'\\n',all_data[data_name][column].unique())\n",
    "            app_filter = input('Enter the filter (that has the same type) to apply or type end to close  : ')\n",
    "        else: \n",
    "            print('Type of column is : {}'.format(col_type))\n",
    "            app_filter = input('Enter the filter (that has the same type) to apply or type end to close  : ')\n",
    "        if app_filter.lower()=='end':\n",
    "            return False\n",
    "        if app_filter not in data[column].unique():\n",
    "            print('Not in data, Please try again!')\n",
    "            print(app_filter,type(app_filter))\n",
    "        else:\n",
    "            break\n",
    "\n",
    "    print('-'*40)\n",
    "    return data_name,column,app_filter"
   ]
  },
  {
   "cell_type": "markdown",
   "metadata": {
    "papermill": {
     "duration": 0.176999,
     "end_time": "2022-06-09T17:48:00.781104",
     "exception": false,
     "start_time": "2022-06-09T17:48:00.604105",
     "status": "completed"
    },
    "tags": []
   },
   "source": [
    "### Just remove the comment and run the code"
   ]
  },
  {
   "cell_type": "code",
   "execution_count": 95,
   "metadata": {
    "execution": {
     "iopub.execute_input": "2022-06-09T17:48:01.143210Z",
     "iopub.status.busy": "2022-06-09T17:48:01.142533Z",
     "iopub.status.idle": "2022-06-09T17:48:01.146059Z",
     "shell.execute_reply": "2022-06-09T17:48:01.146531Z"
    },
    "papermill": {
     "duration": 0.187558,
     "end_time": "2022-06-09T17:48:01.146707",
     "exception": false,
     "start_time": "2022-06-09T17:48:00.959149",
     "status": "completed"
    },
    "tags": []
   },
   "outputs": [],
   "source": [
    "def main():\n",
    "    while True:\n",
    "        \n",
    "        data_name,column,app_filter=apply_filter()\n",
    "        print('Your data is ready \\n')\n",
    "        data = all_data[data_name]\n",
    "        new_data = data[data[column]==app_filter]\n",
    "        print(new_data)\n",
    "        restart = input('\\nWould you like to restart? Enter yes or no.\\n')\n",
    "        if restart.lower() != 'yes':\n",
    "            break\n",
    "\n",
    "#  return new_data\n",
    "    \n",
    "# if __name__ == \"__main__\":\n",
    "#     main()"
   ]
  },
  {
   "cell_type": "markdown",
   "metadata": {
    "papermill": {
     "duration": 0.175066,
     "end_time": "2022-06-09T17:48:01.500726",
     "exception": false,
     "start_time": "2022-06-09T17:48:01.325660",
     "status": "completed"
    },
    "tags": []
   },
   "source": [
    "<h1 align=\"center\"> Thanks</h1>"
   ]
  }
 ],
 "metadata": {
  "kernelspec": {
   "display_name": "Python 3 (ipykernel)",
   "language": "python",
   "name": "python3"
  },
  "language_info": {
   "codemirror_mode": {
    "name": "ipython",
    "version": 3
   },
   "file_extension": ".py",
   "mimetype": "text/x-python",
   "name": "python",
   "nbconvert_exporter": "python",
   "pygments_lexer": "ipython3",
   "version": "3.9.7"
  },
  "papermill": {
   "default_parameters": {},
   "duration": 74.117708,
   "end_time": "2022-06-09T17:48:03.088371",
   "environment_variables": {},
   "exception": null,
   "input_path": "__notebook__.ipynb",
   "output_path": "__notebook__.ipynb",
   "parameters": {},
   "start_time": "2022-06-09T17:46:48.970663",
   "version": "2.2.2"
  }
 },
 "nbformat": 4,
 "nbformat_minor": 4
}
